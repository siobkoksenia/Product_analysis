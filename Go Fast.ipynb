{
 "cells": [
  {
   "cell_type": "markdown",
   "id": "01413116",
   "metadata": {},
   "source": [
    "## Проект: Исследование пользователей (с платной подпиской и без) сервиса аренды самокатов GoFast и их поездки\n",
    "\n",
    "Цель: Изучить пользователей(с платной подпиской и без) сервиса аренды самокатов GoFast и их поездки. <br>\n",
    "Задачи:\n",
    "1) Исследовать частоту встречаемости городов, соотношение пользователей с подпиской и без подписки, возраст пользователей, расстояние, которое пользователь преодолел за одну поездку, продолжительность поездок;<br>\n",
    "2) Исследовать информацию о расстоянии и длительности поездок пользователей с подпиской и без;<br>\n",
    "3) Исследовать выручку, которую приносят пользователи с подпиской и без;<br>\n",
    "4) Проверить гипотезу о том, что пользователи с подпиской тратят больше времени на поездки, чем пользователи без подписки;<br>\n",
    "5) Проверить гипотезу о том, что среднее расстояние, которое проезжают пользователи с подпиской за одну поездку, не превышает 3130 метров;<br>\n",
    "6) Проверить гипотезу о том, что помесячная выручка от пользователей с подпиской по месяцам выше, чем выручка от пользователей без подписки;<br>\n",
    "7) Выяснить, какое минимальное количество промокодов нужно разослать, чтобы вероятность не выполнить план была примерно 5 %;<br>\n",
    "8) Оценить вероятность того, что уведомление откроют не более 399,5399,5 тыс. пользователей.<br>\n",
    "\n",
    "\n",
    "Первичные данные: <br>\n",
    "Таблица о пользователях `user_go`:<br>\n",
    "`user_id` - уникальный идентификатор пользователя<br>\n",
    "`name` - имя пользователя<br>\n",
    "`age` - возраст<br>\n",
    "`city` - город<br>\n",
    "`subscription_type` - тип подписки (free, ultra)<br><br>\n",
    "Таблица о поездках `rides_go`:<br>\n",
    "`user_id` - уникальный идентификатор пользователя<br>\n",
    "`distance` - расстояние, которое пользователь проехал в текущей сессии (в метрах)<br>\n",
    "`duration` - продолжительность сессии (в минутах) — время с того момента, как пользователь нажал кнопку «Начать поездку» до момента, как он нажал кнопку «Завершить поездку»<br>\n",
    "`date` - дата совершения поездки<br><br>\n",
    "Таблица о подписках `subscriptions_go`:<br>\n",
    "`subscription_type` - тип подписки<br>\n",
    "`minute_price` - стоимость одной минуты поездки по данной подписке<br>\n",
    "`start_ride_price` - стоимость начала поездки<br>\n",
    "`subscription_fee` - стоимость ежемесячного платежа\n",
    "<br><br>\n",
    "Чтобы совершать поездки по городу, пользователи сервиса GoFast пользуются мобильным приложением. Сервисом можно пользоваться:\n",
    "\n",
    "    без подписки\n",
    "      \n",
    "        абонентская плата отсутствует;\n",
    "        стоимость одной минуты поездки — 8 рублей;\n",
    "        стоимость старта (начала поездки) — 50 рублей;\n",
    "    с подпиской Ultra\n",
    "      \n",
    "        абонентская плата — 199 рублей в месяц;\n",
    "        стоимость одной минуты поездки — 6 рублей;\n",
    "        стоимость старта — бесплатно."
   ]
  },
  {
   "cell_type": "code",
   "execution_count": 1,
   "id": "0cab02af",
   "metadata": {},
   "outputs": [],
   "source": [
    "import pandas as pd\n",
    "import scipy.stats as st\n",
    "import matplotlib.pyplot as plt\n",
    "import math\n",
    "import numpy as np\n",
    "from scipy.stats import binom\n",
    "from math import sqrt"
   ]
  },
  {
   "cell_type": "code",
   "execution_count": 2,
   "id": "9fff32d1",
   "metadata": {},
   "outputs": [],
   "source": [
    "# изменим формат представления чисел с плавающей точкой\n",
    "pd.set_option('display.float_format', '{:,.2f}'.format)"
   ]
  },
  {
   "cell_type": "markdown",
   "id": "9b4e6737",
   "metadata": {},
   "source": [
    "#### Шаг 1. Загрузка данных"
   ]
  },
  {
   "cell_type": "code",
   "execution_count": 3,
   "id": "1375145d",
   "metadata": {},
   "outputs": [
    {
     "data": {
      "text/html": [
       "<div>\n",
       "<style scoped>\n",
       "    .dataframe tbody tr th:only-of-type {\n",
       "        vertical-align: middle;\n",
       "    }\n",
       "\n",
       "    .dataframe tbody tr th {\n",
       "        vertical-align: top;\n",
       "    }\n",
       "\n",
       "    .dataframe thead th {\n",
       "        text-align: right;\n",
       "    }\n",
       "</style>\n",
       "<table border=\"1\" class=\"dataframe\">\n",
       "  <thead>\n",
       "    <tr style=\"text-align: right;\">\n",
       "      <th></th>\n",
       "      <th>user_id</th>\n",
       "      <th>name</th>\n",
       "      <th>age</th>\n",
       "      <th>city</th>\n",
       "      <th>subscription_type</th>\n",
       "    </tr>\n",
       "  </thead>\n",
       "  <tbody>\n",
       "    <tr>\n",
       "      <th>0</th>\n",
       "      <td>1</td>\n",
       "      <td>Кира</td>\n",
       "      <td>22</td>\n",
       "      <td>Тюмень</td>\n",
       "      <td>ultra</td>\n",
       "    </tr>\n",
       "    <tr>\n",
       "      <th>1</th>\n",
       "      <td>2</td>\n",
       "      <td>Станислав</td>\n",
       "      <td>31</td>\n",
       "      <td>Омск</td>\n",
       "      <td>ultra</td>\n",
       "    </tr>\n",
       "    <tr>\n",
       "      <th>2</th>\n",
       "      <td>3</td>\n",
       "      <td>Алексей</td>\n",
       "      <td>20</td>\n",
       "      <td>Москва</td>\n",
       "      <td>ultra</td>\n",
       "    </tr>\n",
       "    <tr>\n",
       "      <th>3</th>\n",
       "      <td>4</td>\n",
       "      <td>Константин</td>\n",
       "      <td>26</td>\n",
       "      <td>Ростов-на-Дону</td>\n",
       "      <td>ultra</td>\n",
       "    </tr>\n",
       "    <tr>\n",
       "      <th>4</th>\n",
       "      <td>5</td>\n",
       "      <td>Адель</td>\n",
       "      <td>28</td>\n",
       "      <td>Омск</td>\n",
       "      <td>ultra</td>\n",
       "    </tr>\n",
       "  </tbody>\n",
       "</table>\n",
       "</div>"
      ],
      "text/plain": [
       "   user_id        name  age            city subscription_type\n",
       "0        1        Кира   22          Тюмень             ultra\n",
       "1        2   Станислав   31            Омск             ultra\n",
       "2        3     Алексей   20          Москва             ultra\n",
       "3        4  Константин   26  Ростов-на-Дону             ultra\n",
       "4        5       Адель   28            Омск             ultra"
      ]
     },
     "metadata": {},
     "output_type": "display_data"
    },
    {
     "name": "stdout",
     "output_type": "stream",
     "text": [
      "<class 'pandas.core.frame.DataFrame'>\n",
      "RangeIndex: 1565 entries, 0 to 1564\n",
      "Data columns (total 5 columns):\n",
      " #   Column             Non-Null Count  Dtype \n",
      "---  ------             --------------  ----- \n",
      " 0   user_id            1565 non-null   int64 \n",
      " 1   name               1565 non-null   object\n",
      " 2   age                1565 non-null   int64 \n",
      " 3   city               1565 non-null   object\n",
      " 4   subscription_type  1565 non-null   object\n",
      "dtypes: int64(2), object(3)\n",
      "memory usage: 61.3+ KB\n"
     ]
    }
   ],
   "source": [
    "# загрузим информацию о пользователях\n",
    "users_go=pd.read_csv('/datasets/users_go.csv')\n",
    "display(users_go.head())\n",
    "users_go.info()"
   ]
  },
  {
   "cell_type": "code",
   "execution_count": 4,
   "id": "64c5272d",
   "metadata": {},
   "outputs": [
    {
     "data": {
      "text/html": [
       "<div>\n",
       "<style scoped>\n",
       "    .dataframe tbody tr th:only-of-type {\n",
       "        vertical-align: middle;\n",
       "    }\n",
       "\n",
       "    .dataframe tbody tr th {\n",
       "        vertical-align: top;\n",
       "    }\n",
       "\n",
       "    .dataframe thead th {\n",
       "        text-align: right;\n",
       "    }\n",
       "</style>\n",
       "<table border=\"1\" class=\"dataframe\">\n",
       "  <thead>\n",
       "    <tr style=\"text-align: right;\">\n",
       "      <th></th>\n",
       "      <th>user_id</th>\n",
       "      <th>distance</th>\n",
       "      <th>duration</th>\n",
       "      <th>date</th>\n",
       "    </tr>\n",
       "  </thead>\n",
       "  <tbody>\n",
       "    <tr>\n",
       "      <th>0</th>\n",
       "      <td>1</td>\n",
       "      <td>4,409.92</td>\n",
       "      <td>25.60</td>\n",
       "      <td>2021-01-01</td>\n",
       "    </tr>\n",
       "    <tr>\n",
       "      <th>1</th>\n",
       "      <td>1</td>\n",
       "      <td>2,617.59</td>\n",
       "      <td>15.82</td>\n",
       "      <td>2021-01-18</td>\n",
       "    </tr>\n",
       "    <tr>\n",
       "      <th>2</th>\n",
       "      <td>1</td>\n",
       "      <td>754.16</td>\n",
       "      <td>6.23</td>\n",
       "      <td>2021-04-20</td>\n",
       "    </tr>\n",
       "    <tr>\n",
       "      <th>3</th>\n",
       "      <td>1</td>\n",
       "      <td>2,694.78</td>\n",
       "      <td>18.51</td>\n",
       "      <td>2021-08-11</td>\n",
       "    </tr>\n",
       "    <tr>\n",
       "      <th>4</th>\n",
       "      <td>1</td>\n",
       "      <td>4,028.69</td>\n",
       "      <td>26.27</td>\n",
       "      <td>2021-08-28</td>\n",
       "    </tr>\n",
       "  </tbody>\n",
       "</table>\n",
       "</div>"
      ],
      "text/plain": [
       "   user_id  distance  duration        date\n",
       "0        1  4,409.92     25.60  2021-01-01\n",
       "1        1  2,617.59     15.82  2021-01-18\n",
       "2        1    754.16      6.23  2021-04-20\n",
       "3        1  2,694.78     18.51  2021-08-11\n",
       "4        1  4,028.69     26.27  2021-08-28"
      ]
     },
     "metadata": {},
     "output_type": "display_data"
    },
    {
     "name": "stdout",
     "output_type": "stream",
     "text": [
      "<class 'pandas.core.frame.DataFrame'>\n",
      "RangeIndex: 18068 entries, 0 to 18067\n",
      "Data columns (total 4 columns):\n",
      " #   Column    Non-Null Count  Dtype  \n",
      "---  ------    --------------  -----  \n",
      " 0   user_id   18068 non-null  int64  \n",
      " 1   distance  18068 non-null  float64\n",
      " 2   duration  18068 non-null  float64\n",
      " 3   date      18068 non-null  object \n",
      "dtypes: float64(2), int64(1), object(1)\n",
      "memory usage: 564.8+ KB\n"
     ]
    }
   ],
   "source": [
    "# загрузим информацию о поездках\n",
    "rides_go=pd.read_csv('/datasets/rides_go.csv')\n",
    "display(rides_go.head())\n",
    "rides_go.info()"
   ]
  },
  {
   "cell_type": "code",
   "execution_count": 5,
   "id": "0bbe7801",
   "metadata": {},
   "outputs": [
    {
     "data": {
      "text/html": [
       "<div>\n",
       "<style scoped>\n",
       "    .dataframe tbody tr th:only-of-type {\n",
       "        vertical-align: middle;\n",
       "    }\n",
       "\n",
       "    .dataframe tbody tr th {\n",
       "        vertical-align: top;\n",
       "    }\n",
       "\n",
       "    .dataframe thead th {\n",
       "        text-align: right;\n",
       "    }\n",
       "</style>\n",
       "<table border=\"1\" class=\"dataframe\">\n",
       "  <thead>\n",
       "    <tr style=\"text-align: right;\">\n",
       "      <th></th>\n",
       "      <th>subscription_type</th>\n",
       "      <th>minute_price</th>\n",
       "      <th>start_ride_price</th>\n",
       "      <th>subscription_fee</th>\n",
       "    </tr>\n",
       "  </thead>\n",
       "  <tbody>\n",
       "    <tr>\n",
       "      <th>0</th>\n",
       "      <td>free</td>\n",
       "      <td>8</td>\n",
       "      <td>50</td>\n",
       "      <td>0</td>\n",
       "    </tr>\n",
       "    <tr>\n",
       "      <th>1</th>\n",
       "      <td>ultra</td>\n",
       "      <td>6</td>\n",
       "      <td>0</td>\n",
       "      <td>199</td>\n",
       "    </tr>\n",
       "  </tbody>\n",
       "</table>\n",
       "</div>"
      ],
      "text/plain": [
       "  subscription_type  minute_price  start_ride_price  subscription_fee\n",
       "0              free             8                50                 0\n",
       "1             ultra             6                 0               199"
      ]
     },
     "metadata": {},
     "output_type": "display_data"
    },
    {
     "name": "stdout",
     "output_type": "stream",
     "text": [
      "<class 'pandas.core.frame.DataFrame'>\n",
      "RangeIndex: 2 entries, 0 to 1\n",
      "Data columns (total 4 columns):\n",
      " #   Column             Non-Null Count  Dtype \n",
      "---  ------             --------------  ----- \n",
      " 0   subscription_type  2 non-null      object\n",
      " 1   minute_price       2 non-null      int64 \n",
      " 2   start_ride_price   2 non-null      int64 \n",
      " 3   subscription_fee   2 non-null      int64 \n",
      "dtypes: int64(3), object(1)\n",
      "memory usage: 192.0+ bytes\n"
     ]
    }
   ],
   "source": [
    "# загрузим информацию о подписках\n",
    "subscriptions_go=pd.read_csv('/datasets/subscriptions_go.csv')\n",
    "display(subscriptions_go.head())\n",
    "subscriptions_go.info()"
   ]
  },
  {
   "cell_type": "markdown",
   "id": "4574e44e",
   "metadata": {},
   "source": [
    "**Вывод:**\n",
    "Загружена информация о пользователях, их поездках и типах подписок. Всего в выборке информация о 1565 пользователях, 18 068 поездок и 2 типах подписок (free, ultra). Столбцы имеют корректное название. Нужно исправить тип столбца date в таблице rides_go на дату."
   ]
  },
  {
   "cell_type": "markdown",
   "id": "3a4a2f0c",
   "metadata": {},
   "source": [
    "#### Шаг 2. Предобработка данных"
   ]
  },
  {
   "cell_type": "code",
   "execution_count": 6,
   "id": "613e59fd",
   "metadata": {},
   "outputs": [],
   "source": [
    "# исправим тип столбца date на дату\n",
    "rides_go['date']=pd.to_datetime(rides_go['date'], format='%Y-%m-%d')"
   ]
  },
  {
   "cell_type": "code",
   "execution_count": 7,
   "id": "2f0cc446",
   "metadata": {},
   "outputs": [
    {
     "name": "stdout",
     "output_type": "stream",
     "text": [
      "Кол-во пропущенных значений в таблице users_go: 0\n",
      "Кол-во пропущенных значений в таблице rides_go: 0\n",
      "Кол-во пропущенных значений в таблице subscriptions_go: 0\n"
     ]
    }
   ],
   "source": [
    "# Проверим, есть ли в данных пропущенные значения\n",
    "print(\"Кол-во пропущенных значений в таблице users_go:\",users_go.isna().sum().sum())\n",
    "print(\"Кол-во пропущенных значений в таблице rides_go:\",rides_go.isna().sum().sum())\n",
    "print(\"Кол-во пропущенных значений в таблице subscriptions_go:\",subscriptions_go.isna().sum().sum())"
   ]
  },
  {
   "cell_type": "markdown",
   "id": "883af3b3",
   "metadata": {},
   "source": [
    "Пропущенных значений нет. Нам очень повезло."
   ]
  },
  {
   "cell_type": "code",
   "execution_count": 8,
   "id": "aa009b4b",
   "metadata": {},
   "outputs": [
    {
     "name": "stdout",
     "output_type": "stream",
     "text": [
      "Кол-во дубликатов в таблице users_go: 31\n",
      "Кол-во дубликатов в таблице rides_go: 0\n",
      "Кол-во дубликатов в таблице subscriptions_go: 0\n"
     ]
    }
   ],
   "source": [
    "# Проверим, есть ли дубликаты в данных\n",
    "print(\"Кол-во дубликатов в таблице users_go:\",users_go.duplicated().sum())\n",
    "print(\"Кол-во дубликатов в таблице rides_go:\",rides_go.duplicated().sum())\n",
    "print(\"Кол-во дубликатов в таблице subscriptions_go:\",subscriptions_go.duplicated().sum())"
   ]
  },
  {
   "cell_type": "code",
   "execution_count": 9,
   "id": "3450f470",
   "metadata": {},
   "outputs": [
    {
     "data": {
      "text/html": [
       "<div>\n",
       "<style scoped>\n",
       "    .dataframe tbody tr th:only-of-type {\n",
       "        vertical-align: middle;\n",
       "    }\n",
       "\n",
       "    .dataframe tbody tr th {\n",
       "        vertical-align: top;\n",
       "    }\n",
       "\n",
       "    .dataframe thead th {\n",
       "        text-align: right;\n",
       "    }\n",
       "</style>\n",
       "<table border=\"1\" class=\"dataframe\">\n",
       "  <thead>\n",
       "    <tr style=\"text-align: right;\">\n",
       "      <th></th>\n",
       "      <th>user_id</th>\n",
       "      <th>name</th>\n",
       "      <th>age</th>\n",
       "      <th>city</th>\n",
       "      <th>subscription_type</th>\n",
       "    </tr>\n",
       "  </thead>\n",
       "  <tbody>\n",
       "    <tr>\n",
       "      <th>1534</th>\n",
       "      <td>293</td>\n",
       "      <td>Агата</td>\n",
       "      <td>26</td>\n",
       "      <td>Краснодар</td>\n",
       "      <td>ultra</td>\n",
       "    </tr>\n",
       "    <tr>\n",
       "      <th>1535</th>\n",
       "      <td>16</td>\n",
       "      <td>Амалия</td>\n",
       "      <td>27</td>\n",
       "      <td>Краснодар</td>\n",
       "      <td>ultra</td>\n",
       "    </tr>\n",
       "    <tr>\n",
       "      <th>1536</th>\n",
       "      <td>909</td>\n",
       "      <td>Константин</td>\n",
       "      <td>20</td>\n",
       "      <td>Екатеринбург</td>\n",
       "      <td>free</td>\n",
       "    </tr>\n",
       "    <tr>\n",
       "      <th>1537</th>\n",
       "      <td>403</td>\n",
       "      <td>Полина</td>\n",
       "      <td>19</td>\n",
       "      <td>Сочи</td>\n",
       "      <td>ultra</td>\n",
       "    </tr>\n",
       "    <tr>\n",
       "      <th>1538</th>\n",
       "      <td>908</td>\n",
       "      <td>Рустам</td>\n",
       "      <td>30</td>\n",
       "      <td>Тюмень</td>\n",
       "      <td>free</td>\n",
       "    </tr>\n",
       "    <tr>\n",
       "      <th>1539</th>\n",
       "      <td>43</td>\n",
       "      <td>Стефания</td>\n",
       "      <td>22</td>\n",
       "      <td>Омск</td>\n",
       "      <td>ultra</td>\n",
       "    </tr>\n",
       "    <tr>\n",
       "      <th>1540</th>\n",
       "      <td>127</td>\n",
       "      <td>Павел</td>\n",
       "      <td>25</td>\n",
       "      <td>Пятигорск</td>\n",
       "      <td>ultra</td>\n",
       "    </tr>\n",
       "    <tr>\n",
       "      <th>1541</th>\n",
       "      <td>659</td>\n",
       "      <td>Злата</td>\n",
       "      <td>27</td>\n",
       "      <td>Ростов-на-Дону</td>\n",
       "      <td>ultra</td>\n",
       "    </tr>\n",
       "    <tr>\n",
       "      <th>1542</th>\n",
       "      <td>204</td>\n",
       "      <td>Руслан</td>\n",
       "      <td>30</td>\n",
       "      <td>Пятигорск</td>\n",
       "      <td>ultra</td>\n",
       "    </tr>\n",
       "    <tr>\n",
       "      <th>1543</th>\n",
       "      <td>153</td>\n",
       "      <td>Герман</td>\n",
       "      <td>23</td>\n",
       "      <td>Москва</td>\n",
       "      <td>ultra</td>\n",
       "    </tr>\n",
       "    <tr>\n",
       "      <th>1544</th>\n",
       "      <td>1245</td>\n",
       "      <td>Регина</td>\n",
       "      <td>27</td>\n",
       "      <td>Пятигорск</td>\n",
       "      <td>free</td>\n",
       "    </tr>\n",
       "    <tr>\n",
       "      <th>1545</th>\n",
       "      <td>807</td>\n",
       "      <td>Александр</td>\n",
       "      <td>28</td>\n",
       "      <td>Екатеринбург</td>\n",
       "      <td>free</td>\n",
       "    </tr>\n",
       "    <tr>\n",
       "      <th>1546</th>\n",
       "      <td>924</td>\n",
       "      <td>Мария</td>\n",
       "      <td>23</td>\n",
       "      <td>Пятигорск</td>\n",
       "      <td>free</td>\n",
       "    </tr>\n",
       "    <tr>\n",
       "      <th>1547</th>\n",
       "      <td>635</td>\n",
       "      <td>Герман</td>\n",
       "      <td>21</td>\n",
       "      <td>Москва</td>\n",
       "      <td>ultra</td>\n",
       "    </tr>\n",
       "    <tr>\n",
       "      <th>1548</th>\n",
       "      <td>136</td>\n",
       "      <td>Марсель</td>\n",
       "      <td>25</td>\n",
       "      <td>Тюмень</td>\n",
       "      <td>ultra</td>\n",
       "    </tr>\n",
       "    <tr>\n",
       "      <th>1549</th>\n",
       "      <td>108</td>\n",
       "      <td>Влада</td>\n",
       "      <td>29</td>\n",
       "      <td>Тюмень</td>\n",
       "      <td>ultra</td>\n",
       "    </tr>\n",
       "    <tr>\n",
       "      <th>1550</th>\n",
       "      <td>737</td>\n",
       "      <td>Мелания</td>\n",
       "      <td>27</td>\n",
       "      <td>Ростов-на-Дону</td>\n",
       "      <td>free</td>\n",
       "    </tr>\n",
       "    <tr>\n",
       "      <th>1551</th>\n",
       "      <td>666</td>\n",
       "      <td>Зарина</td>\n",
       "      <td>29</td>\n",
       "      <td>Москва</td>\n",
       "      <td>ultra</td>\n",
       "    </tr>\n",
       "    <tr>\n",
       "      <th>1552</th>\n",
       "      <td>297</td>\n",
       "      <td>Егор</td>\n",
       "      <td>33</td>\n",
       "      <td>Пятигорск</td>\n",
       "      <td>ultra</td>\n",
       "    </tr>\n",
       "    <tr>\n",
       "      <th>1553</th>\n",
       "      <td>121</td>\n",
       "      <td>Алина</td>\n",
       "      <td>25</td>\n",
       "      <td>Пятигорск</td>\n",
       "      <td>ultra</td>\n",
       "    </tr>\n",
       "    <tr>\n",
       "      <th>1554</th>\n",
       "      <td>1198</td>\n",
       "      <td>Демид</td>\n",
       "      <td>29</td>\n",
       "      <td>Ростов-на-Дону</td>\n",
       "      <td>free</td>\n",
       "    </tr>\n",
       "    <tr>\n",
       "      <th>1555</th>\n",
       "      <td>72</td>\n",
       "      <td>Никита</td>\n",
       "      <td>25</td>\n",
       "      <td>Москва</td>\n",
       "      <td>ultra</td>\n",
       "    </tr>\n",
       "    <tr>\n",
       "      <th>1556</th>\n",
       "      <td>422</td>\n",
       "      <td>Кирилл</td>\n",
       "      <td>27</td>\n",
       "      <td>Сочи</td>\n",
       "      <td>ultra</td>\n",
       "    </tr>\n",
       "    <tr>\n",
       "      <th>1557</th>\n",
       "      <td>611</td>\n",
       "      <td>Владимир</td>\n",
       "      <td>28</td>\n",
       "      <td>Омск</td>\n",
       "      <td>ultra</td>\n",
       "    </tr>\n",
       "    <tr>\n",
       "      <th>1558</th>\n",
       "      <td>1237</td>\n",
       "      <td>Евгения</td>\n",
       "      <td>23</td>\n",
       "      <td>Тюмень</td>\n",
       "      <td>free</td>\n",
       "    </tr>\n",
       "    <tr>\n",
       "      <th>1559</th>\n",
       "      <td>209</td>\n",
       "      <td>Андрей</td>\n",
       "      <td>23</td>\n",
       "      <td>Омск</td>\n",
       "      <td>ultra</td>\n",
       "    </tr>\n",
       "    <tr>\n",
       "      <th>1560</th>\n",
       "      <td>829</td>\n",
       "      <td>Федор</td>\n",
       "      <td>29</td>\n",
       "      <td>Пятигорск</td>\n",
       "      <td>free</td>\n",
       "    </tr>\n",
       "    <tr>\n",
       "      <th>1561</th>\n",
       "      <td>809</td>\n",
       "      <td>Юрий</td>\n",
       "      <td>26</td>\n",
       "      <td>Сочи</td>\n",
       "      <td>free</td>\n",
       "    </tr>\n",
       "    <tr>\n",
       "      <th>1562</th>\n",
       "      <td>307</td>\n",
       "      <td>Ясмина</td>\n",
       "      <td>19</td>\n",
       "      <td>Краснодар</td>\n",
       "      <td>ultra</td>\n",
       "    </tr>\n",
       "    <tr>\n",
       "      <th>1563</th>\n",
       "      <td>47</td>\n",
       "      <td>Юрий</td>\n",
       "      <td>28</td>\n",
       "      <td>Тюмень</td>\n",
       "      <td>ultra</td>\n",
       "    </tr>\n",
       "    <tr>\n",
       "      <th>1564</th>\n",
       "      <td>1045</td>\n",
       "      <td>Артемий</td>\n",
       "      <td>28</td>\n",
       "      <td>Ростов-на-Дону</td>\n",
       "      <td>free</td>\n",
       "    </tr>\n",
       "  </tbody>\n",
       "</table>\n",
       "</div>"
      ],
      "text/plain": [
       "      user_id        name  age            city subscription_type\n",
       "1534      293       Агата   26       Краснодар             ultra\n",
       "1535       16      Амалия   27       Краснодар             ultra\n",
       "1536      909  Константин   20    Екатеринбург              free\n",
       "1537      403      Полина   19            Сочи             ultra\n",
       "1538      908      Рустам   30          Тюмень              free\n",
       "1539       43    Стефания   22            Омск             ultra\n",
       "1540      127       Павел   25       Пятигорск             ultra\n",
       "1541      659       Злата   27  Ростов-на-Дону             ultra\n",
       "1542      204      Руслан   30       Пятигорск             ultra\n",
       "1543      153      Герман   23          Москва             ultra\n",
       "1544     1245      Регина   27       Пятигорск              free\n",
       "1545      807   Александр   28    Екатеринбург              free\n",
       "1546      924       Мария   23       Пятигорск              free\n",
       "1547      635      Герман   21          Москва             ultra\n",
       "1548      136     Марсель   25          Тюмень             ultra\n",
       "1549      108       Влада   29          Тюмень             ultra\n",
       "1550      737     Мелания   27  Ростов-на-Дону              free\n",
       "1551      666      Зарина   29          Москва             ultra\n",
       "1552      297        Егор   33       Пятигорск             ultra\n",
       "1553      121       Алина   25       Пятигорск             ultra\n",
       "1554     1198       Демид   29  Ростов-на-Дону              free\n",
       "1555       72      Никита   25          Москва             ultra\n",
       "1556      422      Кирилл   27            Сочи             ultra\n",
       "1557      611    Владимир   28            Омск             ultra\n",
       "1558     1237     Евгения   23          Тюмень              free\n",
       "1559      209      Андрей   23            Омск             ultra\n",
       "1560      829       Федор   29       Пятигорск              free\n",
       "1561      809        Юрий   26            Сочи              free\n",
       "1562      307      Ясмина   19       Краснодар             ultra\n",
       "1563       47        Юрий   28          Тюмень             ultra\n",
       "1564     1045     Артемий   28  Ростов-на-Дону              free"
      ]
     },
     "execution_count": 9,
     "metadata": {},
     "output_type": "execute_result"
    }
   ],
   "source": [
    "# В таблице users_go есть 31 дубликат, посмотрим\n",
    "users_go[users_go.duplicated()]"
   ]
  },
  {
   "cell_type": "markdown",
   "id": "277fb03a",
   "metadata": {},
   "source": [
    "Какой-то видимой причины, с которой могло быть связано появление дубликатов я не вижу. Возможно как-то сбой при выгрузке данных.\n",
    "Удалим дубликаты."
   ]
  },
  {
   "cell_type": "code",
   "execution_count": 10,
   "id": "d6fd9c8a",
   "metadata": {},
   "outputs": [],
   "source": [
    "users_go=users_go.drop_duplicates()"
   ]
  },
  {
   "cell_type": "code",
   "execution_count": 11,
   "id": "c424a771",
   "metadata": {},
   "outputs": [
    {
     "data": {
      "text/plain": [
       "array(['Кира', 'Станислав', 'Алексей', 'Константин', 'Адель', 'Регина',\n",
       "       'Игорь', 'Юрий', 'Ян', 'Валерий', 'Агата', 'Марк', 'Ева',\n",
       "       'Антонина', 'Валерия', 'Амалия', 'Даниил', 'Аделина', 'Святогор',\n",
       "       'Борис', 'Вероника', 'Ростислав', 'Назар', 'Эдуард', 'Василий',\n",
       "       'Денис', 'Тамара', 'Николай', 'Эвелина', 'Федор', 'Руслан', 'Иван',\n",
       "       'Любовь', 'Ярослава', 'Майя', 'Ильдар', 'Данила', 'Нина',\n",
       "       'Стефания', 'Ясмина', 'Дмитрий', 'Александр', 'Одиссей', 'Арсений',\n",
       "       'Алла', 'Таисия', 'Максим', 'Юлиана', 'Павел', 'Карина', 'Алиса',\n",
       "       'Лидия', 'Рамиль', 'Родион', 'Ника', 'Оксана', 'Анастасия',\n",
       "       'Маргарита', 'Вера', 'Тимур', 'Никита', 'Лев', 'Влад', 'Артур',\n",
       "       'Анна', 'Ольга', 'Вячеслав', 'Ксения', 'Виталина', 'Владислав',\n",
       "       'Тамерлан', 'Амина', 'Вадим', 'Олеся', 'Зарина', 'Егор', 'Гордей',\n",
       "       'Лилия', 'Святослав', 'Роберт', 'Амир', 'Влада', 'Богдан',\n",
       "       'Полина', 'Марат', 'Елисей', 'Макар', 'Алина', 'Глеб', 'Андрей',\n",
       "       'Альбина', 'Людмила', 'Марсель', 'Милена', 'Диана', 'Дарина',\n",
       "       'Данил', 'Артемий', 'Лиана', 'Альберт', 'Герман', 'Жанна', 'Нелли',\n",
       "       'Евгения', 'Ариана', 'Самира', 'Захар', 'Эльвира', 'Екатерина',\n",
       "       'Инна', 'Демид', 'Яна', 'Михаил', 'Татьяна', 'Степан', 'Мелания',\n",
       "       'Тимофей', 'Ирина', 'Анжелика', 'Владислава', 'Елизавета',\n",
       "       'Мадина', 'Снежана', 'Даниэль', 'Рустам', 'Каролина', 'Ангелина',\n",
       "       'Владимир', 'Виктория', 'Валентина', 'Семен', 'Арина', 'Лариса',\n",
       "       'Есения', 'Галина', 'Кирилл', 'Игнат', 'Виталий', 'Эмилия',\n",
       "       'Виолетта', 'Яромир', 'Софья', 'Мирослава', 'Евгений', 'Варвара',\n",
       "       'Платон', 'Наталия', 'Анатолий', 'Кристина', 'Всеволод', 'Дарья',\n",
       "       'Наташа', 'Мария', 'Марина', 'Василиса', 'Юлия', 'Илья', 'Злата',\n",
       "       'Роман', 'Наталья', 'Элина', 'Арсен', 'Айдар', 'Алия', 'Виктор',\n",
       "       'Мирон', 'Ульяна', 'Георгий', 'Петр', 'Эльмира', 'Олег', 'Дамир',\n",
       "       'Самир', 'Ярослав', 'Камилла', 'Сергей', 'Эмиль', 'Радмир',\n",
       "       'Савелий', 'Елена', 'Антон', 'Мирослав', 'София', 'Тихон', 'Артём',\n",
       "       'Давид', 'Григорий', 'Алёна', 'Светлана', 'Леонид', 'Александра',\n",
       "       'Василина', 'Милана', 'Матвей'], dtype=object)"
      ]
     },
     "execution_count": 11,
     "metadata": {},
     "output_type": "execute_result"
    }
   ],
   "source": [
    "# Явные дубликаты мы удалили, теперь нужно изучить неявные дубликаты и аномалии\n",
    "# Начнем с таблицы users_go\n",
    "users_go['name'].unique()"
   ]
  },
  {
   "cell_type": "code",
   "execution_count": 12,
   "id": "02125b26",
   "metadata": {},
   "outputs": [
    {
     "data": {
      "text/plain": [
       "<AxesSubplot:ylabel='Frequency'>"
      ]
     },
     "execution_count": 12,
     "metadata": {},
     "output_type": "execute_result"
    },
    {
     "data": {
      "image/png": "[encoded data removed]",
      "text/plain": [
       "<Figure size 432x288 with 1 Axes>"
      ]
     },
     "metadata": {
      "needs_background": "light"
     },
     "output_type": "display_data"
    }
   ],
   "source": [
    "users_go['age'].plot(kind='hist', bins=20)"
   ]
  },
  {
   "cell_type": "code",
   "execution_count": 13,
   "id": "83d1ed8c",
   "metadata": {},
   "outputs": [
    {
     "data": {
      "text/plain": [
       "Пятигорск         219\n",
       "Екатеринбург      204\n",
       "Ростов-на-Дону    198\n",
       "Краснодар         193\n",
       "Сочи              189\n",
       "Омск              183\n",
       "Тюмень            180\n",
       "Москва            168\n",
       "Name: city, dtype: int64"
      ]
     },
     "execution_count": 13,
     "metadata": {},
     "output_type": "execute_result"
    }
   ],
   "source": [
    "users_go['city'].value_counts()"
   ]
  },
  {
   "cell_type": "code",
   "execution_count": 14,
   "id": "0f132331",
   "metadata": {},
   "outputs": [
    {
     "data": {
      "text/plain": [
       "free     835\n",
       "ultra    699\n",
       "Name: subscription_type, dtype: int64"
      ]
     },
     "execution_count": 14,
     "metadata": {},
     "output_type": "execute_result"
    }
   ],
   "source": [
    "users_go['subscription_type'].value_counts()"
   ]
  },
  {
   "cell_type": "markdown",
   "id": "67b1ad62",
   "metadata": {},
   "source": [
    "В таблице \"users_go\" все чисто."
   ]
  },
  {
   "cell_type": "code",
   "execution_count": 15,
   "id": "56cdd6c4",
   "metadata": {},
   "outputs": [
    {
     "data": {
      "text/html": [
       "<div>\n",
       "<style scoped>\n",
       "    .dataframe tbody tr th:only-of-type {\n",
       "        vertical-align: middle;\n",
       "    }\n",
       "\n",
       "    .dataframe tbody tr th {\n",
       "        vertical-align: top;\n",
       "    }\n",
       "\n",
       "    .dataframe thead th {\n",
       "        text-align: right;\n",
       "    }\n",
       "</style>\n",
       "<table border=\"1\" class=\"dataframe\">\n",
       "  <thead>\n",
       "    <tr style=\"text-align: right;\">\n",
       "      <th></th>\n",
       "      <th>user_id</th>\n",
       "      <th>distance</th>\n",
       "      <th>duration</th>\n",
       "    </tr>\n",
       "  </thead>\n",
       "  <tbody>\n",
       "    <tr>\n",
       "      <th>count</th>\n",
       "      <td>18,068.00</td>\n",
       "      <td>18,068.00</td>\n",
       "      <td>18,068.00</td>\n",
       "    </tr>\n",
       "    <tr>\n",
       "      <th>mean</th>\n",
       "      <td>842.87</td>\n",
       "      <td>3,070.66</td>\n",
       "      <td>17.81</td>\n",
       "    </tr>\n",
       "    <tr>\n",
       "      <th>std</th>\n",
       "      <td>434.73</td>\n",
       "      <td>1,116.83</td>\n",
       "      <td>6.09</td>\n",
       "    </tr>\n",
       "    <tr>\n",
       "      <th>min</th>\n",
       "      <td>1.00</td>\n",
       "      <td>0.86</td>\n",
       "      <td>0.50</td>\n",
       "    </tr>\n",
       "    <tr>\n",
       "      <th>25%</th>\n",
       "      <td>487.00</td>\n",
       "      <td>2,543.23</td>\n",
       "      <td>13.60</td>\n",
       "    </tr>\n",
       "    <tr>\n",
       "      <th>50%</th>\n",
       "      <td>889.00</td>\n",
       "      <td>3,133.61</td>\n",
       "      <td>17.68</td>\n",
       "    </tr>\n",
       "    <tr>\n",
       "      <th>75%</th>\n",
       "      <td>1,213.25</td>\n",
       "      <td>3,776.22</td>\n",
       "      <td>21.72</td>\n",
       "    </tr>\n",
       "    <tr>\n",
       "      <th>max</th>\n",
       "      <td>1,534.00</td>\n",
       "      <td>7,211.01</td>\n",
       "      <td>40.82</td>\n",
       "    </tr>\n",
       "  </tbody>\n",
       "</table>\n",
       "</div>"
      ],
      "text/plain": [
       "        user_id  distance  duration\n",
       "count 18,068.00 18,068.00 18,068.00\n",
       "mean     842.87  3,070.66     17.81\n",
       "std      434.73  1,116.83      6.09\n",
       "min        1.00      0.86      0.50\n",
       "25%      487.00  2,543.23     13.60\n",
       "50%      889.00  3,133.61     17.68\n",
       "75%    1,213.25  3,776.22     21.72\n",
       "max    1,534.00  7,211.01     40.82"
      ]
     },
     "execution_count": 15,
     "metadata": {},
     "output_type": "execute_result"
    }
   ],
   "source": [
    "#Изучим таблицу rides_go\n",
    "rides_go.describe()"
   ]
  },
  {
   "cell_type": "code",
   "execution_count": 16,
   "id": "5b194523",
   "metadata": {},
   "outputs": [
    {
     "name": "stderr",
     "output_type": "stream",
     "text": [
      "/tmp/ipykernel_78/3394252612.py:1: FutureWarning: Treating datetime data as categorical rather than numeric in `.describe` is deprecated and will be removed in a future version of pandas. Specify `datetime_is_numeric=True` to silence this warning and adopt the future behavior now.\n",
      "  rides_go['date'].describe()\n"
     ]
    },
    {
     "data": {
      "text/plain": [
       "count                   18068\n",
       "unique                    364\n",
       "top       2021-12-22 00:00:00\n",
       "freq                       72\n",
       "first     2021-01-01 00:00:00\n",
       "last      2021-12-30 00:00:00\n",
       "Name: date, dtype: object"
      ]
     },
     "execution_count": 16,
     "metadata": {},
     "output_type": "execute_result"
    }
   ],
   "source": [
    "rides_go['date'].describe()"
   ]
  },
  {
   "cell_type": "code",
   "execution_count": 17,
   "id": "946246df",
   "metadata": {},
   "outputs": [],
   "source": [
    "# создадим столбец month - номер месяца на основе столбца date\n",
    "rides_go['month']=rides_go['date'].dt.month"
   ]
  },
  {
   "cell_type": "markdown",
   "id": "9311fa4a",
   "metadata": {},
   "source": [
    "Таблица \"rides_go\" без аномалий и дубликатов"
   ]
  },
  {
   "cell_type": "code",
   "execution_count": 18,
   "id": "335cb479",
   "metadata": {},
   "outputs": [
    {
     "data": {
      "text/html": [
       "<div>\n",
       "<style scoped>\n",
       "    .dataframe tbody tr th:only-of-type {\n",
       "        vertical-align: middle;\n",
       "    }\n",
       "\n",
       "    .dataframe tbody tr th {\n",
       "        vertical-align: top;\n",
       "    }\n",
       "\n",
       "    .dataframe thead th {\n",
       "        text-align: right;\n",
       "    }\n",
       "</style>\n",
       "<table border=\"1\" class=\"dataframe\">\n",
       "  <thead>\n",
       "    <tr style=\"text-align: right;\">\n",
       "      <th></th>\n",
       "      <th>minute_price</th>\n",
       "      <th>start_ride_price</th>\n",
       "      <th>subscription_fee</th>\n",
       "    </tr>\n",
       "  </thead>\n",
       "  <tbody>\n",
       "    <tr>\n",
       "      <th>count</th>\n",
       "      <td>2.00</td>\n",
       "      <td>2.00</td>\n",
       "      <td>2.00</td>\n",
       "    </tr>\n",
       "    <tr>\n",
       "      <th>mean</th>\n",
       "      <td>7.00</td>\n",
       "      <td>25.00</td>\n",
       "      <td>99.50</td>\n",
       "    </tr>\n",
       "    <tr>\n",
       "      <th>std</th>\n",
       "      <td>1.41</td>\n",
       "      <td>35.36</td>\n",
       "      <td>140.71</td>\n",
       "    </tr>\n",
       "    <tr>\n",
       "      <th>min</th>\n",
       "      <td>6.00</td>\n",
       "      <td>0.00</td>\n",
       "      <td>0.00</td>\n",
       "    </tr>\n",
       "    <tr>\n",
       "      <th>25%</th>\n",
       "      <td>6.50</td>\n",
       "      <td>12.50</td>\n",
       "      <td>49.75</td>\n",
       "    </tr>\n",
       "    <tr>\n",
       "      <th>50%</th>\n",
       "      <td>7.00</td>\n",
       "      <td>25.00</td>\n",
       "      <td>99.50</td>\n",
       "    </tr>\n",
       "    <tr>\n",
       "      <th>75%</th>\n",
       "      <td>7.50</td>\n",
       "      <td>37.50</td>\n",
       "      <td>149.25</td>\n",
       "    </tr>\n",
       "    <tr>\n",
       "      <th>max</th>\n",
       "      <td>8.00</td>\n",
       "      <td>50.00</td>\n",
       "      <td>199.00</td>\n",
       "    </tr>\n",
       "  </tbody>\n",
       "</table>\n",
       "</div>"
      ],
      "text/plain": [
       "       minute_price  start_ride_price  subscription_fee\n",
       "count          2.00              2.00              2.00\n",
       "mean           7.00             25.00             99.50\n",
       "std            1.41             35.36            140.71\n",
       "min            6.00              0.00              0.00\n",
       "25%            6.50             12.50             49.75\n",
       "50%            7.00             25.00             99.50\n",
       "75%            7.50             37.50            149.25\n",
       "max            8.00             50.00            199.00"
      ]
     },
     "execution_count": 18,
     "metadata": {},
     "output_type": "execute_result"
    }
   ],
   "source": [
    "# Изучим таблицу subscriptions_go\n",
    "subscriptions_go.describe()"
   ]
  },
  {
   "cell_type": "code",
   "execution_count": 19,
   "id": "70b85f6d",
   "metadata": {},
   "outputs": [
    {
     "data": {
      "text/plain": [
       "array(['free', 'ultra'], dtype=object)"
      ]
     },
     "execution_count": 19,
     "metadata": {},
     "output_type": "execute_result"
    }
   ],
   "source": [
    "subscriptions_go['subscription_type'].unique()"
   ]
  },
  {
   "cell_type": "markdown",
   "id": "8847e167",
   "metadata": {},
   "source": [
    "**Вывод:** Предобработка данных практически не потребовалась. Данные без аномалий и без неявных дубликатов.\n",
    "Данные представлены за 2021 год."
   ]
  },
  {
   "cell_type": "markdown",
   "id": "6bdd5c0f",
   "metadata": {},
   "source": [
    "#### Шаг 3. Исследовательский анализ данных"
   ]
  },
  {
   "cell_type": "code",
   "execution_count": 20,
   "id": "a51ffc5f",
   "metadata": {},
   "outputs": [
    {
     "data": {
      "image/png": "[encoded data removed]",
      "text/plain": [
       "<Figure size 432x288 with 1 Axes>"
      ]
     },
     "metadata": {
      "needs_background": "light"
     },
     "output_type": "display_data"
    }
   ],
   "source": [
    "# Изучим частоту встречаемости городов\n",
    "users_go['city'].value_counts().plot.bar()\n",
    "plt.title('Частота встречаемости городов')\n",
    "plt.xlabel('города')\n",
    "plt.ylabel('частота')\n",
    "plt.show()"
   ]
  },
  {
   "cell_type": "markdown",
   "id": "353ab97a",
   "metadata": {},
   "source": [
    "Больше всего клиентов из Пятигорска(чуть больше 200), а меньше всего - из Москвы (около 170)."
   ]
  },
  {
   "cell_type": "code",
   "execution_count": 21,
   "id": "79b7884d",
   "metadata": {},
   "outputs": [
    {
     "data": {
      "image/png": "[encoded data removed]",
      "text/plain": [
       "<Figure size 432x288 with 1 Axes>"
      ]
     },
     "metadata": {},
     "output_type": "display_data"
    }
   ],
   "source": [
    "# Изучим соотношение пользователей с подпиской и без\n",
    "#users_go['subscription_type'].value_counts(normalize=True).plot.pie()\n",
    "labels = ['Free', 'Ultra']\n",
    "plt.pie(users_go['subscription_type'].value_counts(normalize=True), labels=labels,autopct='%.1f%%')\n",
    "plt.title('Соотношение пользователей с подпиской и без')\n",
    "plt.legend(loc='lower right')\n",
    "\n",
    "plt.show()"
   ]
  },
  {
   "cell_type": "code",
   "execution_count": 22,
   "id": "d20f6a90",
   "metadata": {},
   "outputs": [
    {
     "data": {
      "text/plain": [
       "free    0.54\n",
       "ultra   0.46\n",
       "Name: subscription_type, dtype: float64"
      ]
     },
     "execution_count": 22,
     "metadata": {},
     "output_type": "execute_result"
    }
   ],
   "source": [
    "users_go['subscription_type'].value_counts(normalize=True)"
   ]
  },
  {
   "cell_type": "code",
   "execution_count": 23,
   "id": "069f60b2",
   "metadata": {},
   "outputs": [
    {
     "data": {
      "text/html": [
       "<div>\n",
       "<style scoped>\n",
       "    .dataframe tbody tr th:only-of-type {\n",
       "        vertical-align: middle;\n",
       "    }\n",
       "\n",
       "    .dataframe tbody tr th {\n",
       "        vertical-align: top;\n",
       "    }\n",
       "\n",
       "    .dataframe thead th {\n",
       "        text-align: right;\n",
       "    }\n",
       "</style>\n",
       "<table border=\"1\" class=\"dataframe\">\n",
       "  <thead>\n",
       "    <tr style=\"text-align: right;\">\n",
       "      <th></th>\n",
       "      <th></th>\n",
       "      <th>user_id</th>\n",
       "      <th>%_value</th>\n",
       "    </tr>\n",
       "    <tr>\n",
       "      <th>city</th>\n",
       "      <th>subscription_type</th>\n",
       "      <th></th>\n",
       "      <th></th>\n",
       "    </tr>\n",
       "  </thead>\n",
       "  <tbody>\n",
       "    <tr>\n",
       "      <th rowspan=\"2\" valign=\"top\">Екатеринбург</th>\n",
       "      <th>free</th>\n",
       "      <td>112</td>\n",
       "      <td>0.55</td>\n",
       "    </tr>\n",
       "    <tr>\n",
       "      <th>ultra</th>\n",
       "      <td>92</td>\n",
       "      <td>0.45</td>\n",
       "    </tr>\n",
       "    <tr>\n",
       "      <th rowspan=\"2\" valign=\"top\">Краснодар</th>\n",
       "      <th>free</th>\n",
       "      <td>112</td>\n",
       "      <td>0.58</td>\n",
       "    </tr>\n",
       "    <tr>\n",
       "      <th>ultra</th>\n",
       "      <td>81</td>\n",
       "      <td>0.42</td>\n",
       "    </tr>\n",
       "    <tr>\n",
       "      <th rowspan=\"2\" valign=\"top\">Москва</th>\n",
       "      <th>free</th>\n",
       "      <td>84</td>\n",
       "      <td>0.50</td>\n",
       "    </tr>\n",
       "    <tr>\n",
       "      <th>ultra</th>\n",
       "      <td>84</td>\n",
       "      <td>0.50</td>\n",
       "    </tr>\n",
       "    <tr>\n",
       "      <th rowspan=\"2\" valign=\"top\">Омск</th>\n",
       "      <th>free</th>\n",
       "      <td>92</td>\n",
       "      <td>0.50</td>\n",
       "    </tr>\n",
       "    <tr>\n",
       "      <th>ultra</th>\n",
       "      <td>91</td>\n",
       "      <td>0.50</td>\n",
       "    </tr>\n",
       "    <tr>\n",
       "      <th rowspan=\"2\" valign=\"top\">Пятигорск</th>\n",
       "      <th>free</th>\n",
       "      <td>125</td>\n",
       "      <td>0.57</td>\n",
       "    </tr>\n",
       "    <tr>\n",
       "      <th>ultra</th>\n",
       "      <td>94</td>\n",
       "      <td>0.43</td>\n",
       "    </tr>\n",
       "    <tr>\n",
       "      <th rowspan=\"2\" valign=\"top\">Ростов-на-Дону</th>\n",
       "      <th>free</th>\n",
       "      <td>109</td>\n",
       "      <td>0.55</td>\n",
       "    </tr>\n",
       "    <tr>\n",
       "      <th>ultra</th>\n",
       "      <td>89</td>\n",
       "      <td>0.45</td>\n",
       "    </tr>\n",
       "    <tr>\n",
       "      <th rowspan=\"2\" valign=\"top\">Сочи</th>\n",
       "      <th>free</th>\n",
       "      <td>103</td>\n",
       "      <td>0.54</td>\n",
       "    </tr>\n",
       "    <tr>\n",
       "      <th>ultra</th>\n",
       "      <td>86</td>\n",
       "      <td>0.46</td>\n",
       "    </tr>\n",
       "    <tr>\n",
       "      <th rowspan=\"2\" valign=\"top\">Тюмень</th>\n",
       "      <th>free</th>\n",
       "      <td>98</td>\n",
       "      <td>0.54</td>\n",
       "    </tr>\n",
       "    <tr>\n",
       "      <th>ultra</th>\n",
       "      <td>82</td>\n",
       "      <td>0.46</td>\n",
       "    </tr>\n",
       "  </tbody>\n",
       "</table>\n",
       "</div>"
      ],
      "text/plain": [
       "                                  user_id  %_value\n",
       "city           subscription_type                  \n",
       "Екатеринбург   free                   112     0.55\n",
       "               ultra                   92     0.45\n",
       "Краснодар      free                   112     0.58\n",
       "               ultra                   81     0.42\n",
       "Москва         free                    84     0.50\n",
       "               ultra                   84     0.50\n",
       "Омск           free                    92     0.50\n",
       "               ultra                   91     0.50\n",
       "Пятигорск      free                   125     0.57\n",
       "               ultra                   94     0.43\n",
       "Ростов-на-Дону free                   109     0.55\n",
       "               ultra                   89     0.45\n",
       "Сочи           free                   103     0.54\n",
       "               ultra                   86     0.46\n",
       "Тюмень         free                    98     0.54\n",
       "               ultra                   82     0.46"
      ]
     },
     "execution_count": 23,
     "metadata": {},
     "output_type": "execute_result"
    }
   ],
   "source": [
    "# Изучим соотношение пользователей с подпиской и без в разрезе городов\n",
    "data_pivot=pd.pivot_table(users_go, index=['city', 'subscription_type'], values=['user_id'], aggfunc='count')\n",
    "data_pivot['%_value']=data_pivot['user_id']/pd.pivot_table(users_go, index=['city'], values=['user_id'], aggfunc='count')['user_id']\n",
    "data_pivot"
   ]
  },
  {
   "cell_type": "markdown",
   "id": "fee6047c",
   "metadata": {},
   "source": [
    "Пользователей с подпиской явно меньше, чем без. Число таких пользователей не превышает 50%"
   ]
  },
  {
   "cell_type": "code",
   "execution_count": 24,
   "id": "e499a50f",
   "metadata": {},
   "outputs": [
    {
     "data": {
      "image/png": "[encoded data removed]",
      "text/plain": [
       "<Figure size 432x288 with 1 Axes>"
      ]
     },
     "metadata": {
      "needs_background": "light"
     },
     "output_type": "display_data"
    }
   ],
   "source": [
    "# Изучим возраст пользователей\n",
    "users_go['age'].plot.hist()\n",
    "plt.title('Возраст пользователей')\n",
    "plt.xlabel('возраст')\n",
    "plt.ylabel('частота')\n",
    "plt.show()"
   ]
  },
  {
   "cell_type": "code",
   "execution_count": 25,
   "id": "03cc6358",
   "metadata": {},
   "outputs": [
    {
     "data": {
      "text/plain": [
       "count   1,534.00\n",
       "mean       24.90\n",
       "std         4.57\n",
       "min        12.00\n",
       "25%        22.00\n",
       "50%        25.00\n",
       "75%        28.00\n",
       "max        43.00\n",
       "Name: age, dtype: float64"
      ]
     },
     "execution_count": 25,
     "metadata": {},
     "output_type": "execute_result"
    }
   ],
   "source": [
    "users_go['age'].describe()"
   ]
  },
  {
   "cell_type": "markdown",
   "id": "d358f48f",
   "metadata": {},
   "source": [
    "Гистограмма возраста пользователей имеет нормальное распределение. Средний возраст клиентов - 25 лет."
   ]
  },
  {
   "cell_type": "code",
   "execution_count": 26,
   "id": "6b979cd9",
   "metadata": {},
   "outputs": [
    {
     "data": {
      "image/png": "[encoded data removed]",
      "text/plain": [
       "<Figure size 432x288 with 1 Axes>"
      ]
     },
     "metadata": {
      "needs_background": "light"
     },
     "output_type": "display_data"
    }
   ],
   "source": [
    "# Изучим расстояние, которое проехал пользователь за 1 поездку\n",
    "rides_go['distance'].plot.hist(bins=20)\n",
    "plt.title('Расстояние за одну поездку')\n",
    "plt.xlabel('расстояние')\n",
    "plt.ylabel('частота')\n",
    "plt.show()"
   ]
  },
  {
   "cell_type": "code",
   "execution_count": 27,
   "id": "ba7d227e",
   "metadata": {},
   "outputs": [
    {
     "data": {
      "text/plain": [
       "count   18,068.00\n",
       "mean     3,070.66\n",
       "std      1,116.83\n",
       "min          0.86\n",
       "25%      2,543.23\n",
       "50%      3,133.61\n",
       "75%      3,776.22\n",
       "max      7,211.01\n",
       "Name: distance, dtype: float64"
      ]
     },
     "execution_count": 27,
     "metadata": {},
     "output_type": "execute_result"
    }
   ],
   "source": [
    "rides_go['distance'].describe()"
   ]
  },
  {
   "cell_type": "markdown",
   "id": "9f2781cf",
   "metadata": {},
   "source": [
    "В среднем пользователи ездят 3,2 км.\n",
    "Есть небольшой \"колокол\" в районе 0-1000 м. Я думаю, что это связано с тем, что есть 2 стратегии пользования самокатами:\n",
    "1) Человек пользуются самокатом в дополнение к основному виду транспорта, когда нужно быстро добраться до пункта назначения (в пределах 1 км), возможно от ближайшей остановки до пункта назначения.<br>\n",
    "2) Человек полностью заменил средство передвижения на самокат, поэтому средняя дистанция поездки 3 км и выше."
   ]
  },
  {
   "cell_type": "code",
   "execution_count": 28,
   "id": "93301698",
   "metadata": {},
   "outputs": [
    {
     "data": {
      "image/png": "[encoded data removed]",
      "text/plain": [
       "<Figure size 432x288 with 1 Axes>"
      ]
     },
     "metadata": {
      "needs_background": "light"
     },
     "output_type": "display_data"
    }
   ],
   "source": [
    "# Изучим продолжительность поездок\n",
    "rides_go['duration'].plot.hist(bins=20)\n",
    "plt.title('Длительность одной поездки')\n",
    "plt.xlabel('длительность')\n",
    "plt.ylabel('частота')\n",
    "plt.show()"
   ]
  },
  {
   "cell_type": "code",
   "execution_count": 29,
   "id": "18771e47",
   "metadata": {},
   "outputs": [
    {
     "data": {
      "text/plain": [
       "count   18,068.00\n",
       "mean        17.81\n",
       "std          6.09\n",
       "min          0.50\n",
       "25%         13.60\n",
       "50%         17.68\n",
       "75%         21.72\n",
       "max         40.82\n",
       "Name: duration, dtype: float64"
      ]
     },
     "execution_count": 29,
     "metadata": {},
     "output_type": "execute_result"
    }
   ],
   "source": [
    "rides_go['duration'].describe()"
   ]
  },
  {
   "cell_type": "markdown",
   "id": "6b791074",
   "metadata": {},
   "source": [
    "В основном длительность одной поездки в районе 15-20 мин."
   ]
  },
  {
   "cell_type": "markdown",
   "id": "d25d6c49",
   "metadata": {},
   "source": [
    "**Вывод:**\n",
    "Больше всего клиентов из Пятигорска, а меньше всего - из Москвы.<br>\n",
    "Пользователей без подписки больше(54%), чем с подпиской (46%)<br>\n",
    "Средний возраст клиентов 25 лет, самый младший клиент - 12 лет, старший - 43 года<br>\n",
    "Средняя дистанция одной поездки чуть больше 3 км, минимальная - около 90 м, наибольшая - около 7 км <br>\n",
    "Средняя продолжительность поездки - около 18 мин, минимальная около минуты, самая длинная - около 41 минуты."
   ]
  },
  {
   "cell_type": "markdown",
   "id": "20fe8ea6",
   "metadata": {},
   "source": [
    "#### Шаг 4. Объединение данных"
   ]
  },
  {
   "cell_type": "code",
   "outputs": [
    {
     "data": {
      "text/html": [
       "<div>\n",
       "<style scoped>\n",
       "    .dataframe tbody tr th:only-of-type {\n",
       "        vertical-align: middle;\n",
       "    }\n",
       "\n",
       "    .dataframe tbody tr th {\n",
       "        vertical-align: top;\n",
       "    }\n",
       "\n",
       "    .dataframe thead th {\n",
       "        text-align: right;\n",
       "    }\n",
       "</style>\n",
       "<table border=\"1\" class=\"dataframe\">\n",
       "  <thead>\n",
       "    <tr style=\"text-align: right;\">\n",
       "      <th></th>\n",
       "      <th>user_id</th>\n",
       "      <th>name</th>\n",
       "      <th>age</th>\n",
       "      <th>city</th>\n",
       "      <th>subscription_type</th>\n",
       "      <th>distance</th>\n",
       "      <th>duration</th>\n",
       "      <th>date</th>\n",
       "      <th>month</th>\n",
       "      <th>minute_price</th>\n",
       "      <th>start_ride_price</th>\n",
       "      <th>subscription_fee</th>\n",
       "    </tr>\n",
       "  </thead>\n",
       "  <tbody>\n",
       "    <tr>\n",
       "      <th>0</th>\n",
       "      <td>1</td>\n",
       "      <td>Кира</td>\n",
       "      <td>22</td>\n",
       "      <td>Тюмень</td>\n",
       "      <td>ultra</td>\n",
       "      <td>4,409.92</td>\n",
       "      <td>25.60</td>\n",
       "      <td>2021-01-01</td>\n",
       "      <td>1</td>\n",
       "      <td>6</td>\n",
       "      <td>0</td>\n",
       "      <td>199</td>\n",
       "    </tr>\n",
       "    <tr>\n",
       "      <th>1</th>\n",
       "      <td>1</td>\n",
       "      <td>Кира</td>\n",
       "      <td>22</td>\n",
       "      <td>Тюмень</td>\n",
       "      <td>ultra</td>\n",
       "      <td>2,617.59</td>\n",
       "      <td>15.82</td>\n",
       "      <td>2021-01-18</td>\n",
       "      <td>1</td>\n",
       "      <td>6</td>\n",
       "      <td>0</td>\n",
       "      <td>199</td>\n",
       "    </tr>\n",
       "    <tr>\n",
       "      <th>2</th>\n",
       "      <td>1</td>\n",
       "      <td>Кира</td>\n",
       "      <td>22</td>\n",
       "      <td>Тюмень</td>\n",
       "      <td>ultra</td>\n",
       "      <td>754.16</td>\n",
       "      <td>6.23</td>\n",
       "      <td>2021-04-20</td>\n",
       "      <td>4</td>\n",
       "      <td>6</td>\n",
       "      <td>0</td>\n",
       "      <td>199</td>\n",
       "    </tr>\n",
       "    <tr>\n",
       "      <th>3</th>\n",
       "      <td>1</td>\n",
       "      <td>Кира</td>\n",
       "      <td>22</td>\n",
       "      <td>Тюмень</td>\n",
       "      <td>ultra</td>\n",
       "      <td>2,694.78</td>\n",
       "      <td>18.51</td>\n",
       "      <td>2021-08-11</td>\n",
       "      <td>8</td>\n",
       "      <td>6</td>\n",
       "      <td>0</td>\n",
       "      <td>199</td>\n",
       "    </tr>\n",
       "    <tr>\n",
       "      <th>4</th>\n",
       "      <td>1</td>\n",
       "      <td>Кира</td>\n",
       "      <td>22</td>\n",
       "      <td>Тюмень</td>\n",
       "      <td>ultra</td>\n",
       "      <td>4,028.69</td>\n",
       "      <td>26.27</td>\n",
       "      <td>2021-08-28</td>\n",
       "      <td>8</td>\n",
       "      <td>6</td>\n",
       "      <td>0</td>\n",
       "      <td>199</td>\n",
       "    </tr>\n",
       "  </tbody>\n",
       "</table>\n",
       "</div>"
      ],
      "text/plain": [
       "   user_id  name  age    city subscription_type  distance  duration  \\\n",
       "0        1  Кира   22  Тюмень             ultra  4,409.92     25.60   \n",
       "1        1  Кира   22  Тюмень             ultra  2,617.59     15.82   \n",
       "2        1  Кира   22  Тюмень             ultra    754.16      6.23   \n",
       "3        1  Кира   22  Тюмень             ultra  2,694.78     18.51   \n",
       "4        1  Кира   22  Тюмень             ultra  4,028.69     26.27   \n",
       "\n",
       "        date  month  minute_price  start_ride_price  subscription_fee  \n",
       "0 2021-01-01      1             6                 0               199  \n",
       "1 2021-01-18      1             6                 0               199  \n",
       "2 2021-04-20      4             6                 0               199  \n",
       "3 2021-08-11      8             6                 0               199  \n",
       "4 2021-08-28      8             6                 0               199  "
      ]
     },
     "execution_count": 30,
     "metadata": {},
     "output_type": "execute_result"
    }
   ],
   "source": [
    "# Объединим данные о пользователях, поездках и подписках\n",
    "data=users_go.merge(rides_go, on='user_id')\n",
    "data=data.merge(subscriptions_go, on='subscription_type')\n",
    "data.head()"
   ],
   "metadata": {
    "collapsed": false
   },
   "id": "8e52e317",
   "execution_count": 30
  },
  {
   "cell_type": "code",
   "execution_count": 31,
   "id": "21cb9484",
   "metadata": {},
   "outputs": [
    {
     "data": {
      "text/plain": [
       "(18068, 12)"
      ]
     },
     "execution_count": 31,
     "metadata": {},
     "output_type": "execute_result"
    }
   ],
   "source": [
    "# Сравним кол-во строк после обьединения и до\n",
    "data.shape"
   ]
  },
  {
   "cell_type": "markdown",
   "id": "dc5c21c2",
   "metadata": {},
   "source": [
    "Кол-во строк после обьединения и до совпадает, значит мы не потеряли информацию при обьеденени."
   ]
  },
  {
   "cell_type": "code",
   "execution_count": 32,
   "id": "eec4e2d0",
   "metadata": {},
   "outputs": [
    {
     "data": {
      "text/html": [
       "<div>\n",
       "<style scoped>\n",
       "    .dataframe tbody tr th:only-of-type {\n",
       "        vertical-align: middle;\n",
       "    }\n",
       "\n",
       "    .dataframe tbody tr th {\n",
       "        vertical-align: top;\n",
       "    }\n",
       "\n",
       "    .dataframe thead th {\n",
       "        text-align: right;\n",
       "    }\n",
       "</style>\n",
       "<table border=\"1\" class=\"dataframe\">\n",
       "  <thead>\n",
       "    <tr style=\"text-align: right;\">\n",
       "      <th></th>\n",
       "      <th>user_id</th>\n",
       "      <th>name</th>\n",
       "      <th>age</th>\n",
       "      <th>city</th>\n",
       "      <th>subscription_type</th>\n",
       "      <th>distance</th>\n",
       "      <th>duration</th>\n",
       "      <th>date</th>\n",
       "      <th>month</th>\n",
       "      <th>minute_price</th>\n",
       "      <th>start_ride_price</th>\n",
       "      <th>subscription_fee</th>\n",
       "    </tr>\n",
       "  </thead>\n",
       "  <tbody>\n",
       "    <tr>\n",
       "      <th>0</th>\n",
       "      <td>1</td>\n",
       "      <td>Кира</td>\n",
       "      <td>22</td>\n",
       "      <td>Тюмень</td>\n",
       "      <td>ultra</td>\n",
       "      <td>4,409.92</td>\n",
       "      <td>25.60</td>\n",
       "      <td>2021-01-01</td>\n",
       "      <td>1</td>\n",
       "      <td>6</td>\n",
       "      <td>0</td>\n",
       "      <td>199</td>\n",
       "    </tr>\n",
       "    <tr>\n",
       "      <th>1</th>\n",
       "      <td>1</td>\n",
       "      <td>Кира</td>\n",
       "      <td>22</td>\n",
       "      <td>Тюмень</td>\n",
       "      <td>ultra</td>\n",
       "      <td>2,617.59</td>\n",
       "      <td>15.82</td>\n",
       "      <td>2021-01-18</td>\n",
       "      <td>1</td>\n",
       "      <td>6</td>\n",
       "      <td>0</td>\n",
       "      <td>199</td>\n",
       "    </tr>\n",
       "    <tr>\n",
       "      <th>2</th>\n",
       "      <td>1</td>\n",
       "      <td>Кира</td>\n",
       "      <td>22</td>\n",
       "      <td>Тюмень</td>\n",
       "      <td>ultra</td>\n",
       "      <td>754.16</td>\n",
       "      <td>6.23</td>\n",
       "      <td>2021-04-20</td>\n",
       "      <td>4</td>\n",
       "      <td>6</td>\n",
       "      <td>0</td>\n",
       "      <td>199</td>\n",
       "    </tr>\n",
       "    <tr>\n",
       "      <th>3</th>\n",
       "      <td>1</td>\n",
       "      <td>Кира</td>\n",
       "      <td>22</td>\n",
       "      <td>Тюмень</td>\n",
       "      <td>ultra</td>\n",
       "      <td>2,694.78</td>\n",
       "      <td>18.51</td>\n",
       "      <td>2021-08-11</td>\n",
       "      <td>8</td>\n",
       "      <td>6</td>\n",
       "      <td>0</td>\n",
       "      <td>199</td>\n",
       "    </tr>\n",
       "    <tr>\n",
       "      <th>4</th>\n",
       "      <td>1</td>\n",
       "      <td>Кира</td>\n",
       "      <td>22</td>\n",
       "      <td>Тюмень</td>\n",
       "      <td>ultra</td>\n",
       "      <td>4,028.69</td>\n",
       "      <td>26.27</td>\n",
       "      <td>2021-08-28</td>\n",
       "      <td>8</td>\n",
       "      <td>6</td>\n",
       "      <td>0</td>\n",
       "      <td>199</td>\n",
       "    </tr>\n",
       "  </tbody>\n",
       "</table>\n",
       "</div>"
      ],
      "text/plain": [
       "   user_id  name  age    city subscription_type  distance  duration  \\\n",
       "0        1  Кира   22  Тюмень             ultra  4,409.92     25.60   \n",
       "1        1  Кира   22  Тюмень             ultra  2,617.59     15.82   \n",
       "2        1  Кира   22  Тюмень             ultra    754.16      6.23   \n",
       "3        1  Кира   22  Тюмень             ultra  2,694.78     18.51   \n",
       "4        1  Кира   22  Тюмень             ultra  4,028.69     26.27   \n",
       "\n",
       "        date  month  minute_price  start_ride_price  subscription_fee  \n",
       "0 2021-01-01      1             6                 0               199  \n",
       "1 2021-01-18      1             6                 0               199  \n",
       "2 2021-04-20      4             6                 0               199  \n",
       "3 2021-08-11      8             6                 0               199  \n",
       "4 2021-08-28      8             6                 0               199  "
      ]
     },
     "metadata": {},
     "output_type": "display_data"
    },
    {
     "name": "stdout",
     "output_type": "stream",
     "text": [
      "(6500, 12)\n"
     ]
    },
    {
     "data": {
      "text/html": [
       "<div>\n",
       "<style scoped>\n",
       "    .dataframe tbody tr th:only-of-type {\n",
       "        vertical-align: middle;\n",
       "    }\n",
       "\n",
       "    .dataframe tbody tr th {\n",
       "        vertical-align: top;\n",
       "    }\n",
       "\n",
       "    .dataframe thead th {\n",
       "        text-align: right;\n",
       "    }\n",
       "</style>\n",
       "<table border=\"1\" class=\"dataframe\">\n",
       "  <thead>\n",
       "    <tr style=\"text-align: right;\">\n",
       "      <th></th>\n",
       "      <th>user_id</th>\n",
       "      <th>name</th>\n",
       "      <th>age</th>\n",
       "      <th>city</th>\n",
       "      <th>subscription_type</th>\n",
       "      <th>distance</th>\n",
       "      <th>duration</th>\n",
       "      <th>date</th>\n",
       "      <th>month</th>\n",
       "      <th>minute_price</th>\n",
       "      <th>start_ride_price</th>\n",
       "      <th>subscription_fee</th>\n",
       "    </tr>\n",
       "  </thead>\n",
       "  <tbody>\n",
       "    <tr>\n",
       "      <th>6500</th>\n",
       "      <td>700</td>\n",
       "      <td>Айдар</td>\n",
       "      <td>22</td>\n",
       "      <td>Омск</td>\n",
       "      <td>free</td>\n",
       "      <td>2,515.69</td>\n",
       "      <td>14.94</td>\n",
       "      <td>2021-01-02</td>\n",
       "      <td>1</td>\n",
       "      <td>8</td>\n",
       "      <td>50</td>\n",
       "      <td>0</td>\n",
       "    </tr>\n",
       "    <tr>\n",
       "      <th>6501</th>\n",
       "      <td>700</td>\n",
       "      <td>Айдар</td>\n",
       "      <td>22</td>\n",
       "      <td>Омск</td>\n",
       "      <td>free</td>\n",
       "      <td>846.93</td>\n",
       "      <td>16.23</td>\n",
       "      <td>2021-02-01</td>\n",
       "      <td>2</td>\n",
       "      <td>8</td>\n",
       "      <td>50</td>\n",
       "      <td>0</td>\n",
       "    </tr>\n",
       "    <tr>\n",
       "      <th>6502</th>\n",
       "      <td>700</td>\n",
       "      <td>Айдар</td>\n",
       "      <td>22</td>\n",
       "      <td>Омск</td>\n",
       "      <td>free</td>\n",
       "      <td>4,004.43</td>\n",
       "      <td>20.02</td>\n",
       "      <td>2021-02-04</td>\n",
       "      <td>2</td>\n",
       "      <td>8</td>\n",
       "      <td>50</td>\n",
       "      <td>0</td>\n",
       "    </tr>\n",
       "    <tr>\n",
       "      <th>6503</th>\n",
       "      <td>700</td>\n",
       "      <td>Айдар</td>\n",
       "      <td>22</td>\n",
       "      <td>Омск</td>\n",
       "      <td>free</td>\n",
       "      <td>1,205.91</td>\n",
       "      <td>9.78</td>\n",
       "      <td>2021-02-10</td>\n",
       "      <td>2</td>\n",
       "      <td>8</td>\n",
       "      <td>50</td>\n",
       "      <td>0</td>\n",
       "    </tr>\n",
       "    <tr>\n",
       "      <th>6504</th>\n",
       "      <td>700</td>\n",
       "      <td>Айдар</td>\n",
       "      <td>22</td>\n",
       "      <td>Омск</td>\n",
       "      <td>free</td>\n",
       "      <td>3,047.38</td>\n",
       "      <td>17.43</td>\n",
       "      <td>2021-02-14</td>\n",
       "      <td>2</td>\n",
       "      <td>8</td>\n",
       "      <td>50</td>\n",
       "      <td>0</td>\n",
       "    </tr>\n",
       "  </tbody>\n",
       "</table>\n",
       "</div>"
      ],
      "text/plain": [
       "      user_id   name  age  city subscription_type  distance  duration  \\\n",
       "6500      700  Айдар   22  Омск              free  2,515.69     14.94   \n",
       "6501      700  Айдар   22  Омск              free    846.93     16.23   \n",
       "6502      700  Айдар   22  Омск              free  4,004.43     20.02   \n",
       "6503      700  Айдар   22  Омск              free  1,205.91      9.78   \n",
       "6504      700  Айдар   22  Омск              free  3,047.38     17.43   \n",
       "\n",
       "           date  month  minute_price  start_ride_price  subscription_fee  \n",
       "6500 2021-01-02      1             8                50                 0  \n",
       "6501 2021-02-01      2             8                50                 0  \n",
       "6502 2021-02-04      2             8                50                 0  \n",
       "6503 2021-02-10      2             8                50                 0  \n",
       "6504 2021-02-14      2             8                50                 0  "
      ]
     },
     "metadata": {},
     "output_type": "display_data"
    },
    {
     "name": "stdout",
     "output_type": "stream",
     "text": [
      "(11568, 12)\n"
     ]
    }
   ],
   "source": [
    "# Создадим 2 датасета с информацией о пользователях с подпиской и без\n",
    "data_ultra=data[data['subscription_type']=='ultra']\n",
    "display(data_ultra.head())\n",
    "print(data_ultra.shape)\n",
    "data_free=data[data['subscription_type']=='free']\n",
    "display(data_free.head())\n",
    "print(data_free.shape)"
   ]
  },
  {
   "cell_type": "markdown",
   "id": "24b09f63",
   "metadata": {},
   "source": [
    "В разделе 3 мы выяснили, что пользователей с подпиской 46%, а без - 54%. Однако здесь мы видим, что таблица с информацией о пользователях с подпиской практически в 2 раза меньше, чем таблица с информацией о пользователях без подписки. Я думаю, это связано с тем, что в среднем один пользователь с подпиской реже пользуется самокатом, нежели чем один пользователь без подписки"
   ]
  },
  {
   "cell_type": "code",
   "execution_count": 33,
   "id": "12153de7",
   "metadata": {},
   "outputs": [
    {
     "data": {
      "image/png": "[encoded data removed]",
      "text/plain": [
       "<Figure size 432x288 with 1 Axes>"
      ]
     },
     "metadata": {
      "needs_background": "light"
     },
     "output_type": "display_data"
    }
   ],
   "source": [
    "# Визуализируем распределение дистанции одной поездки в зависимости от наличия подписки\n",
    "data_free['distance'].plot.hist(bins=20)\n",
    "data_ultra['distance'].plot.hist(bins=20)\n",
    "plt.title('Распределение дистанции одной поездки пользователей с подпиской и без')\n",
    "plt.xlabel('дистанция одной поездки')\n",
    "plt.ylabel('частота')\n",
    "plt.legend(['Подписка Free', 'Подписка Ultra'],loc='lower right')\n",
    "plt.show()"
   ]
  },
  {
   "cell_type": "markdown",
   "id": "28e0020e",
   "metadata": {},
   "source": [
    "У пользователей с подпиской средняя дистанция одной поездки в районе 3 км, у пользователей без подписки - от 2,5 до 3,5 км.\n",
    "Коротких поездок до 1 км у пользователей без подписки явно больше в несколько раз, чем к пользователей с подпиской. Это может быть обьяснено еще и тем, что прежде чем оформить подписку пользователи обычно тестируют продукт."
   ]
  },
  {
   "cell_type": "code",
   "execution_count": 34,
   "id": "b469eec1",
   "metadata": {},
   "outputs": [
    {
     "data": {
      "image/png": "[encoded data removed]",
      "text/plain": [
       "<Figure size 432x288 with 1 Axes>"
      ]
     },
     "metadata": {
      "needs_background": "light"
     },
     "output_type": "display_data"
    }
   ],
   "source": [
    "# Визуализируем распределение длительности одной поездки в зависимости от наличия подписки\n",
    "data_ultra['duration'].plot.hist(bins=20)\n",
    "plt.title('Распределение длительности одной поездки пользователей с подпиской')\n",
    "plt.xlabel('длительность одной поездки')\n",
    "plt.ylabel('частота')\n",
    "plt.show()"
   ]
  },
  {
   "cell_type": "code",
   "execution_count": 35,
   "id": "d7968111",
   "metadata": {},
   "outputs": [
    {
     "data": {
      "image/png": "[encoded data removed]",
      "text/plain": [
       "<Figure size 432x288 with 1 Axes>"
      ]
     },
     "metadata": {
      "needs_background": "light"
     },
     "output_type": "display_data"
    }
   ],
   "source": [
    "data_free['duration'].plot.hist(bins=20)\n",
    "plt.title('Распределение длительности одной поездки пользователей без подписки')\n",
    "plt.xlabel('длительность одной поездки')\n",
    "plt.ylabel('частота')\n",
    "plt.show()"
   ]
  },
  {
   "cell_type": "markdown",
   "id": "28b0f4d7",
   "metadata": {},
   "source": [
    "Распределение длительности поездок коррелирует сдистанцией поездок. Среднее время, которое пользователь с подпиской трати на поездку - примерно 17 мин. А пользователь без подписки - 15-20 мин"
   ]
  },
  {
   "cell_type": "markdown",
   "id": "b608ac19",
   "metadata": {},
   "source": [
    "#### Шаг 5. Подсчёт выручки"
   ]
  },
  {
   "cell_type": "code",
   "execution_count": 36,
   "id": "0bb4808e",
   "metadata": {},
   "outputs": [
    {
     "name": "stderr",
     "output_type": "stream",
     "text": [
      "/tmp/ipykernel_78/2374444555.py:4: SettingWithCopyWarning: \n",
      "A value is trying to be set on a copy of a slice from a DataFrame.\n",
      "Try using .loc[row_indexer,col_indexer] = value instead\n",
      "\n",
      "See the caveats in the documentation: https://pandas.pydata.org/pandas-docs/stable/user_guide/indexing.html#returning-a-view-versus-a-copy\n",
      "  data_ultra['duration']=data_ultra['duration'].apply(np.ceil)\n"
     ]
    },
    {
     "data": {
      "text/html": [
       "<div>\n",
       "<style scoped>\n",
       "    .dataframe tbody tr th:only-of-type {\n",
       "        vertical-align: middle;\n",
       "    }\n",
       "\n",
       "    .dataframe tbody tr th {\n",
       "        vertical-align: top;\n",
       "    }\n",
       "\n",
       "    .dataframe thead th {\n",
       "        text-align: right;\n",
       "    }\n",
       "</style>\n",
       "<table border=\"1\" class=\"dataframe\">\n",
       "  <thead>\n",
       "    <tr style=\"text-align: right;\">\n",
       "      <th></th>\n",
       "      <th></th>\n",
       "      <th>trip_number</th>\n",
       "      <th>total_trip_duration</th>\n",
       "      <th>minute_price</th>\n",
       "      <th>start_ride_price</th>\n",
       "      <th>subscription_fee</th>\n",
       "      <th>subscription_type</th>\n",
       "    </tr>\n",
       "    <tr>\n",
       "      <th>user_id</th>\n",
       "      <th>month</th>\n",
       "      <th></th>\n",
       "      <th></th>\n",
       "      <th></th>\n",
       "      <th></th>\n",
       "      <th></th>\n",
       "      <th></th>\n",
       "    </tr>\n",
       "  </thead>\n",
       "  <tbody>\n",
       "    <tr>\n",
       "      <th rowspan=\"6\" valign=\"top\">1</th>\n",
       "      <th>1</th>\n",
       "      <td>2</td>\n",
       "      <td>42.00</td>\n",
       "      <td>6</td>\n",
       "      <td>0</td>\n",
       "      <td>199</td>\n",
       "      <td>ultra</td>\n",
       "    </tr>\n",
       "    <tr>\n",
       "      <th>4</th>\n",
       "      <td>1</td>\n",
       "      <td>7.00</td>\n",
       "      <td>6</td>\n",
       "      <td>0</td>\n",
       "      <td>199</td>\n",
       "      <td>ultra</td>\n",
       "    </tr>\n",
       "    <tr>\n",
       "      <th>8</th>\n",
       "      <td>2</td>\n",
       "      <td>46.00</td>\n",
       "      <td>6</td>\n",
       "      <td>0</td>\n",
       "      <td>199</td>\n",
       "      <td>ultra</td>\n",
       "    </tr>\n",
       "    <tr>\n",
       "      <th>10</th>\n",
       "      <td>2</td>\n",
       "      <td>32.00</td>\n",
       "      <td>6</td>\n",
       "      <td>0</td>\n",
       "      <td>199</td>\n",
       "      <td>ultra</td>\n",
       "    </tr>\n",
       "    <tr>\n",
       "      <th>11</th>\n",
       "      <td>3</td>\n",
       "      <td>56.00</td>\n",
       "      <td>6</td>\n",
       "      <td>0</td>\n",
       "      <td>199</td>\n",
       "      <td>ultra</td>\n",
       "    </tr>\n",
       "    <tr>\n",
       "      <th>12</th>\n",
       "      <td>2</td>\n",
       "      <td>28.00</td>\n",
       "      <td>6</td>\n",
       "      <td>0</td>\n",
       "      <td>199</td>\n",
       "      <td>ultra</td>\n",
       "    </tr>\n",
       "    <tr>\n",
       "      <th rowspan=\"7\" valign=\"top\">2</th>\n",
       "      <th>3</th>\n",
       "      <td>3</td>\n",
       "      <td>63.00</td>\n",
       "      <td>6</td>\n",
       "      <td>0</td>\n",
       "      <td>199</td>\n",
       "      <td>ultra</td>\n",
       "    </tr>\n",
       "    <tr>\n",
       "      <th>4</th>\n",
       "      <td>2</td>\n",
       "      <td>40.00</td>\n",
       "      <td>6</td>\n",
       "      <td>0</td>\n",
       "      <td>199</td>\n",
       "      <td>ultra</td>\n",
       "    </tr>\n",
       "    <tr>\n",
       "      <th>6</th>\n",
       "      <td>1</td>\n",
       "      <td>14.00</td>\n",
       "      <td>6</td>\n",
       "      <td>0</td>\n",
       "      <td>199</td>\n",
       "      <td>ultra</td>\n",
       "    </tr>\n",
       "    <tr>\n",
       "      <th>7</th>\n",
       "      <td>2</td>\n",
       "      <td>48.00</td>\n",
       "      <td>6</td>\n",
       "      <td>0</td>\n",
       "      <td>199</td>\n",
       "      <td>ultra</td>\n",
       "    </tr>\n",
       "    <tr>\n",
       "      <th>8</th>\n",
       "      <td>1</td>\n",
       "      <td>7.00</td>\n",
       "      <td>6</td>\n",
       "      <td>0</td>\n",
       "      <td>199</td>\n",
       "      <td>ultra</td>\n",
       "    </tr>\n",
       "    <tr>\n",
       "      <th>10</th>\n",
       "      <td>1</td>\n",
       "      <td>19.00</td>\n",
       "      <td>6</td>\n",
       "      <td>0</td>\n",
       "      <td>199</td>\n",
       "      <td>ultra</td>\n",
       "    </tr>\n",
       "    <tr>\n",
       "      <th>12</th>\n",
       "      <td>1</td>\n",
       "      <td>12.00</td>\n",
       "      <td>6</td>\n",
       "      <td>0</td>\n",
       "      <td>199</td>\n",
       "      <td>ultra</td>\n",
       "    </tr>\n",
       "    <tr>\n",
       "      <th rowspan=\"2\" valign=\"top\">3</th>\n",
       "      <th>1</th>\n",
       "      <td>1</td>\n",
       "      <td>13.00</td>\n",
       "      <td>6</td>\n",
       "      <td>0</td>\n",
       "      <td>199</td>\n",
       "      <td>ultra</td>\n",
       "    </tr>\n",
       "    <tr>\n",
       "      <th>2</th>\n",
       "      <td>2</td>\n",
       "      <td>39.00</td>\n",
       "      <td>6</td>\n",
       "      <td>0</td>\n",
       "      <td>199</td>\n",
       "      <td>ultra</td>\n",
       "    </tr>\n",
       "  </tbody>\n",
       "</table>\n",
       "</div>"
      ],
      "text/plain": [
       "               trip_number  total_trip_duration  minute_price  \\\n",
       "user_id month                                                   \n",
       "1       1                2                42.00             6   \n",
       "        4                1                 7.00             6   \n",
       "        8                2                46.00             6   \n",
       "        10               2                32.00             6   \n",
       "        11               3                56.00             6   \n",
       "        12               2                28.00             6   \n",
       "2       3                3                63.00             6   \n",
       "        4                2                40.00             6   \n",
       "        6                1                14.00             6   \n",
       "        7                2                48.00             6   \n",
       "        8                1                 7.00             6   \n",
       "        10               1                19.00             6   \n",
       "        12               1                12.00             6   \n",
       "3       1                1                13.00             6   \n",
       "        2                2                39.00             6   \n",
       "\n",
       "               start_ride_price  subscription_fee subscription_type  \n",
       "user_id month                                                        \n",
       "1       1                     0               199             ultra  \n",
       "        4                     0               199             ultra  \n",
       "        8                     0               199             ultra  \n",
       "        10                    0               199             ultra  \n",
       "        11                    0               199             ultra  \n",
       "        12                    0               199             ultra  \n",
       "2       3                     0               199             ultra  \n",
       "        4                     0               199             ultra  \n",
       "        6                     0               199             ultra  \n",
       "        7                     0               199             ultra  \n",
       "        8                     0               199             ultra  \n",
       "        10                    0               199             ultra  \n",
       "        12                    0               199             ultra  \n",
       "3       1                     0               199             ultra  \n",
       "        2                     0               199             ultra  "
      ]
     },
     "execution_count": 36,
     "metadata": {},
     "output_type": "execute_result"
    }
   ],
   "source": [
    "# найдем суммарное расстояние, количество поездок и суммарное время для каждого пользователя за каждый месяц.\n",
    "# Для пользователей с подпиской\n",
    "# Для начала округлим длительность поездки до целого числа в большую сторону\n",
    "data_ultra['duration']=data_ultra['duration'].apply(np.ceil)\n",
    "data_pivot_ultra=pd.pivot_table(data_ultra, index=['user_id','month'], values=['distance', 'duration', 'minute_price','start_ride_price','subscription_fee'], aggfunc={'distance':'count', 'duration':'sum','minute_price':'mean','start_ride_price':'mean','subscription_fee':'mean'})\n",
    "data_pivot_ultra=data_pivot_ultra.rename(columns={'distance':'trip_number', 'duration':'total_trip_duration'})\n",
    "data_pivot_ultra['subscription_type']='ultra'\n",
    "data_pivot_ultra.head(15)"
   ]
  },
  {
   "cell_type": "code",
   "execution_count": 37,
   "id": "cfdc7844",
   "metadata": {},
   "outputs": [
    {
     "name": "stderr",
     "output_type": "stream",
     "text": [
      "/tmp/ipykernel_78/3878803993.py:2: SettingWithCopyWarning: \n",
      "A value is trying to be set on a copy of a slice from a DataFrame.\n",
      "Try using .loc[row_indexer,col_indexer] = value instead\n",
      "\n",
      "See the caveats in the documentation: https://pandas.pydata.org/pandas-docs/stable/user_guide/indexing.html#returning-a-view-versus-a-copy\n",
      "  data_free['duration']=data_free['duration'].apply(np.ceil)\n"
     ]
    },
    {
     "data": {
      "text/html": [
       "<div>\n",
       "<style scoped>\n",
       "    .dataframe tbody tr th:only-of-type {\n",
       "        vertical-align: middle;\n",
       "    }\n",
       "\n",
       "    .dataframe tbody tr th {\n",
       "        vertical-align: top;\n",
       "    }\n",
       "\n",
       "    .dataframe thead th {\n",
       "        text-align: right;\n",
       "    }\n",
       "</style>\n",
       "<table border=\"1\" class=\"dataframe\">\n",
       "  <thead>\n",
       "    <tr style=\"text-align: right;\">\n",
       "      <th></th>\n",
       "      <th></th>\n",
       "      <th>trip_number</th>\n",
       "      <th>total_trip_duration</th>\n",
       "      <th>minute_price</th>\n",
       "      <th>start_ride_price</th>\n",
       "      <th>subscription_fee</th>\n",
       "      <th>subscription_type</th>\n",
       "    </tr>\n",
       "    <tr>\n",
       "      <th>user_id</th>\n",
       "      <th>month</th>\n",
       "      <th></th>\n",
       "      <th></th>\n",
       "      <th></th>\n",
       "      <th></th>\n",
       "      <th></th>\n",
       "      <th></th>\n",
       "    </tr>\n",
       "  </thead>\n",
       "  <tbody>\n",
       "    <tr>\n",
       "      <th rowspan=\"9\" valign=\"top\">700</th>\n",
       "      <th>1</th>\n",
       "      <td>1</td>\n",
       "      <td>15.00</td>\n",
       "      <td>8</td>\n",
       "      <td>50</td>\n",
       "      <td>0</td>\n",
       "      <td>free</td>\n",
       "    </tr>\n",
       "    <tr>\n",
       "      <th>2</th>\n",
       "      <td>5</td>\n",
       "      <td>89.00</td>\n",
       "      <td>8</td>\n",
       "      <td>50</td>\n",
       "      <td>0</td>\n",
       "      <td>free</td>\n",
       "    </tr>\n",
       "    <tr>\n",
       "      <th>3</th>\n",
       "      <td>1</td>\n",
       "      <td>19.00</td>\n",
       "      <td>8</td>\n",
       "      <td>50</td>\n",
       "      <td>0</td>\n",
       "      <td>free</td>\n",
       "    </tr>\n",
       "    <tr>\n",
       "      <th>4</th>\n",
       "      <td>1</td>\n",
       "      <td>16.00</td>\n",
       "      <td>8</td>\n",
       "      <td>50</td>\n",
       "      <td>0</td>\n",
       "      <td>free</td>\n",
       "    </tr>\n",
       "    <tr>\n",
       "      <th>6</th>\n",
       "      <td>2</td>\n",
       "      <td>29.00</td>\n",
       "      <td>8</td>\n",
       "      <td>50</td>\n",
       "      <td>0</td>\n",
       "      <td>free</td>\n",
       "    </tr>\n",
       "    <tr>\n",
       "      <th>7</th>\n",
       "      <td>2</td>\n",
       "      <td>21.00</td>\n",
       "      <td>8</td>\n",
       "      <td>50</td>\n",
       "      <td>0</td>\n",
       "      <td>free</td>\n",
       "    </tr>\n",
       "    <tr>\n",
       "      <th>8</th>\n",
       "      <td>1</td>\n",
       "      <td>17.00</td>\n",
       "      <td>8</td>\n",
       "      <td>50</td>\n",
       "      <td>0</td>\n",
       "      <td>free</td>\n",
       "    </tr>\n",
       "    <tr>\n",
       "      <th>10</th>\n",
       "      <td>2</td>\n",
       "      <td>44.00</td>\n",
       "      <td>8</td>\n",
       "      <td>50</td>\n",
       "      <td>0</td>\n",
       "      <td>free</td>\n",
       "    </tr>\n",
       "    <tr>\n",
       "      <th>11</th>\n",
       "      <td>3</td>\n",
       "      <td>32.00</td>\n",
       "      <td>8</td>\n",
       "      <td>50</td>\n",
       "      <td>0</td>\n",
       "      <td>free</td>\n",
       "    </tr>\n",
       "    <tr>\n",
       "      <th rowspan=\"6\" valign=\"top\">701</th>\n",
       "      <th>1</th>\n",
       "      <td>1</td>\n",
       "      <td>18.00</td>\n",
       "      <td>8</td>\n",
       "      <td>50</td>\n",
       "      <td>0</td>\n",
       "      <td>free</td>\n",
       "    </tr>\n",
       "    <tr>\n",
       "      <th>2</th>\n",
       "      <td>2</td>\n",
       "      <td>27.00</td>\n",
       "      <td>8</td>\n",
       "      <td>50</td>\n",
       "      <td>0</td>\n",
       "      <td>free</td>\n",
       "    </tr>\n",
       "    <tr>\n",
       "      <th>3</th>\n",
       "      <td>1</td>\n",
       "      <td>17.00</td>\n",
       "      <td>8</td>\n",
       "      <td>50</td>\n",
       "      <td>0</td>\n",
       "      <td>free</td>\n",
       "    </tr>\n",
       "    <tr>\n",
       "      <th>4</th>\n",
       "      <td>1</td>\n",
       "      <td>14.00</td>\n",
       "      <td>8</td>\n",
       "      <td>50</td>\n",
       "      <td>0</td>\n",
       "      <td>free</td>\n",
       "    </tr>\n",
       "    <tr>\n",
       "      <th>5</th>\n",
       "      <td>1</td>\n",
       "      <td>15.00</td>\n",
       "      <td>8</td>\n",
       "      <td>50</td>\n",
       "      <td>0</td>\n",
       "      <td>free</td>\n",
       "    </tr>\n",
       "    <tr>\n",
       "      <th>6</th>\n",
       "      <td>2</td>\n",
       "      <td>26.00</td>\n",
       "      <td>8</td>\n",
       "      <td>50</td>\n",
       "      <td>0</td>\n",
       "      <td>free</td>\n",
       "    </tr>\n",
       "  </tbody>\n",
       "</table>\n",
       "</div>"
      ],
      "text/plain": [
       "               trip_number  total_trip_duration  minute_price  \\\n",
       "user_id month                                                   \n",
       "700     1                1                15.00             8   \n",
       "        2                5                89.00             8   \n",
       "        3                1                19.00             8   \n",
       "        4                1                16.00             8   \n",
       "        6                2                29.00             8   \n",
       "        7                2                21.00             8   \n",
       "        8                1                17.00             8   \n",
       "        10               2                44.00             8   \n",
       "        11               3                32.00             8   \n",
       "701     1                1                18.00             8   \n",
       "        2                2                27.00             8   \n",
       "        3                1                17.00             8   \n",
       "        4                1                14.00             8   \n",
       "        5                1                15.00             8   \n",
       "        6                2                26.00             8   \n",
       "\n",
       "               start_ride_price  subscription_fee subscription_type  \n",
       "user_id month                                                        \n",
       "700     1                    50                 0              free  \n",
       "        2                    50                 0              free  \n",
       "        3                    50                 0              free  \n",
       "        4                    50                 0              free  \n",
       "        6                    50                 0              free  \n",
       "        7                    50                 0              free  \n",
       "        8                    50                 0              free  \n",
       "        10                   50                 0              free  \n",
       "        11                   50                 0              free  \n",
       "701     1                    50                 0              free  \n",
       "        2                    50                 0              free  \n",
       "        3                    50                 0              free  \n",
       "        4                    50                 0              free  \n",
       "        5                    50                 0              free  \n",
       "        6                    50                 0              free  "
      ]
     },
     "execution_count": 37,
     "metadata": {},
     "output_type": "execute_result"
    }
   ],
   "source": [
    "# Для начала округлим длительность поездки до целого числа в большую сторону\n",
    "data_free['duration']=data_free['duration'].apply(np.ceil)\n",
    "# Для пользователей без подписки\n",
    "data_pivot_free=pd.pivot_table(data_free, index=['user_id','month'], values=['distance', 'duration', 'minute_price','start_ride_price','subscription_fee'], aggfunc={'distance':'count', 'duration':'sum','minute_price':'mean','start_ride_price':'mean','subscription_fee':'mean'})\n",
    "data_pivot_free=data_pivot_free.rename(columns={'distance':'trip_number', 'duration':'total_trip_duration'})\n",
    "data_pivot_free['subscription_type']='free'\n",
    "data_pivot_free.head(15)"
   ]
  },
  {
   "cell_type": "code",
   "execution_count": 38,
   "id": "6205ea1a",
   "metadata": {},
   "outputs": [
    {
     "data": {
      "text/html": [
       "<div>\n",
       "<style scoped>\n",
       "    .dataframe tbody tr th:only-of-type {\n",
       "        vertical-align: middle;\n",
       "    }\n",
       "\n",
       "    .dataframe tbody tr th {\n",
       "        vertical-align: top;\n",
       "    }\n",
       "\n",
       "    .dataframe thead th {\n",
       "        text-align: right;\n",
       "    }\n",
       "</style>\n",
       "<table border=\"1\" class=\"dataframe\">\n",
       "  <thead>\n",
       "    <tr style=\"text-align: right;\">\n",
       "      <th></th>\n",
       "      <th></th>\n",
       "      <th>trip_number</th>\n",
       "      <th>total_trip_duration</th>\n",
       "      <th>minute_price</th>\n",
       "      <th>start_ride_price</th>\n",
       "      <th>subscription_fee</th>\n",
       "      <th>subscription_type</th>\n",
       "      <th>revenue</th>\n",
       "    </tr>\n",
       "    <tr>\n",
       "      <th>user_id</th>\n",
       "      <th>month</th>\n",
       "      <th></th>\n",
       "      <th></th>\n",
       "      <th></th>\n",
       "      <th></th>\n",
       "      <th></th>\n",
       "      <th></th>\n",
       "      <th></th>\n",
       "    </tr>\n",
       "  </thead>\n",
       "  <tbody>\n",
       "    <tr>\n",
       "      <th rowspan=\"5\" valign=\"top\">1</th>\n",
       "      <th>1</th>\n",
       "      <td>2</td>\n",
       "      <td>42.00</td>\n",
       "      <td>6</td>\n",
       "      <td>0</td>\n",
       "      <td>199</td>\n",
       "      <td>ultra</td>\n",
       "      <td>451.00</td>\n",
       "    </tr>\n",
       "    <tr>\n",
       "      <th>4</th>\n",
       "      <td>1</td>\n",
       "      <td>7.00</td>\n",
       "      <td>6</td>\n",
       "      <td>0</td>\n",
       "      <td>199</td>\n",
       "      <td>ultra</td>\n",
       "      <td>241.00</td>\n",
       "    </tr>\n",
       "    <tr>\n",
       "      <th>8</th>\n",
       "      <td>2</td>\n",
       "      <td>46.00</td>\n",
       "      <td>6</td>\n",
       "      <td>0</td>\n",
       "      <td>199</td>\n",
       "      <td>ultra</td>\n",
       "      <td>475.00</td>\n",
       "    </tr>\n",
       "    <tr>\n",
       "      <th>10</th>\n",
       "      <td>2</td>\n",
       "      <td>32.00</td>\n",
       "      <td>6</td>\n",
       "      <td>0</td>\n",
       "      <td>199</td>\n",
       "      <td>ultra</td>\n",
       "      <td>391.00</td>\n",
       "    </tr>\n",
       "    <tr>\n",
       "      <th>11</th>\n",
       "      <td>3</td>\n",
       "      <td>56.00</td>\n",
       "      <td>6</td>\n",
       "      <td>0</td>\n",
       "      <td>199</td>\n",
       "      <td>ultra</td>\n",
       "      <td>535.00</td>\n",
       "    </tr>\n",
       "  </tbody>\n",
       "</table>\n",
       "</div>"
      ],
      "text/plain": [
       "               trip_number  total_trip_duration  minute_price  \\\n",
       "user_id month                                                   \n",
       "1       1                2                42.00             6   \n",
       "        4                1                 7.00             6   \n",
       "        8                2                46.00             6   \n",
       "        10               2                32.00             6   \n",
       "        11               3                56.00             6   \n",
       "\n",
       "               start_ride_price  subscription_fee subscription_type  revenue  \n",
       "user_id month                                                                 \n",
       "1       1                     0               199             ultra   451.00  \n",
       "        4                     0               199             ultra   241.00  \n",
       "        8                     0               199             ultra   475.00  \n",
       "        10                    0               199             ultra   391.00  \n",
       "        11                    0               199             ultra   535.00  "
      ]
     },
     "execution_count": 38,
     "metadata": {},
     "output_type": "execute_result"
    }
   ],
   "source": [
    "# добавим столбец с помесячной выручкой, которую принёс каждый пользователь.\n",
    "# Для пользователей с подпиской\n",
    "data_pivot_ultra['revenue']=data_pivot_ultra['trip_number']*data_pivot_ultra['start_ride_price']+data_pivot_ultra['total_trip_duration']*data_pivot_ultra['minute_price']+data_pivot_ultra['subscription_fee']\n",
    "data_pivot_ultra.head()"
   ]
  },
  {
   "cell_type": "code",
   "execution_count": 39,
   "id": "ce556008",
   "metadata": {},
   "outputs": [
    {
     "data": {
      "image/png": "[encoded data removed]",
      "text/plain": [
       "<Figure size 432x288 with 1 Axes>"
      ]
     },
     "metadata": {
      "needs_background": "light"
     },
     "output_type": "display_data"
    }
   ],
   "source": [
    "data_pivot_ultra['revenue'].plot.hist()\n",
    "plt.title('Распределение выручки, которую приносит 1 пользователь с подпиской в месяц')\n",
    "plt.xlabel('Размер выручки')\n",
    "plt.ylabel('частота')\n",
    "plt.show()"
   ]
  },
  {
   "cell_type": "code",
   "execution_count": 40,
   "id": "c164a8be",
   "metadata": {},
   "outputs": [
    {
     "data": {
      "text/plain": [
       "count   4,533.00\n",
       "mean      362.79\n",
       "std        88.26\n",
       "min       223.00\n",
       "25%       301.00\n",
       "50%       337.00\n",
       "75%       409.00\n",
       "max       955.00\n",
       "Name: revenue, dtype: float64"
      ]
     },
     "execution_count": 40,
     "metadata": {},
     "output_type": "execute_result"
    }
   ],
   "source": [
    "data_pivot_ultra['revenue'].describe()"
   ]
  },
  {
   "cell_type": "code",
   "execution_count": 41,
   "id": "67ff382d",
   "metadata": {},
   "outputs": [
    {
     "data": {
      "text/html": [
       "<div>\n",
       "<style scoped>\n",
       "    .dataframe tbody tr th:only-of-type {\n",
       "        vertical-align: middle;\n",
       "    }\n",
       "\n",
       "    .dataframe tbody tr th {\n",
       "        vertical-align: top;\n",
       "    }\n",
       "\n",
       "    .dataframe thead th {\n",
       "        text-align: right;\n",
       "    }\n",
       "</style>\n",
       "<table border=\"1\" class=\"dataframe\">\n",
       "  <thead>\n",
       "    <tr style=\"text-align: right;\">\n",
       "      <th></th>\n",
       "      <th></th>\n",
       "      <th>trip_number</th>\n",
       "      <th>total_trip_duration</th>\n",
       "      <th>minute_price</th>\n",
       "      <th>start_ride_price</th>\n",
       "      <th>subscription_fee</th>\n",
       "      <th>subscription_type</th>\n",
       "      <th>revenue</th>\n",
       "    </tr>\n",
       "    <tr>\n",
       "      <th>user_id</th>\n",
       "      <th>month</th>\n",
       "      <th></th>\n",
       "      <th></th>\n",
       "      <th></th>\n",
       "      <th></th>\n",
       "      <th></th>\n",
       "      <th></th>\n",
       "      <th></th>\n",
       "    </tr>\n",
       "  </thead>\n",
       "  <tbody>\n",
       "    <tr>\n",
       "      <th rowspan=\"5\" valign=\"top\">700</th>\n",
       "      <th>1</th>\n",
       "      <td>1</td>\n",
       "      <td>15.00</td>\n",
       "      <td>8</td>\n",
       "      <td>50</td>\n",
       "      <td>0</td>\n",
       "      <td>free</td>\n",
       "      <td>170.00</td>\n",
       "    </tr>\n",
       "    <tr>\n",
       "      <th>2</th>\n",
       "      <td>5</td>\n",
       "      <td>89.00</td>\n",
       "      <td>8</td>\n",
       "      <td>50</td>\n",
       "      <td>0</td>\n",
       "      <td>free</td>\n",
       "      <td>962.00</td>\n",
       "    </tr>\n",
       "    <tr>\n",
       "      <th>3</th>\n",
       "      <td>1</td>\n",
       "      <td>19.00</td>\n",
       "      <td>8</td>\n",
       "      <td>50</td>\n",
       "      <td>0</td>\n",
       "      <td>free</td>\n",
       "      <td>202.00</td>\n",
       "    </tr>\n",
       "    <tr>\n",
       "      <th>4</th>\n",
       "      <td>1</td>\n",
       "      <td>16.00</td>\n",
       "      <td>8</td>\n",
       "      <td>50</td>\n",
       "      <td>0</td>\n",
       "      <td>free</td>\n",
       "      <td>178.00</td>\n",
       "    </tr>\n",
       "    <tr>\n",
       "      <th>6</th>\n",
       "      <td>2</td>\n",
       "      <td>29.00</td>\n",
       "      <td>8</td>\n",
       "      <td>50</td>\n",
       "      <td>0</td>\n",
       "      <td>free</td>\n",
       "      <td>332.00</td>\n",
       "    </tr>\n",
       "  </tbody>\n",
       "</table>\n",
       "</div>"
      ],
      "text/plain": [
       "               trip_number  total_trip_duration  minute_price  \\\n",
       "user_id month                                                   \n",
       "700     1                1                15.00             8   \n",
       "        2                5                89.00             8   \n",
       "        3                1                19.00             8   \n",
       "        4                1                16.00             8   \n",
       "        6                2                29.00             8   \n",
       "\n",
       "               start_ride_price  subscription_fee subscription_type  revenue  \n",
       "user_id month                                                                 \n",
       "700     1                    50                 0              free   170.00  \n",
       "        2                    50                 0              free   962.00  \n",
       "        3                    50                 0              free   202.00  \n",
       "        4                    50                 0              free   178.00  \n",
       "        6                    50                 0              free   332.00  "
      ]
     },
     "execution_count": 41,
     "metadata": {},
     "output_type": "execute_result"
    }
   ],
   "source": [
    "# Для пользователей без подписки\n",
    "data_pivot_free['revenue']=data_pivot_free['trip_number']*data_pivot_free['start_ride_price']+data_pivot_free['total_trip_duration']*data_pivot_free['minute_price']+data_pivot_free['subscription_fee']\n",
    "data_pivot_free.head()"
   ]
  },
  {
   "cell_type": "code",
   "execution_count": 42,
   "id": "31a3a585",
   "metadata": {},
   "outputs": [
    {
     "data": {
      "image/png": "[encoded data removed]",
      "text/plain": [
       "<Figure size 432x288 with 1 Axes>"
      ]
     },
     "metadata": {
      "needs_background": "light"
     },
     "output_type": "display_data"
    }
   ],
   "source": [
    "data_pivot_free['revenue'].plot.hist()\n",
    "plt.title('Распределение выручки, которую приносит 1 пользователь без подписки в месяц')\n",
    "plt.xlabel('Размер выручки')\n",
    "plt.ylabel('частота')\n",
    "plt.show()"
   ]
  },
  {
   "cell_type": "code",
   "execution_count": 43,
   "id": "7e7a04f2",
   "metadata": {},
   "outputs": [
    {
     "data": {
      "text/plain": [
       "count   6,798.00\n",
       "mean      328.64\n",
       "std       183.87\n",
       "min        58.00\n",
       "25%       194.00\n",
       "50%       274.00\n",
       "75%       428.00\n",
       "max     1,444.00\n",
       "Name: revenue, dtype: float64"
      ]
     },
     "execution_count": 43,
     "metadata": {},
     "output_type": "execute_result"
    }
   ],
   "source": [
    "data_pivot_free['revenue'].describe()"
   ]
  },
  {
   "cell_type": "markdown",
   "id": "87a276ec",
   "metadata": {},
   "source": [
    "Как показывают графики и описание, в среднем пользователи с подпиской приносят бОльшую месячную выручку, чем пользователи без подписок.\n",
    "В таблицы с информацией о пользователях с подпиской и без были добавлены столбцы: Кол-во поездок, Суммарная длительность поездок, выручка в разрезе каждого пользователя и каждого месяца.\n",
    "В следующей главе будем проверять гипотезы."
   ]
  },
  {
   "cell_type": "markdown",
   "id": "849ff17e",
   "metadata": {},
   "source": [
    "#### Шаг 6. Проверка гипотез"
   ]
  },
  {
   "cell_type": "markdown",
   "id": "a3f7a71c",
   "metadata": {},
   "source": [
    "Продакт-менеджеры сервиса хотят увеличить количество пользователей с подпиской. Для этого они будут проводить различные акции, но сначала нужно выяснить несколько важных моментов."
   ]
  },
  {
   "cell_type": "markdown",
   "id": "7be1ee99",
   "metadata": {},
   "source": [
    "##### Важно понять, тратят ли пользователи с подпиской больше времени на поездки? Если да, то пользователи с подпиской могут быть «выгоднее» для компании. <br>\n",
    "H0: время, затраченное пользователем с подпиской на поездку = время, затраченное пользователем без подписки на поездку <br>\n",
    "H1: время, затраченное пользователем с подпиской на поездку > время, затраченное пользователем без подписки на поездку\n",
    "\n",
    "У нас есть 2 генеральные совокупности: таблицы с информацией о пользователях с подпиской и без. Уровень значимости установим 0,05. Будем использовать критерий Стьюдента для двух независимых выборок."
   ]
  },
  {
   "cell_type": "code",
   "execution_count": 44,
   "id": "cb01418e",
   "metadata": {},
   "outputs": [
    {
     "name": "stdout",
     "output_type": "stream",
     "text": [
      "p-value: 1.1814679253701353e-36\n",
      "Отвергаем нулевую гипотезу\n"
     ]
    }
   ],
   "source": [
    "# задаём уровень значимости\n",
    "alpha = 0.05\n",
    "# проводим ttest для двух выборок, в качестве альтернативной используем одностороннюю гипотезу «больше»\n",
    "results = st.ttest_ind(data_ultra['duration'], data_free['duration'], alternative='greater', equal_var=False)\n",
    "\n",
    "print(f'p-value: {results.pvalue}')\n",
    "\n",
    "# проверяем p-value\n",
    "if results.pvalue < alpha:\n",
    "    print('Отвергаем нулевую гипотезу')\n",
    "else:\n",
    "    print('Нет оснований отвергнуть нулевую гипотезу')"
   ]
  },
  {
   "cell_type": "code",
   "execution_count": 45,
   "id": "cdffa1d8",
   "metadata": {},
   "outputs": [
    {
     "name": "stdout",
     "output_type": "stream",
     "text": [
      "Средняя продолжительность поездки пользователя с подпиской 19.037692307692307\n",
      "Средняя продолжительность поездки пользователя без подписки 17.890992392807746\n"
     ]
    }
   ],
   "source": [
    "# Выведем средние продолжительности поездок для каждой категории пользовавтелей\n",
    "print('Средняя продолжительность поездки пользователя с подпиской', data_ultra['duration'].mean())\n",
    "print('Средняя продолжительность поездки пользователя без подписки', data_free['duration'].mean())"
   ]
  },
  {
   "cell_type": "markdown",
   "id": "25c2fff1",
   "metadata": {},
   "source": [
    "Вывод: Полученное значение p-value (~1.1814679253701353e-36) крайне мало и меньше заданного уровня значимости, поэтому мы  отвергаем нулевую гипотезу. Видимо пользователи с подпиской действительно тратят времени в среднем больше, чем пользователи без подписки.<br>\n",
    "Средние значения так же подтверждают правильность результатов теста."
   ]
  },
  {
   "cell_type": "markdown",
   "id": "475b7166",
   "metadata": {},
   "source": [
    "##### Расстояние одной поездки в 3130 метров — оптимальное с точки зрения износа самоката. Можно ли сказать, что среднее расстояние, которое проезжают пользователи с подпиской за одну поездку, не превышает 3130 метров? \n",
    "\n",
    "H0:μ=3130 (среднее расстояние, которое проезжают пользователи с подпиской за одну поездку, равно 3130 метров) <br>\n",
    "H1:μ>3130 (среднее расстояние, которое проезжают пользователи с подпиской за одну поездку, больше 3130 метров) <br>\n",
    "Это проверка односторонней гипотезы о равенстве среднего генеральной совокупности. Будем использовать t-тест.\n",
    "Уровень значимости установим 0,05."
   ]
  },
  {
   "cell_type": "code",
   "execution_count": 46,
   "id": "bf15cf5e",
   "metadata": {},
   "outputs": [
    {
     "name": "stdout",
     "output_type": "stream",
     "text": [
      "p-значение: 0.9195368847849785\n",
      "Не получилось отвергнуть нулевую гипотезу\n"
     ]
    }
   ],
   "source": [
    "interested_value = 3130 # такую дистанцию в среднем\n",
    "\n",
    "alpha = 0.05 # уровень статистической значимости\n",
    "            # можно указать .05 или 0.05\n",
    "\n",
    "results = st.ttest_1samp(\n",
    "    data_ultra['distance'], \n",
    "    interested_value, alternative='greater' )\n",
    "\n",
    "print('p-значение:', results.pvalue)\n",
    "\n",
    "if results.pvalue < alpha:\n",
    "    print('Отвергаем нулевую гипотезу')\n",
    "else:\n",
    "    print('Не получилось отвергнуть нулевую гипотезу')"
   ]
  },
  {
   "cell_type": "markdown",
   "id": "f37e1127",
   "metadata": {},
   "source": [
    "Вывод: Полученное значение p-value (~0.9195368847849785) больше заданного уровня значимости, поэтому мы не можем отвергнуть нулевую гипотезу. Видимо пользователи с подпиской действительно проезжают в среднем не больше 3130 м."
   ]
  },
  {
   "cell_type": "markdown",
   "id": "0e7c9039",
   "metadata": {},
   "source": [
    "##### Проверьте гипотезу о том, будет ли помесячная выручка от пользователей с подпиской по месяцам выше, чем выручка от пользователей без подписки. <br>\n",
    "H0: помесячная выручка от пользователей с подпиской по месяцам = помесячная выручка от пользователей без подписки по месяцам <br>\n",
    "H1: помесячная выручка от пользователей с подпиской по месяцам > помесячная выручка от пользователей без подписки по месяцам\n",
    "\n",
    "У нас есть 2 генеральные совокупности: таблицы с информацией о пользователях с подпиской и без. Уровень значимости установим 0,05. Будем использовать критерий Стьюдента для двух независимых выборок."
   ]
  },
  {
   "cell_type": "code",
   "execution_count": 47,
   "id": "647c2976",
   "metadata": {},
   "outputs": [
    {
     "name": "stdout",
     "output_type": "stream",
     "text": [
      "p-value: 8.874140893976874e-40\n",
      "Отвергаем нулевую гипотезу\n"
     ]
    }
   ],
   "source": [
    "# задаём уровень значимости\n",
    "alpha = 0.05\n",
    "# проводим ttest для двух выборок, в качестве альтернативной используем одностороннюю гипотезу «больше»\n",
    "results = st.ttest_ind(data_pivot_ultra['revenue'], data_pivot_free['revenue'], alternative='greater', equal_var=False)\n",
    "\n",
    "print(f'p-value: {results.pvalue}')\n",
    "\n",
    "# проверяем p-value\n",
    "if results.pvalue < alpha:\n",
    "    print('Отвергаем нулевую гипотезу')\n",
    "else:\n",
    "    print('Нет оснований отвергнуть нулевую гипотезу')"
   ]
  },
  {
   "cell_type": "markdown",
   "id": "b9e3041e",
   "metadata": {},
   "source": [
    "Вывод: Полученное значение p-value (~8.874140893976874e-40) меньше заданного уровня значимости, поэтому мы не можем принять нулевую гипотезу. Видимо пользователи с подпиской приносят в среднем большую выручку, чем пользователи без подписки."
   ]
  },
  {
   "cell_type": "markdown",
   "id": "c0d0ab25",
   "metadata": {},
   "source": [
    "##### Представьте такую ситуацию: техническая команда сервиса обновила сервера, с которыми взаимодействует мобильное приложение. Она надеется, что из-за этого количество обращений в техподдержку значимо снизилось. Некоторый файл содержит для каждого пользователя данные о количестве обращений до обновления и после него. Какой тест вам понадобился бы для проверки этой гипотезы?"
   ]
  },
  {
   "cell_type": "markdown",
   "id": "43b0151e",
   "metadata": {},
   "source": [
    "Для проверки этой гипотезы нужно и спользовать t критерий Стьюдента для зависимых (парных) выборок (односторонняя гипотеза (меньше)). Нужно использовать метод scipy.stats.ttest_rel()."
   ]
  },
  {
   "cell_type": "markdown",
   "id": "1fcd5fa2",
   "metadata": {},
   "source": [
    "**Вывод:** мы проверили несколько гипотез и установили:<br>\n",
    "Вероятно пользователи с подпиской тратят времени на поездки в среднем больше, чем пользователи без подписки.<br>\n",
    "Вероятно пользователи с подпиской действительно проезжают в среднем не больше 3130 м.<br>\n",
    "Вероятно пользователи с подпиской приносят в среднем большую выручку, чем пользователи без подписки.<br>\n",
    "Для проверки односторонних гипотез я использовала t критерий Стьюдента для независимых выборок, а также t тест для проверки равенства среднего генеральной совокупности."
   ]
  },
  {
   "cell_type": "markdown",
   "id": "a18d0063",
   "metadata": {},
   "source": [
    "#### Шаг 7. Распределения"
   ]
  },
  {
   "cell_type": "markdown",
   "id": "5f19a986",
   "metadata": {},
   "source": [
    "##### Отделу маркетинга GoFast поставили задачу: нужно провести акцию с раздачей промокодов на один бесплатный месяц подписки, в рамках которой как минимум 100 существующих клиентов должны продлить эту подписку. То есть по завершении периода действия подписки пользователь может либо отказаться от неё, либо продлить, совершив соответствующий платёж. \n",
    "Эта акция уже проводилась ранее и по итогу выяснилось, что после бесплатного пробного периода подписку продлевают 10% пользователей. Выясните, какое минимальное количество промокодов нужно разослать, чтобы вероятность не выполнить план была примерно 5 %. Подберите параметры распределения, описывающего эту ситуацию, постройте график распределения и сформулируйте ответ на вопрос о количестве промокодов."
   ]
  },
  {
   "cell_type": "markdown",
   "id": "fbda46ab",
   "metadata": {},
   "source": [
    "В этой задаче нам предстоит работать с биноминальным распределением, так как у нас всего 2 исхода: либо продление подписки (успех), либо отказ от нее (неудача.) <br>\n",
    "Предположение: на первый взгляд кажется, что нужно разослать промокод около 1000 клиентов. Посмотрим на это предположение на графике биноминального распределения."
   ]
  },
  {
   "cell_type": "code",
   "execution_count": 48,
   "id": "bfa75f9d",
   "metadata": {},
   "outputs": [
    {
     "name": "stderr",
     "output_type": "stream",
     "text": [
      "/opt/conda/lib/python3.9/site-packages/scipy/stats/_discrete_distns.py:78: RuntimeWarning: divide by zero encountered in _binom_pdf\n",
      "  return _boost._binom_pdf(x, n, p)\n"
     ]
    },
    {
     "data": {
      "text/plain": [
       "<BarContainer object of 1000 artists>"
      ]
     },
     "execution_count": 48,
     "metadata": {},
     "output_type": "execute_result"
    },
    {
     "data": {
      "image/png": "[encoded data removed]",
      "text/plain": [
       "<Figure size 1440x1440 with 1 Axes>"
      ]
     },
     "metadata": {
      "needs_background": "light"
     },
     "output_type": "display_data"
    }
   ],
   "source": [
    "n = 1000\n",
    "# количество попыток\n",
    "p = 0.1 # вероятность успеха\n",
    "\n",
    "distr = []\n",
    "\n",
    "for k in range(0, n):\n",
    "    current_value = binom.pmf(k, n, p)\n",
    "    distr.append(current_value)\n",
    "plt.figure(figsize=(20,20))\n",
    "plt.xticks(np.arange(0, 1000, 50))     \n",
    "plt.bar(range(0, n), distr)"
   ]
  },
  {
   "cell_type": "markdown",
   "id": "ce0c8fe5",
   "metadata": {},
   "source": [
    "Судя по графику, вероятность неудачи(привлечь менее 100 клиентов) при отправке в 1000 промокодов явно больше 5%. Рассчитаем точный % вероятности."
   ]
  },
  {
   "cell_type": "code",
   "execution_count": 49,
   "id": "43fd313b",
   "metadata": {},
   "outputs": [
    {
     "name": "stdout",
     "output_type": "stream",
     "text": [
      "0.5265990812951653\n"
     ]
    }
   ],
   "source": [
    "# задаём параметры биномиального распределения для вычисления вероятность с помощью метода binom.cdf\n",
    "# зададим размер выборки клиентов (общее число испытаний). Это наше искомое число\n",
    "n = 1000\n",
    "# Зададим вероятность успеха\n",
    "p = 0.1\n",
    "# Зададим ожидаемое число привлеченных пользователей (успешных испытаний)\n",
    "k=100\n",
    "\n",
    "# считаем вероятность привлечь 100 и менее клиентов при охвате 1000 клиентов\n",
    "result = st.binom.cdf(k, n, p)\n",
    "print(result)\n"
   ]
  },
  {
   "cell_type": "markdown",
   "id": "e1980cbf",
   "metadata": {},
   "source": [
    "Вероятность привлечь менее 100 клиентов очень большая = 50%. А по условию задачи нам нужно получить вероятность 5%. Значит охват в 1000 клиентов нам не подходит. Будем подбирать параметры."
   ]
  },
  {
   "cell_type": "code",
   "execution_count": 50,
   "id": "ff09e6f9",
   "metadata": {},
   "outputs": [
    {
     "name": "stdout",
     "output_type": "stream",
     "text": [
      "1172\n"
     ]
    }
   ],
   "source": [
    "# Запустим цикл для подбора параметра n  - кол-во промокодов, которое нужно разослать, чтобы привлечь не менее 100 клиентов, при этом вероятность не выполнить план 5%.\n",
    "distr=[]\n",
    "\n",
    "for n in range(900, 1200):\n",
    "    result=st.binom.cdf(k, n, p)\n",
    "    if result<=0.05:\n",
    "        print(n)\n",
    "        break"
   ]
  },
  {
   "cell_type": "markdown",
   "id": "d36942b5",
   "metadata": {},
   "source": [
    "Методом подбора получилось найти приблизительное кол-во промокодов, которое необходимо отправить, чтобы вероятность не выполнить план была примерно 5 %. Это число 1172."
   ]
  },
  {
   "cell_type": "markdown",
   "id": "ab09bc0f",
   "metadata": {},
   "source": [
    "##### Отдел маркетинга рассылает клиентам push-уведомления в мобильном приложении. Клиенты могут открыть его или не открывать. Известно, что уведомления открывают около 40 % получивших клиентов. Отдел планирует разослать 1 млн уведомлений. С помощью аппроксимации постройте примерный график распределения и оцените вероятность того, что уведомление откроют не более 399,5 тыс. пользователей."
   ]
  },
  {
   "cell_type": "markdown",
   "id": "9d0d1af4",
   "metadata": {},
   "source": [
    "Эту задачу тоже буду решать с помощью аппроксимации биноминального распределения нормальным. Нам нужно найти"
   ]
  },
  {
   "cell_type": "code",
   "execution_count": 51,
   "id": "0d65c0e6",
   "metadata": {},
   "outputs": [
    {
     "name": "stdout",
     "output_type": "stream",
     "text": [
      "0.15371708296369768\n"
     ]
    }
   ],
   "source": [
    "# задаём параметры биномиального распределения\n",
    "n = 1000000\n",
    "p = 0.4\n",
    "interested_value=399500\n",
    "# зададим параметры нормального распределения равными\n",
    "# мат.ожиданию и дисперсии биномиального распределения\n",
    "mu = n * p\n",
    "sigma = sqrt(n * p * (1 - p))\n",
    "\n",
    "# задаём нормальное распределение\n",
    "distr = st.norm(mu, sigma) \n",
    "\n",
    "\n",
    "# считаем вероятность, что уведомление откроют не более 399500 клиентов\n",
    "result = distr.cdf(interested_value)\n",
    "print(result)"
   ]
  },
  {
   "cell_type": "markdown",
   "id": "4808e3ab",
   "metadata": {},
   "source": [
    "Вероятность того, что уведомление откроют не более 399500 пользователей около 15%."
   ]
  },
  {
   "cell_type": "markdown",
   "id": "6ff52a9f",
   "metadata": {},
   "source": [
    "#### Общий вывод"
   ]
  },
  {
   "cell_type": "markdown",
   "id": "f6b58b8d",
   "metadata": {},
   "source": [
    "В данном проекте было проведено исследование пользователей с подписками и без сервиса аренды самокатов GoFast , а также их поездок. \n",
    "Предобработка данных практически не потребовалась. Данные без аномалий и без неявных дубликатов.\n",
    "Данные представлены за 2021 год. Первичная информация была представлена в 3 таблицах: информация о пользователях, поездках и типах подписок. Для дальнейшего исследования таблицы были обьеденины и разделены по категориям пользователей: с подпиской(6500 записей) и без(11568 записей).\n",
    "В ходе анализа было выяснено: <br>\n",
    "Больше всего клиентов из Пятигорска(чуть больше 200), а меньше всего - из Москвы (около 170).<br>\n",
    "Пользователей без подписки больше(54%), чем с подпиской (46%)<br>\n",
    "Средний возраст клиентов 25 лет, самый младший клиент - 12 лет, старший - 43 года<br>\n",
    "Средняя дистанция одной поездки чуть больше 3 км, минимальная - около 90 м, наибольшая - около 7 км <br>\n",
    "Средняя продолжительность поездки - около 18 мин, минимальная около минуты, самая длинная - около 41 минуты.\n",
    "\n",
    "Были проверены несколько гипотез и статистика показала, что: \n",
    "- Вероятно пользователи с подпиской тратят времени на поездки в среднем больше, чем пользователи без подписки.<br>\n",
    "- Вероятно пользователи с подпиской действительно проезжают в среднем не больше 3130 м.<br>\n",
    "- Вероятно пользователи с подпиской приносят в среднем большую выручку, чем пользователи без подписки.<br>\n",
    "Для проверки односторонних гипотез я использовала t критерий Стьюдента для независимых выборок (1 и 3 гипотезы), а также t тест для проверки равенства среднего генеральной совокупности (2 гипотеза).\n",
    "\n",
    "Также, было найдено кол-во промокодов на пробную подписку, которое необходимо разослать клиентам, чтобы как минимум 100 клиентов продлили подписку после пробного периода. При этом вероятность не выполнить план должна быть примерно 5 %. Было получено число 1172. <br>\n",
    "Была рассчитана вероятность, что не более 399500 пользователей откроют push-уведомления от сервиса при условии, что всего планируется разослать 1 млн уведомлений, а вероятность успеха 40%. Вероятность получилась около 15%."
   ]
  }
 ],
 "metadata": {
  "ExecuteTimeLog": [
   {
    "duration": 842,
    "start_time": "2023-11-06T11:25:54.931Z"
   },
   {
    "duration": 94,
    "start_time": "2023-11-06T11:25:57.381Z"
   },
   {
    "duration": 117,
    "start_time": "2023-11-06T11:26:03.123Z"
   },
   {
    "duration": 94,
    "start_time": "2023-11-06T11:26:28.223Z"
   },
   {
    "duration": 71,
    "start_time": "2023-11-06T11:26:30.866Z"
   },
   {
    "duration": 46,
    "start_time": "2023-11-06T17:56:33.227Z"
   },
   {
    "duration": 52,
    "start_time": "2023-11-06T17:57:29.110Z"
   },
   {
    "duration": 37,
    "start_time": "2023-11-06T17:58:11.430Z"
   },
   {
    "duration": 2,
    "start_time": "2023-11-06T17:59:48.807Z"
   },
   {
    "duration": 43,
    "start_time": "2023-11-06T17:59:50.452Z"
   },
   {
    "duration": 50,
    "start_time": "2023-11-06T17:59:54.055Z"
   },
   {
    "duration": 3072,
    "start_time": "2023-11-06T17:59:58.002Z"
   },
   {
    "duration": 9,
    "start_time": "2023-11-06T18:05:46.775Z"
   },
   {
    "duration": 9,
    "start_time": "2023-11-06T18:08:56.222Z"
   },
   {
    "duration": 9,
    "start_time": "2023-11-06T18:09:24.122Z"
   },
   {
    "duration": 9,
    "start_time": "2023-11-06T18:09:31.636Z"
   },
   {
    "duration": 8,
    "start_time": "2023-11-06T18:09:38.075Z"
   },
   {
    "duration": 10,
    "start_time": "2023-11-06T18:10:00.788Z"
   },
   {
    "duration": 8,
    "start_time": "2023-11-06T18:10:32.821Z"
   },
   {
    "duration": 8,
    "start_time": "2023-11-06T18:10:42.761Z"
   },
   {
    "duration": 12,
    "start_time": "2023-11-06T18:12:44.010Z"
   },
   {
    "duration": 10,
    "start_time": "2023-11-06T18:13:09.654Z"
   },
   {
    "duration": 12,
    "start_time": "2023-11-06T18:13:41.822Z"
   },
   {
    "duration": 4,
    "start_time": "2023-11-06T18:17:10.537Z"
   },
   {
    "duration": 7,
    "start_time": "2023-11-06T18:17:29.019Z"
   },
   {
    "duration": 7,
    "start_time": "2023-11-06T18:25:56.391Z"
   },
   {
    "duration": 6,
    "start_time": "2023-11-06T18:26:32.232Z"
   },
   {
    "duration": 582,
    "start_time": "2023-11-06T18:27:23.851Z"
   },
   {
    "duration": 144,
    "start_time": "2023-11-06T18:27:40.433Z"
   },
   {
    "duration": 971,
    "start_time": "2023-11-07T07:21:16.142Z"
   },
   {
    "duration": 3,
    "start_time": "2023-11-07T07:21:17.115Z"
   },
   {
    "duration": 112,
    "start_time": "2023-11-07T07:21:17.119Z"
   },
   {
    "duration": 82,
    "start_time": "2023-11-07T07:21:17.233Z"
   },
   {
    "duration": 64,
    "start_time": "2023-11-07T07:21:17.318Z"
   },
   {
    "duration": 7,
    "start_time": "2023-11-07T07:21:17.384Z"
   },
   {
    "duration": 25,
    "start_time": "2023-11-07T07:21:17.393Z"
   },
   {
    "duration": 14,
    "start_time": "2023-11-07T07:21:17.420Z"
   },
   {
    "duration": 32,
    "start_time": "2023-11-07T07:21:17.436Z"
   },
   {
    "duration": 14,
    "start_time": "2023-11-07T07:21:17.469Z"
   },
   {
    "duration": 14,
    "start_time": "2023-11-07T07:21:17.485Z"
   },
   {
    "duration": 659,
    "start_time": "2023-11-07T07:21:17.501Z"
   },
   {
    "duration": 14,
    "start_time": "2023-11-07T07:21:46.525Z"
   },
   {
    "duration": 98,
    "start_time": "2023-11-07T07:22:41.364Z"
   },
   {
    "duration": 7,
    "start_time": "2023-11-07T07:23:20.675Z"
   },
   {
    "duration": 6,
    "start_time": "2023-11-07T07:23:52.695Z"
   },
   {
    "duration": 22,
    "start_time": "2023-11-07T07:25:37.284Z"
   },
   {
    "duration": 6,
    "start_time": "2023-11-07T07:27:10.574Z"
   },
   {
    "duration": 10,
    "start_time": "2023-11-07T07:27:27.266Z"
   },
   {
    "duration": 15,
    "start_time": "2023-11-07T07:29:31.870Z"
   },
   {
    "duration": 5,
    "start_time": "2023-11-07T07:30:56.651Z"
   },
   {
    "duration": 5,
    "start_time": "2023-11-07T07:31:11.601Z"
   },
   {
    "duration": 5,
    "start_time": "2023-11-07T07:51:43.264Z"
   },
   {
    "duration": 8,
    "start_time": "2023-11-07T07:51:52.991Z"
   },
   {
    "duration": 131,
    "start_time": "2023-11-07T07:55:50.432Z"
   },
   {
    "duration": 5,
    "start_time": "2023-11-07T07:56:53.282Z"
   },
   {
    "duration": 160,
    "start_time": "2023-11-07T07:58:24.455Z"
   },
   {
    "duration": 3,
    "start_time": "2023-11-07T07:58:51.497Z"
   },
   {
    "duration": 133,
    "start_time": "2023-11-07T07:58:58.503Z"
   },
   {
    "duration": 132,
    "start_time": "2023-11-07T08:00:26.757Z"
   },
   {
    "duration": 1510,
    "start_time": "2023-11-07T08:06:00.746Z"
   },
   {
    "duration": 6,
    "start_time": "2023-11-07T08:06:57.273Z"
   },
   {
    "duration": 6,
    "start_time": "2023-11-07T08:07:03.577Z"
   },
   {
    "duration": 7,
    "start_time": "2023-11-07T08:07:56.519Z"
   },
   {
    "duration": 1250,
    "start_time": "2023-11-07T13:00:52.919Z"
   },
   {
    "duration": 3,
    "start_time": "2023-11-07T13:00:54.171Z"
   },
   {
    "duration": 178,
    "start_time": "2023-11-07T13:00:54.176Z"
   },
   {
    "duration": 89,
    "start_time": "2023-11-07T13:00:54.356Z"
   },
   {
    "duration": 66,
    "start_time": "2023-11-07T13:00:54.447Z"
   },
   {
    "duration": 8,
    "start_time": "2023-11-07T13:00:54.514Z"
   },
   {
    "duration": 26,
    "start_time": "2023-11-07T13:00:54.523Z"
   },
   {
    "duration": 11,
    "start_time": "2023-11-07T13:00:54.551Z"
   },
   {
    "duration": 16,
    "start_time": "2023-11-07T13:00:54.564Z"
   },
   {
    "duration": 23,
    "start_time": "2023-11-07T13:00:54.582Z"
   },
   {
    "duration": 7,
    "start_time": "2023-11-07T13:00:54.607Z"
   },
   {
    "duration": 216,
    "start_time": "2023-11-07T13:00:54.617Z"
   },
   {
    "duration": 6,
    "start_time": "2023-11-07T13:00:54.834Z"
   },
   {
    "duration": 10,
    "start_time": "2023-11-07T13:00:54.843Z"
   },
   {
    "duration": 20,
    "start_time": "2023-11-07T13:00:54.854Z"
   },
   {
    "duration": 30,
    "start_time": "2023-11-07T13:00:54.875Z"
   },
   {
    "duration": 4,
    "start_time": "2023-11-07T13:00:54.907Z"
   },
   {
    "duration": 49,
    "start_time": "2023-11-07T13:00:54.913Z"
   },
   {
    "duration": 8,
    "start_time": "2023-11-07T13:00:54.963Z"
   },
   {
    "duration": 165,
    "start_time": "2023-11-07T13:00:54.972Z"
   },
   {
    "duration": 6,
    "start_time": "2023-11-07T13:00:55.139Z"
   },
   {
    "duration": 188,
    "start_time": "2023-11-07T13:00:55.146Z"
   },
   {
    "duration": 17,
    "start_time": "2023-11-07T13:04:36.008Z"
   },
   {
    "duration": 15,
    "start_time": "2023-11-07T13:04:54.075Z"
   },
   {
    "duration": 121,
    "start_time": "2023-11-07T13:07:49.766Z"
   },
   {
    "duration": 14,
    "start_time": "2023-11-07T13:08:39.841Z"
   },
   {
    "duration": 16,
    "start_time": "2023-11-07T13:09:20.438Z"
   },
   {
    "duration": 22,
    "start_time": "2023-11-07T13:09:27.804Z"
   },
   {
    "duration": 255,
    "start_time": "2023-11-07T13:17:59.990Z"
   },
   {
    "duration": 161,
    "start_time": "2023-11-07T13:18:44.247Z"
   },
   {
    "duration": 9,
    "start_time": "2023-11-07T13:19:19.659Z"
   },
   {
    "duration": 8384,
    "start_time": "2023-11-07T13:19:25.787Z"
   },
   {
    "duration": 148,
    "start_time": "2023-11-07T13:19:40.031Z"
   },
   {
    "duration": 146,
    "start_time": "2023-11-07T13:20:02.534Z"
   },
   {
    "duration": 7,
    "start_time": "2023-11-07T13:20:33.480Z"
   },
   {
    "duration": 323,
    "start_time": "2023-11-07T13:20:55.311Z"
   },
   {
    "duration": 169,
    "start_time": "2023-11-07T13:28:29.777Z"
   },
   {
    "duration": 8,
    "start_time": "2023-11-07T13:29:03.903Z"
   },
   {
    "duration": 167,
    "start_time": "2023-11-07T13:31:24.913Z"
   },
   {
    "duration": 52179,
    "start_time": "2023-11-07T13:33:09.563Z"
   },
   {
    "duration": 205,
    "start_time": "2023-11-07T13:34:12.914Z"
   },
   {
    "duration": 1914,
    "start_time": "2023-11-07T13:34:23.576Z"
   },
   {
    "duration": 155,
    "start_time": "2023-11-07T19:20:15.455Z"
   },
   {
    "duration": 10,
    "start_time": "2023-11-07T19:20:38.973Z"
   },
   {
    "duration": 21,
    "start_time": "2023-11-07T20:12:05.735Z"
   },
   {
    "duration": 67,
    "start_time": "2023-11-08T08:22:55.741Z"
   },
   {
    "duration": 1229,
    "start_time": "2023-11-08T08:23:03.104Z"
   },
   {
    "duration": 3,
    "start_time": "2023-11-08T08:23:04.336Z"
   },
   {
    "duration": 165,
    "start_time": "2023-11-08T08:23:04.340Z"
   },
   {
    "duration": 89,
    "start_time": "2023-11-08T08:23:04.507Z"
   },
   {
    "duration": 68,
    "start_time": "2023-11-08T08:23:04.599Z"
   },
   {
    "duration": 9,
    "start_time": "2023-11-08T08:23:04.669Z"
   },
   {
    "duration": 33,
    "start_time": "2023-11-08T08:23:04.680Z"
   },
   {
    "duration": 13,
    "start_time": "2023-11-08T08:23:04.715Z"
   },
   {
    "duration": 15,
    "start_time": "2023-11-08T08:23:04.730Z"
   },
   {
    "duration": 6,
    "start_time": "2023-11-08T08:23:04.747Z"
   },
   {
    "duration": 20,
    "start_time": "2023-11-08T08:23:04.755Z"
   },
   {
    "duration": 169,
    "start_time": "2023-11-08T08:23:04.781Z"
   },
   {
    "duration": 6,
    "start_time": "2023-11-08T08:23:04.952Z"
   },
   {
    "duration": 6,
    "start_time": "2023-11-08T08:23:04.961Z"
   },
   {
    "duration": 18,
    "start_time": "2023-11-08T08:23:04.981Z"
   },
   {
    "duration": 9,
    "start_time": "2023-11-08T08:23:05.000Z"
   },
   {
    "duration": 4,
    "start_time": "2023-11-08T08:23:05.011Z"
   },
   {
    "duration": 28,
    "start_time": "2023-11-08T08:23:05.017Z"
   },
   {
    "duration": 19,
    "start_time": "2023-11-08T08:23:05.047Z"
   },
   {
    "duration": 167,
    "start_time": "2023-11-08T08:23:05.068Z"
   },
   {
    "duration": 7,
    "start_time": "2023-11-08T08:23:05.237Z"
   },
   {
    "duration": 37,
    "start_time": "2023-11-08T08:23:05.245Z"
   },
   {
    "duration": 159,
    "start_time": "2023-11-08T08:23:05.284Z"
   },
   {
    "duration": 7,
    "start_time": "2023-11-08T08:23:05.445Z"
   },
   {
    "duration": 185,
    "start_time": "2023-11-08T08:23:05.454Z"
   },
   {
    "duration": 8,
    "start_time": "2023-11-08T08:23:05.641Z"
   },
   {
    "duration": 172,
    "start_time": "2023-11-08T08:23:05.651Z"
   },
   {
    "duration": 9,
    "start_time": "2023-11-08T08:23:05.825Z"
   },
   {
    "duration": 45,
    "start_time": "2023-11-08T08:23:05.836Z"
   },
   {
    "duration": 27,
    "start_time": "2023-11-08T08:26:37.832Z"
   },
   {
    "duration": 147,
    "start_time": "2023-11-08T08:31:13.918Z"
   },
   {
    "duration": 165,
    "start_time": "2023-11-08T08:31:25.373Z"
   },
   {
    "duration": 168,
    "start_time": "2023-11-08T08:32:15.497Z"
   },
   {
    "duration": 147,
    "start_time": "2023-11-08T08:32:24.034Z"
   },
   {
    "duration": 174,
    "start_time": "2023-11-08T08:32:39.098Z"
   },
   {
    "duration": 28,
    "start_time": "2023-11-08T08:39:33.004Z"
   },
   {
    "duration": 71,
    "start_time": "2023-11-08T08:42:56.481Z"
   },
   {
    "duration": 11,
    "start_time": "2023-11-08T08:43:02.750Z"
   },
   {
    "duration": 229,
    "start_time": "2023-11-08T08:49:28.808Z"
   },
   {
    "duration": 164,
    "start_time": "2023-11-08T08:52:40.973Z"
   },
   {
    "duration": 176,
    "start_time": "2023-11-08T08:53:05.521Z"
   },
   {
    "duration": 24,
    "start_time": "2023-11-08T10:35:39.348Z"
   },
   {
    "duration": 28,
    "start_time": "2023-11-08T10:35:57.019Z"
   },
   {
    "duration": 85,
    "start_time": "2023-11-08T10:39:30.690Z"
   },
   {
    "duration": 22,
    "start_time": "2023-11-08T10:42:05.426Z"
   },
   {
    "duration": 29,
    "start_time": "2023-11-08T10:45:03.861Z"
   },
   {
    "duration": 29,
    "start_time": "2023-11-08T10:45:56.789Z"
   },
   {
    "duration": 3,
    "start_time": "2023-11-08T10:48:39.347Z"
   },
   {
    "duration": 28,
    "start_time": "2023-11-08T10:49:04.165Z"
   },
   {
    "duration": 22,
    "start_time": "2023-11-08T10:49:59.835Z"
   },
   {
    "duration": 22,
    "start_time": "2023-11-08T10:50:08.528Z"
   },
   {
    "duration": 4,
    "start_time": "2023-11-08T10:50:20.922Z"
   },
   {
    "duration": 23,
    "start_time": "2023-11-08T10:50:27.272Z"
   },
   {
    "duration": 24,
    "start_time": "2023-11-08T10:52:18.576Z"
   },
   {
    "duration": 1174,
    "start_time": "2023-11-08T20:30:25.420Z"
   },
   {
    "duration": 2,
    "start_time": "2023-11-08T20:30:26.596Z"
   },
   {
    "duration": 144,
    "start_time": "2023-11-08T20:30:26.600Z"
   },
   {
    "duration": 77,
    "start_time": "2023-11-08T20:30:26.745Z"
   },
   {
    "duration": 62,
    "start_time": "2023-11-08T20:30:26.824Z"
   },
   {
    "duration": 6,
    "start_time": "2023-11-08T20:30:26.888Z"
   },
   {
    "duration": 6,
    "start_time": "2023-11-08T20:30:26.895Z"
   },
   {
    "duration": 9,
    "start_time": "2023-11-08T20:30:26.902Z"
   },
   {
    "duration": 10,
    "start_time": "2023-11-08T20:30:26.913Z"
   },
   {
    "duration": 5,
    "start_time": "2023-11-08T20:30:26.924Z"
   },
   {
    "duration": 6,
    "start_time": "2023-11-08T20:30:26.930Z"
   },
   {
    "duration": 129,
    "start_time": "2023-11-08T20:30:26.938Z"
   },
   {
    "duration": 5,
    "start_time": "2023-11-08T20:30:27.069Z"
   },
   {
    "duration": 8,
    "start_time": "2023-11-08T20:30:27.076Z"
   },
   {
    "duration": 16,
    "start_time": "2023-11-08T20:30:27.085Z"
   },
   {
    "duration": 9,
    "start_time": "2023-11-08T20:30:27.102Z"
   },
   {
    "duration": 30,
    "start_time": "2023-11-08T20:30:27.112Z"
   },
   {
    "duration": 14,
    "start_time": "2023-11-08T20:30:27.143Z"
   },
   {
    "duration": 4,
    "start_time": "2023-11-08T20:30:27.158Z"
   },
   {
    "duration": 134,
    "start_time": "2023-11-08T20:30:27.163Z"
   },
   {
    "duration": 6,
    "start_time": "2023-11-08T20:30:27.298Z"
   },
   {
    "duration": 38,
    "start_time": "2023-11-08T20:30:27.306Z"
   },
   {
    "duration": 127,
    "start_time": "2023-11-08T20:30:27.345Z"
   },
   {
    "duration": 6,
    "start_time": "2023-11-08T20:30:27.474Z"
   },
   {
    "duration": 146,
    "start_time": "2023-11-08T20:30:27.482Z"
   },
   {
    "duration": 16,
    "start_time": "2023-11-08T20:30:27.629Z"
   },
   {
    "duration": 139,
    "start_time": "2023-11-08T20:30:27.646Z"
   },
   {
    "duration": 8,
    "start_time": "2023-11-08T20:30:27.787Z"
   },
   {
    "duration": 22,
    "start_time": "2023-11-08T20:30:27.796Z"
   },
   {
    "duration": 42,
    "start_time": "2023-11-08T20:30:27.820Z"
   },
   {
    "duration": 165,
    "start_time": "2023-11-08T20:30:27.864Z"
   },
   {
    "duration": 129,
    "start_time": "2023-11-08T20:30:28.031Z"
   },
   {
    "duration": 138,
    "start_time": "2023-11-08T20:30:28.161Z"
   },
   {
    "duration": 144,
    "start_time": "2023-11-08T20:30:28.300Z"
   },
   {
    "duration": 18,
    "start_time": "2023-11-08T20:30:28.446Z"
   },
   {
    "duration": 1254,
    "start_time": "2023-11-08T20:30:28.465Z"
   },
   {
    "duration": 1151,
    "start_time": "2023-11-08T20:31:11.650Z"
   },
   {
    "duration": 1228,
    "start_time": "2023-11-08T20:34:04.237Z"
   },
   {
    "duration": 310,
    "start_time": "2023-11-08T20:34:23.337Z"
   },
   {
    "duration": 372,
    "start_time": "2023-11-08T20:35:57.370Z"
   },
   {
    "duration": 500,
    "start_time": "2023-11-08T20:36:58.930Z"
   },
   {
    "duration": 51,
    "start_time": "2023-11-08T20:37:15.939Z"
   },
   {
    "duration": 6,
    "start_time": "2023-11-08T20:37:45.514Z"
   },
   {
    "duration": 1191,
    "start_time": "2023-11-08T20:38:04.491Z"
   },
   {
    "duration": 5,
    "start_time": "2023-11-08T20:39:27.815Z"
   },
   {
    "duration": 3,
    "start_time": "2023-11-08T20:39:40.287Z"
   },
   {
    "duration": 10,
    "start_time": "2023-11-08T20:40:01.906Z"
   },
   {
    "duration": 3,
    "start_time": "2023-11-08T20:41:19.656Z"
   },
   {
    "duration": 7,
    "start_time": "2023-11-08T20:42:14.087Z"
   },
   {
    "duration": 7,
    "start_time": "2023-11-08T20:42:36.184Z"
   },
   {
    "duration": 4,
    "start_time": "2023-11-08T20:44:50.136Z"
   },
   {
    "duration": 4,
    "start_time": "2023-11-08T20:45:00.750Z"
   },
   {
    "duration": 4,
    "start_time": "2023-11-08T20:45:06.900Z"
   },
   {
    "duration": 4,
    "start_time": "2023-11-08T20:45:21.535Z"
   },
   {
    "duration": 5,
    "start_time": "2023-11-08T21:05:30.673Z"
   },
   {
    "duration": 7,
    "start_time": "2023-11-08T21:06:08.365Z"
   },
   {
    "duration": 24,
    "start_time": "2023-11-08T21:11:57.875Z"
   },
   {
    "duration": 23,
    "start_time": "2023-11-08T21:12:25.003Z"
   },
   {
    "duration": 24,
    "start_time": "2023-11-08T21:12:37.331Z"
   },
   {
    "duration": 11,
    "start_time": "2023-11-08T21:15:48.471Z"
   },
   {
    "duration": 1198,
    "start_time": "2023-11-08T21:48:15.159Z"
   },
   {
    "duration": 24,
    "start_time": "2023-11-08T21:50:35.602Z"
   },
   {
    "duration": 10,
    "start_time": "2023-11-08T21:51:33.243Z"
   },
   {
    "duration": 1316,
    "start_time": "2023-11-08T21:53:29.652Z"
   },
   {
    "duration": 23,
    "start_time": "2023-11-08T21:53:57.174Z"
   },
   {
    "duration": 10,
    "start_time": "2023-11-08T21:56:27.927Z"
   },
   {
    "duration": 116,
    "start_time": "2023-11-08T22:09:32.209Z"
   },
   {
    "duration": 175,
    "start_time": "2023-11-08T22:09:59.405Z"
   },
   {
    "duration": 50,
    "start_time": "2023-11-09T19:02:33.951Z"
   },
   {
    "duration": 1330,
    "start_time": "2023-11-09T19:02:50.893Z"
   },
   {
    "duration": 3,
    "start_time": "2023-11-09T19:02:52.226Z"
   },
   {
    "duration": 134,
    "start_time": "2023-11-09T19:02:52.230Z"
   },
   {
    "duration": 83,
    "start_time": "2023-11-09T19:02:52.366Z"
   },
   {
    "duration": 65,
    "start_time": "2023-11-09T19:02:52.451Z"
   },
   {
    "duration": 7,
    "start_time": "2023-11-09T19:02:52.518Z"
   },
   {
    "duration": 13,
    "start_time": "2023-11-09T19:02:52.527Z"
   },
   {
    "duration": 18,
    "start_time": "2023-11-09T19:02:52.542Z"
   },
   {
    "duration": 23,
    "start_time": "2023-11-09T19:02:52.562Z"
   },
   {
    "duration": 16,
    "start_time": "2023-11-09T19:02:52.587Z"
   },
   {
    "duration": 9,
    "start_time": "2023-11-09T19:02:52.605Z"
   },
   {
    "duration": 165,
    "start_time": "2023-11-09T19:02:52.616Z"
   },
   {
    "duration": 6,
    "start_time": "2023-11-09T19:02:52.783Z"
   },
   {
    "duration": 7,
    "start_time": "2023-11-09T19:02:52.794Z"
   },
   {
    "duration": 45,
    "start_time": "2023-11-09T19:02:52.802Z"
   },
   {
    "duration": 9,
    "start_time": "2023-11-09T19:02:52.849Z"
   },
   {
    "duration": 12,
    "start_time": "2023-11-09T19:02:52.860Z"
   },
   {
    "duration": 22,
    "start_time": "2023-11-09T19:02:52.874Z"
   },
   {
    "duration": 13,
    "start_time": "2023-11-09T19:02:52.898Z"
   },
   {
    "duration": 168,
    "start_time": "2023-11-09T19:02:52.913Z"
   },
   {
    "duration": 7,
    "start_time": "2023-11-09T19:02:53.083Z"
   },
   {
    "duration": 23,
    "start_time": "2023-11-09T19:02:53.092Z"
   },
   {
    "duration": 176,
    "start_time": "2023-11-09T19:02:53.117Z"
   },
   {
    "duration": 9,
    "start_time": "2023-11-09T19:02:53.295Z"
   },
   {
    "duration": 183,
    "start_time": "2023-11-09T19:02:53.305Z"
   },
   {
    "duration": 8,
    "start_time": "2023-11-09T19:02:53.490Z"
   },
   {
    "duration": 174,
    "start_time": "2023-11-09T19:02:53.500Z"
   },
   {
    "duration": 9,
    "start_time": "2023-11-09T19:02:53.676Z"
   },
   {
    "duration": 39,
    "start_time": "2023-11-09T19:02:53.686Z"
   },
   {
    "duration": 33,
    "start_time": "2023-11-09T19:02:53.727Z"
   },
   {
    "duration": 177,
    "start_time": "2023-11-09T19:02:53.762Z"
   },
   {
    "duration": 166,
    "start_time": "2023-11-09T19:02:53.946Z"
   },
   {
    "duration": 175,
    "start_time": "2023-11-09T19:02:54.113Z"
   },
   {
    "duration": 179,
    "start_time": "2023-11-09T19:02:54.289Z"
   },
   {
    "duration": 26,
    "start_time": "2023-11-09T19:02:54.471Z"
   },
   {
    "duration": 27,
    "start_time": "2023-11-09T19:02:54.499Z"
   },
   {
    "duration": 12,
    "start_time": "2023-11-09T19:02:54.547Z"
   },
   {
    "duration": 168,
    "start_time": "2023-11-09T19:02:54.560Z"
   },
   {
    "duration": 18,
    "start_time": "2023-11-09T19:02:54.730Z"
   },
   {
    "duration": 229,
    "start_time": "2023-11-09T19:02:54.750Z"
   },
   {
    "duration": 15,
    "start_time": "2023-11-09T19:02:54.987Z"
   },
   {
    "duration": 15,
    "start_time": "2023-11-09T19:03:28.793Z"
   },
   {
    "duration": 14,
    "start_time": "2023-11-09T19:03:43.602Z"
   },
   {
    "duration": 13,
    "start_time": "2023-11-09T19:03:49.025Z"
   },
   {
    "duration": 16,
    "start_time": "2023-11-09T19:03:52.959Z"
   },
   {
    "duration": 13,
    "start_time": "2023-11-09T19:03:56.664Z"
   },
   {
    "duration": 13,
    "start_time": "2023-11-09T19:04:00.004Z"
   },
   {
    "duration": 24,
    "start_time": "2023-11-09T19:08:10.132Z"
   },
   {
    "duration": 19,
    "start_time": "2023-11-09T19:21:12.062Z"
   },
   {
    "duration": 5,
    "start_time": "2023-11-09T19:21:47.130Z"
   },
   {
    "duration": 184,
    "start_time": "2023-11-09T19:43:03.603Z"
   },
   {
    "duration": 6,
    "start_time": "2023-11-09T19:43:45.678Z"
   },
   {
    "duration": 6,
    "start_time": "2023-11-09T19:53:27.161Z"
   },
   {
    "duration": 6,
    "start_time": "2023-11-09T20:06:23.462Z"
   },
   {
    "duration": 5,
    "start_time": "2023-11-09T20:09:37.066Z"
   },
   {
    "duration": 1495,
    "start_time": "2023-11-11T08:48:15.634Z"
   },
   {
    "duration": 3,
    "start_time": "2023-11-11T08:48:17.131Z"
   },
   {
    "duration": 172,
    "start_time": "2023-11-11T08:48:17.137Z"
   },
   {
    "duration": 80,
    "start_time": "2023-11-11T08:48:17.310Z"
   },
   {
    "duration": 64,
    "start_time": "2023-11-11T08:48:17.392Z"
   },
   {
    "duration": 7,
    "start_time": "2023-11-11T08:48:17.458Z"
   },
   {
    "duration": 8,
    "start_time": "2023-11-11T08:48:17.466Z"
   },
   {
    "duration": 16,
    "start_time": "2023-11-11T08:48:17.476Z"
   },
   {
    "duration": 13,
    "start_time": "2023-11-11T08:48:17.494Z"
   },
   {
    "duration": 6,
    "start_time": "2023-11-11T08:48:17.509Z"
   },
   {
    "duration": 8,
    "start_time": "2023-11-11T08:48:17.518Z"
   },
   {
    "duration": 205,
    "start_time": "2023-11-11T08:48:17.528Z"
   },
   {
    "duration": 5,
    "start_time": "2023-11-11T08:48:17.735Z"
   },
   {
    "duration": 25,
    "start_time": "2023-11-11T08:48:17.742Z"
   },
   {
    "duration": 51,
    "start_time": "2023-11-11T08:48:17.768Z"
   },
   {
    "duration": 12,
    "start_time": "2023-11-11T08:48:17.821Z"
   },
   {
    "duration": 7,
    "start_time": "2023-11-11T08:48:17.835Z"
   },
   {
    "duration": 28,
    "start_time": "2023-11-11T08:48:17.845Z"
   },
   {
    "duration": 5,
    "start_time": "2023-11-11T08:48:17.875Z"
   },
   {
    "duration": 162,
    "start_time": "2023-11-11T08:48:17.882Z"
   },
   {
    "duration": 6,
    "start_time": "2023-11-11T08:48:18.046Z"
   },
   {
    "duration": 30,
    "start_time": "2023-11-11T08:48:18.053Z"
   },
   {
    "duration": 149,
    "start_time": "2023-11-11T08:48:18.085Z"
   },
   {
    "duration": 8,
    "start_time": "2023-11-11T08:48:18.235Z"
   },
   {
    "duration": 173,
    "start_time": "2023-11-11T08:48:18.244Z"
   },
   {
    "duration": 12,
    "start_time": "2023-11-11T08:48:18.419Z"
   },
   {
    "duration": 214,
    "start_time": "2023-11-11T08:48:18.433Z"
   },
   {
    "duration": 21,
    "start_time": "2023-11-11T08:48:18.649Z"
   },
   {
    "duration": 40,
    "start_time": "2023-11-11T08:48:18.672Z"
   },
   {
    "duration": 28,
    "start_time": "2023-11-11T08:48:18.714Z"
   },
   {
    "duration": 171,
    "start_time": "2023-11-11T08:48:18.766Z"
   },
   {
    "duration": 168,
    "start_time": "2023-11-11T08:48:18.939Z"
   },
   {
    "duration": 164,
    "start_time": "2023-11-11T08:48:19.108Z"
   },
   {
    "duration": 174,
    "start_time": "2023-11-11T08:48:19.273Z"
   },
   {
    "duration": 34,
    "start_time": "2023-11-11T08:48:19.449Z"
   },
   {
    "duration": 31,
    "start_time": "2023-11-11T08:48:19.485Z"
   },
   {
    "duration": 11,
    "start_time": "2023-11-11T08:48:19.517Z"
   },
   {
    "duration": 170,
    "start_time": "2023-11-11T08:48:19.529Z"
   },
   {
    "duration": 11,
    "start_time": "2023-11-11T08:48:19.701Z"
   },
   {
    "duration": 201,
    "start_time": "2023-11-11T08:48:19.714Z"
   },
   {
    "duration": 18,
    "start_time": "2023-11-11T08:48:19.919Z"
   },
   {
    "duration": 5,
    "start_time": "2023-11-11T08:48:19.939Z"
   },
   {
    "duration": 5,
    "start_time": "2023-11-11T08:48:19.966Z"
   },
   {
    "duration": 6,
    "start_time": "2023-11-11T08:48:19.973Z"
   },
   {
    "duration": 100,
    "start_time": "2023-11-11T08:48:38.511Z"
   },
   {
    "duration": 3,
    "start_time": "2023-11-11T08:48:46.591Z"
   },
   {
    "duration": 3,
    "start_time": "2023-11-11T08:49:19.292Z"
   },
   {
    "duration": 21,
    "start_time": "2023-11-11T08:49:19.297Z"
   },
   {
    "duration": 61,
    "start_time": "2023-11-11T08:49:19.320Z"
   },
   {
    "duration": 40,
    "start_time": "2023-11-11T08:49:19.383Z"
   },
   {
    "duration": 25,
    "start_time": "2023-11-11T08:49:19.425Z"
   },
   {
    "duration": 7,
    "start_time": "2023-11-11T08:49:19.451Z"
   },
   {
    "duration": 12,
    "start_time": "2023-11-11T08:49:19.466Z"
   },
   {
    "duration": 15,
    "start_time": "2023-11-11T08:49:19.480Z"
   },
   {
    "duration": 32,
    "start_time": "2023-11-11T08:49:19.497Z"
   },
   {
    "duration": 23,
    "start_time": "2023-11-11T08:49:19.530Z"
   },
   {
    "duration": 32,
    "start_time": "2023-11-11T08:49:19.554Z"
   },
   {
    "duration": 148,
    "start_time": "2023-11-11T08:49:19.588Z"
   },
   {
    "duration": 5,
    "start_time": "2023-11-11T08:49:19.739Z"
   },
   {
    "duration": 12,
    "start_time": "2023-11-11T08:49:19.745Z"
   },
   {
    "duration": 42,
    "start_time": "2023-11-11T08:49:19.758Z"
   },
   {
    "duration": 22,
    "start_time": "2023-11-11T08:49:19.802Z"
   },
   {
    "duration": 16,
    "start_time": "2023-11-11T08:49:19.825Z"
   },
   {
    "duration": 46,
    "start_time": "2023-11-11T08:49:19.843Z"
   },
   {
    "duration": 12,
    "start_time": "2023-11-11T08:49:19.890Z"
   },
   {
    "duration": 152,
    "start_time": "2023-11-11T08:49:19.903Z"
   },
   {
    "duration": 10,
    "start_time": "2023-11-11T08:49:20.056Z"
   },
   {
    "duration": 48,
    "start_time": "2023-11-11T08:49:20.067Z"
   },
   {
    "duration": 170,
    "start_time": "2023-11-11T08:49:20.117Z"
   },
   {
    "duration": 7,
    "start_time": "2023-11-11T08:49:20.288Z"
   },
   {
    "duration": 161,
    "start_time": "2023-11-11T08:49:20.297Z"
   },
   {
    "duration": 9,
    "start_time": "2023-11-11T08:49:20.460Z"
   },
   {
    "duration": 167,
    "start_time": "2023-11-11T08:49:20.471Z"
   },
   {
    "duration": 8,
    "start_time": "2023-11-11T08:49:20.640Z"
   },
   {
    "duration": 56,
    "start_time": "2023-11-11T08:49:20.650Z"
   },
   {
    "duration": 31,
    "start_time": "2023-11-11T08:49:20.708Z"
   },
   {
    "duration": 146,
    "start_time": "2023-11-11T08:49:20.740Z"
   },
   {
    "duration": 145,
    "start_time": "2023-11-11T08:49:20.887Z"
   },
   {
    "duration": 161,
    "start_time": "2023-11-11T08:49:21.033Z"
   },
   {
    "duration": 161,
    "start_time": "2023-11-11T08:49:21.195Z"
   },
   {
    "duration": 26,
    "start_time": "2023-11-11T08:49:21.357Z"
   },
   {
    "duration": 29,
    "start_time": "2023-11-11T08:49:21.384Z"
   },
   {
    "duration": 18,
    "start_time": "2023-11-11T08:49:21.416Z"
   },
   {
    "duration": 149,
    "start_time": "2023-11-11T08:49:21.435Z"
   },
   {
    "duration": 11,
    "start_time": "2023-11-11T08:49:21.586Z"
   },
   {
    "duration": 210,
    "start_time": "2023-11-11T08:49:21.598Z"
   },
   {
    "duration": 18,
    "start_time": "2023-11-11T08:49:21.809Z"
   },
   {
    "duration": 4,
    "start_time": "2023-11-11T08:49:21.828Z"
   },
   {
    "duration": 31,
    "start_time": "2023-11-11T08:49:21.834Z"
   },
   {
    "duration": 4,
    "start_time": "2023-11-11T08:49:21.867Z"
   },
   {
    "duration": 1646,
    "start_time": "2023-11-11T08:52:03.346Z"
   },
   {
    "duration": 771,
    "start_time": "2023-11-11T09:00:46.883Z"
   },
   {
    "duration": 1551,
    "start_time": "2023-11-11T09:01:05.652Z"
   },
   {
    "duration": 180,
    "start_time": "2023-11-11T09:16:26.131Z"
   },
   {
    "duration": 1526,
    "start_time": "2023-11-11T09:19:41.184Z"
   },
   {
    "duration": 4,
    "start_time": "2023-11-11T09:23:36.339Z"
   },
   {
    "duration": 285,
    "start_time": "2023-11-11T09:23:41.401Z"
   },
   {
    "duration": 1495,
    "start_time": "2023-11-11T09:24:35.139Z"
   },
   {
    "duration": 555,
    "start_time": "2023-11-11T09:25:20.303Z"
   },
   {
    "duration": 1594,
    "start_time": "2023-11-11T09:26:23.513Z"
   },
   {
    "duration": 1697,
    "start_time": "2023-11-11T09:29:19.707Z"
   },
   {
    "duration": 1907,
    "start_time": "2023-11-11T09:29:45.395Z"
   },
   {
    "duration": 7,
    "start_time": "2023-11-11T09:47:44.702Z"
   },
   {
    "duration": 3,
    "start_time": "2023-11-11T10:07:20.346Z"
   },
   {
    "duration": 6,
    "start_time": "2023-11-11T10:07:20.351Z"
   },
   {
    "duration": 47,
    "start_time": "2023-11-11T10:07:20.358Z"
   },
   {
    "duration": 36,
    "start_time": "2023-11-11T10:07:20.406Z"
   },
   {
    "duration": 25,
    "start_time": "2023-11-11T10:07:20.444Z"
   },
   {
    "duration": 7,
    "start_time": "2023-11-11T10:07:20.470Z"
   },
   {
    "duration": 20,
    "start_time": "2023-11-11T10:07:20.478Z"
   },
   {
    "duration": 28,
    "start_time": "2023-11-11T10:07:20.500Z"
   },
   {
    "duration": 24,
    "start_time": "2023-11-11T10:07:20.530Z"
   },
   {
    "duration": 5,
    "start_time": "2023-11-11T10:07:20.556Z"
   },
   {
    "duration": 5,
    "start_time": "2023-11-11T10:07:20.562Z"
   },
   {
    "duration": 152,
    "start_time": "2023-11-11T10:07:20.568Z"
   },
   {
    "duration": 6,
    "start_time": "2023-11-11T10:07:20.723Z"
   },
   {
    "duration": 28,
    "start_time": "2023-11-11T10:07:20.730Z"
   },
   {
    "duration": 21,
    "start_time": "2023-11-11T10:07:20.759Z"
   },
   {
    "duration": 7,
    "start_time": "2023-11-11T10:07:20.782Z"
   },
   {
    "duration": 10,
    "start_time": "2023-11-11T10:07:20.790Z"
   },
   {
    "duration": 27,
    "start_time": "2023-11-11T10:07:20.801Z"
   },
   {
    "duration": 11,
    "start_time": "2023-11-11T10:07:20.829Z"
   },
   {
    "duration": 168,
    "start_time": "2023-11-11T10:07:20.842Z"
   },
   {
    "duration": 6,
    "start_time": "2023-11-11T10:07:21.012Z"
   },
   {
    "duration": 48,
    "start_time": "2023-11-11T10:07:21.020Z"
   },
   {
    "duration": 165,
    "start_time": "2023-11-11T10:07:21.070Z"
   },
   {
    "duration": 7,
    "start_time": "2023-11-11T10:07:21.237Z"
   },
   {
    "duration": 166,
    "start_time": "2023-11-11T10:07:21.246Z"
   },
   {
    "duration": 9,
    "start_time": "2023-11-11T10:07:21.413Z"
   },
   {
    "duration": 161,
    "start_time": "2023-11-11T10:07:21.423Z"
   },
   {
    "duration": 7,
    "start_time": "2023-11-11T10:07:21.585Z"
   },
   {
    "duration": 23,
    "start_time": "2023-11-11T10:07:21.594Z"
   },
   {
    "duration": 47,
    "start_time": "2023-11-11T10:07:21.619Z"
   },
   {
    "duration": 154,
    "start_time": "2023-11-11T10:07:21.667Z"
   },
   {
    "duration": 145,
    "start_time": "2023-11-11T10:07:21.823Z"
   },
   {
    "duration": 152,
    "start_time": "2023-11-11T10:07:21.970Z"
   },
   {
    "duration": 187,
    "start_time": "2023-11-11T10:07:22.124Z"
   },
   {
    "duration": 23,
    "start_time": "2023-11-11T10:07:22.312Z"
   },
   {
    "duration": 41,
    "start_time": "2023-11-11T10:07:22.337Z"
   },
   {
    "duration": 10,
    "start_time": "2023-11-11T10:07:22.381Z"
   },
   {
    "duration": 184,
    "start_time": "2023-11-11T10:07:22.393Z"
   },
   {
    "duration": 11,
    "start_time": "2023-11-11T10:07:22.578Z"
   },
   {
    "duration": 146,
    "start_time": "2023-11-11T10:07:22.590Z"
   },
   {
    "duration": 29,
    "start_time": "2023-11-11T10:07:22.738Z"
   },
   {
    "duration": 5,
    "start_time": "2023-11-11T10:07:22.768Z"
   },
   {
    "duration": 29,
    "start_time": "2023-11-11T10:07:22.775Z"
   },
   {
    "duration": 35,
    "start_time": "2023-11-11T10:07:22.805Z"
   },
   {
    "duration": 2025,
    "start_time": "2023-11-11T10:07:22.841Z"
   },
   {
    "duration": 7,
    "start_time": "2023-11-11T10:07:24.867Z"
   },
   {
    "duration": 13,
    "start_time": "2023-11-11T10:07:33.159Z"
   },
   {
    "duration": 9,
    "start_time": "2023-11-11T10:15:21.342Z"
   },
   {
    "duration": 5,
    "start_time": "2023-11-11T10:15:38.299Z"
   },
   {
    "duration": 5,
    "start_time": "2023-11-11T10:15:53.910Z"
   },
   {
    "duration": 5,
    "start_time": "2023-11-11T10:24:26.271Z"
   },
   {
    "duration": 5,
    "start_time": "2023-11-11T10:24:42.516Z"
   },
   {
    "duration": 6,
    "start_time": "2023-11-11T10:24:58.009Z"
   },
   {
    "duration": 6,
    "start_time": "2023-11-11T10:25:06.121Z"
   },
   {
    "duration": 5,
    "start_time": "2023-11-11T10:25:11.977Z"
   },
   {
    "duration": 5,
    "start_time": "2023-11-11T10:25:20.948Z"
   },
   {
    "duration": 6,
    "start_time": "2023-11-11T10:25:28.307Z"
   },
   {
    "duration": 5,
    "start_time": "2023-11-11T10:25:37.375Z"
   },
   {
    "duration": 5,
    "start_time": "2023-11-11T10:26:48.323Z"
   },
   {
    "duration": 5,
    "start_time": "2023-11-11T10:26:52.959Z"
   },
   {
    "duration": 5,
    "start_time": "2023-11-11T10:27:01.059Z"
   },
   {
    "duration": 4,
    "start_time": "2023-11-11T10:36:07.427Z"
   },
   {
    "duration": 27,
    "start_time": "2023-11-11T10:36:07.433Z"
   },
   {
    "duration": 60,
    "start_time": "2023-11-11T10:36:07.462Z"
   },
   {
    "duration": 36,
    "start_time": "2023-11-11T10:36:07.524Z"
   },
   {
    "duration": 26,
    "start_time": "2023-11-11T10:36:07.561Z"
   },
   {
    "duration": 8,
    "start_time": "2023-11-11T10:36:07.588Z"
   },
   {
    "duration": 10,
    "start_time": "2023-11-11T10:36:07.598Z"
   },
   {
    "duration": 12,
    "start_time": "2023-11-11T10:36:07.609Z"
   },
   {
    "duration": 16,
    "start_time": "2023-11-11T10:36:07.624Z"
   },
   {
    "duration": 23,
    "start_time": "2023-11-11T10:36:07.642Z"
   },
   {
    "duration": 5,
    "start_time": "2023-11-11T10:36:07.667Z"
   },
   {
    "duration": 153,
    "start_time": "2023-11-11T10:36:07.674Z"
   },
   {
    "duration": 6,
    "start_time": "2023-11-11T10:36:07.828Z"
   },
   {
    "duration": 9,
    "start_time": "2023-11-11T10:36:07.835Z"
   },
   {
    "duration": 33,
    "start_time": "2023-11-11T10:36:07.846Z"
   },
   {
    "duration": 8,
    "start_time": "2023-11-11T10:36:07.880Z"
   },
   {
    "duration": 6,
    "start_time": "2023-11-11T10:36:07.890Z"
   },
   {
    "duration": 14,
    "start_time": "2023-11-11T10:36:07.897Z"
   },
   {
    "duration": 5,
    "start_time": "2023-11-11T10:36:07.913Z"
   },
   {
    "duration": 169,
    "start_time": "2023-11-11T10:36:07.919Z"
   },
   {
    "duration": 6,
    "start_time": "2023-11-11T10:36:08.090Z"
   },
   {
    "duration": 21,
    "start_time": "2023-11-11T10:36:08.097Z"
   },
   {
    "duration": 163,
    "start_time": "2023-11-11T10:36:08.119Z"
   },
   {
    "duration": 8,
    "start_time": "2023-11-11T10:36:08.286Z"
   },
   {
    "duration": 170,
    "start_time": "2023-11-11T10:36:08.295Z"
   },
   {
    "duration": 8,
    "start_time": "2023-11-11T10:36:08.467Z"
   },
   {
    "duration": 169,
    "start_time": "2023-11-11T10:36:08.477Z"
   },
   {
    "duration": 19,
    "start_time": "2023-11-11T10:36:08.647Z"
   },
   {
    "duration": 30,
    "start_time": "2023-11-11T10:36:08.668Z"
   },
   {
    "duration": 28,
    "start_time": "2023-11-11T10:36:08.700Z"
   },
   {
    "duration": 177,
    "start_time": "2023-11-11T10:36:08.729Z"
   },
   {
    "duration": 148,
    "start_time": "2023-11-11T10:36:08.907Z"
   },
   {
    "duration": 157,
    "start_time": "2023-11-11T10:36:09.056Z"
   },
   {
    "duration": 167,
    "start_time": "2023-11-11T10:36:09.215Z"
   },
   {
    "duration": 22,
    "start_time": "2023-11-11T10:36:09.383Z"
   },
   {
    "duration": 23,
    "start_time": "2023-11-11T10:36:09.406Z"
   },
   {
    "duration": 11,
    "start_time": "2023-11-11T10:36:09.431Z"
   },
   {
    "duration": 163,
    "start_time": "2023-11-11T10:36:09.443Z"
   },
   {
    "duration": 12,
    "start_time": "2023-11-11T10:36:09.607Z"
   },
   {
    "duration": 140,
    "start_time": "2023-11-11T10:36:09.620Z"
   },
   {
    "duration": 21,
    "start_time": "2023-11-11T10:36:09.766Z"
   },
   {
    "duration": 11,
    "start_time": "2023-11-11T10:36:09.788Z"
   },
   {
    "duration": 13,
    "start_time": "2023-11-11T10:36:09.800Z"
   },
   {
    "duration": 10,
    "start_time": "2023-11-11T10:36:09.814Z"
   },
   {
    "duration": 2105,
    "start_time": "2023-11-11T10:36:09.825Z"
   },
   {
    "duration": 5,
    "start_time": "2023-11-11T10:36:11.932Z"
   },
   {
    "duration": 10,
    "start_time": "2023-11-11T10:36:11.938Z"
   },
   {
    "duration": 7,
    "start_time": "2023-11-11T10:43:20.502Z"
   },
   {
    "duration": 5,
    "start_time": "2023-11-11T10:49:18.636Z"
   },
   {
    "duration": 5,
    "start_time": "2023-11-11T10:51:02.361Z"
   },
   {
    "duration": 5,
    "start_time": "2023-11-11T10:55:11.597Z"
   },
   {
    "duration": 6,
    "start_time": "2023-11-11T10:57:34.231Z"
   },
   {
    "duration": 3,
    "start_time": "2023-11-11T11:12:16.828Z"
   },
   {
    "duration": 8,
    "start_time": "2023-11-11T11:12:16.833Z"
   },
   {
    "duration": 46,
    "start_time": "2023-11-11T11:12:16.843Z"
   },
   {
    "duration": 44,
    "start_time": "2023-11-11T11:12:16.891Z"
   },
   {
    "duration": 28,
    "start_time": "2023-11-11T11:12:16.937Z"
   },
   {
    "duration": 7,
    "start_time": "2023-11-11T11:12:16.967Z"
   },
   {
    "duration": 14,
    "start_time": "2023-11-11T11:12:16.976Z"
   },
   {
    "duration": 12,
    "start_time": "2023-11-11T11:12:16.991Z"
   },
   {
    "duration": 15,
    "start_time": "2023-11-11T11:12:17.005Z"
   },
   {
    "duration": 6,
    "start_time": "2023-11-11T11:12:17.022Z"
   },
   {
    "duration": 37,
    "start_time": "2023-11-11T11:12:17.029Z"
   },
   {
    "duration": 157,
    "start_time": "2023-11-11T11:12:17.068Z"
   },
   {
    "duration": 6,
    "start_time": "2023-11-11T11:12:17.228Z"
   },
   {
    "duration": 12,
    "start_time": "2023-11-11T11:12:17.235Z"
   },
   {
    "duration": 33,
    "start_time": "2023-11-11T11:12:17.249Z"
   },
   {
    "duration": 7,
    "start_time": "2023-11-11T11:12:17.284Z"
   },
   {
    "duration": 18,
    "start_time": "2023-11-11T11:12:17.293Z"
   },
   {
    "duration": 16,
    "start_time": "2023-11-11T11:12:17.313Z"
   },
   {
    "duration": 5,
    "start_time": "2023-11-11T11:12:17.330Z"
   },
   {
    "duration": 188,
    "start_time": "2023-11-11T11:12:17.336Z"
   },
   {
    "duration": 6,
    "start_time": "2023-11-11T11:12:17.526Z"
   },
   {
    "duration": 33,
    "start_time": "2023-11-11T11:12:17.534Z"
   },
   {
    "duration": 148,
    "start_time": "2023-11-11T11:12:17.569Z"
   },
   {
    "duration": 7,
    "start_time": "2023-11-11T11:12:17.719Z"
   },
   {
    "duration": 170,
    "start_time": "2023-11-11T11:12:17.727Z"
   },
   {
    "duration": 9,
    "start_time": "2023-11-11T11:12:17.898Z"
   },
   {
    "duration": 172,
    "start_time": "2023-11-11T11:12:17.909Z"
   },
   {
    "duration": 9,
    "start_time": "2023-11-11T11:12:18.083Z"
   },
   {
    "duration": 23,
    "start_time": "2023-11-11T11:12:18.094Z"
   },
   {
    "duration": 56,
    "start_time": "2023-11-11T11:12:18.119Z"
   },
   {
    "duration": 169,
    "start_time": "2023-11-11T11:12:18.177Z"
   },
   {
    "duration": 162,
    "start_time": "2023-11-11T11:12:18.348Z"
   },
   {
    "duration": 181,
    "start_time": "2023-11-11T11:12:18.513Z"
   },
   {
    "duration": 171,
    "start_time": "2023-11-11T11:12:18.695Z"
   },
   {
    "duration": 26,
    "start_time": "2023-11-11T11:12:18.867Z"
   },
   {
    "duration": 25,
    "start_time": "2023-11-11T11:12:18.894Z"
   },
   {
    "duration": 11,
    "start_time": "2023-11-11T11:12:18.923Z"
   },
   {
    "duration": 167,
    "start_time": "2023-11-11T11:12:18.935Z"
   },
   {
    "duration": 15,
    "start_time": "2023-11-11T11:12:19.104Z"
   },
   {
    "duration": 146,
    "start_time": "2023-11-11T11:12:19.121Z"
   },
   {
    "duration": 21,
    "start_time": "2023-11-11T11:12:19.268Z"
   },
   {
    "duration": 6,
    "start_time": "2023-11-11T11:12:19.291Z"
   },
   {
    "duration": 9,
    "start_time": "2023-11-11T11:12:19.299Z"
   },
   {
    "duration": 7,
    "start_time": "2023-11-11T11:12:19.310Z"
   },
   {
    "duration": 1777,
    "start_time": "2023-11-11T11:12:19.318Z"
   },
   {
    "duration": 6,
    "start_time": "2023-11-11T11:12:21.096Z"
   },
   {
    "duration": 32,
    "start_time": "2023-11-11T11:12:21.103Z"
   },
   {
    "duration": 17,
    "start_time": "2023-11-11T11:12:21.137Z"
   },
   {
    "duration": 173,
    "start_time": "2023-11-11T11:13:22.545Z"
   },
   {
    "duration": 8,
    "start_time": "2023-11-11T11:15:45.068Z"
   },
   {
    "duration": 8,
    "start_time": "2023-11-11T11:16:04.509Z"
   },
   {
    "duration": 152,
    "start_time": "2023-11-11T11:17:52.851Z"
   },
   {
    "duration": 138,
    "start_time": "2023-11-11T11:18:09.580Z"
   },
   {
    "duration": 1051,
    "start_time": "2023-11-11T11:54:18.477Z"
   },
   {
    "duration": 3,
    "start_time": "2023-11-11T11:54:19.529Z"
   },
   {
    "duration": 76,
    "start_time": "2023-11-11T11:54:19.533Z"
   },
   {
    "duration": 39,
    "start_time": "2023-11-11T11:54:19.611Z"
   },
   {
    "duration": 25,
    "start_time": "2023-11-11T11:54:19.652Z"
   },
   {
    "duration": 8,
    "start_time": "2023-11-11T11:54:19.678Z"
   },
   {
    "duration": 15,
    "start_time": "2023-11-11T11:54:19.687Z"
   },
   {
    "duration": 27,
    "start_time": "2023-11-11T11:54:19.703Z"
   },
   {
    "duration": 12,
    "start_time": "2023-11-11T11:54:19.732Z"
   },
   {
    "duration": 6,
    "start_time": "2023-11-11T11:54:19.746Z"
   },
   {
    "duration": 5,
    "start_time": "2023-11-11T11:54:19.753Z"
   },
   {
    "duration": 163,
    "start_time": "2023-11-11T11:54:19.760Z"
   },
   {
    "duration": 6,
    "start_time": "2023-11-11T11:54:19.925Z"
   },
   {
    "duration": 6,
    "start_time": "2023-11-11T11:54:19.934Z"
   },
   {
    "duration": 17,
    "start_time": "2023-11-11T11:54:19.941Z"
   },
   {
    "duration": 10,
    "start_time": "2023-11-11T11:54:19.960Z"
   },
   {
    "duration": 15,
    "start_time": "2023-11-11T11:54:19.999Z"
   },
   {
    "duration": 37,
    "start_time": "2023-11-11T11:54:20.016Z"
   },
   {
    "duration": 14,
    "start_time": "2023-11-11T11:54:20.055Z"
   },
   {
    "duration": 144,
    "start_time": "2023-11-11T11:54:20.071Z"
   },
   {
    "duration": 6,
    "start_time": "2023-11-11T11:54:20.216Z"
   },
   {
    "duration": 55,
    "start_time": "2023-11-11T11:54:20.223Z"
   },
   {
    "duration": 136,
    "start_time": "2023-11-11T11:54:20.280Z"
   },
   {
    "duration": 6,
    "start_time": "2023-11-11T11:54:20.418Z"
   },
   {
    "duration": 155,
    "start_time": "2023-11-11T11:54:20.425Z"
   },
   {
    "duration": 8,
    "start_time": "2023-11-11T11:54:20.581Z"
   },
   {
    "duration": 142,
    "start_time": "2023-11-11T11:54:20.598Z"
   },
   {
    "duration": 7,
    "start_time": "2023-11-11T11:54:20.741Z"
   },
   {
    "duration": 23,
    "start_time": "2023-11-11T11:54:20.750Z"
   },
   {
    "duration": 40,
    "start_time": "2023-11-11T11:54:20.775Z"
   },
   {
    "duration": 154,
    "start_time": "2023-11-11T11:54:20.816Z"
   },
   {
    "duration": 150,
    "start_time": "2023-11-11T11:54:20.972Z"
   },
   {
    "duration": 150,
    "start_time": "2023-11-11T11:54:21.124Z"
   },
   {
    "duration": 159,
    "start_time": "2023-11-11T11:54:21.276Z"
   },
   {
    "duration": 25,
    "start_time": "2023-11-11T11:54:21.437Z"
   },
   {
    "duration": 44,
    "start_time": "2023-11-11T11:54:21.464Z"
   },
   {
    "duration": 11,
    "start_time": "2023-11-11T11:54:21.510Z"
   },
   {
    "duration": 165,
    "start_time": "2023-11-11T11:54:21.523Z"
   },
   {
    "duration": 9,
    "start_time": "2023-11-11T11:54:21.690Z"
   },
   {
    "duration": 12,
    "start_time": "2023-11-11T11:54:21.701Z"
   },
   {
    "duration": 223,
    "start_time": "2023-11-11T11:54:21.716Z"
   },
   {
    "duration": 7,
    "start_time": "2023-11-11T11:54:21.940Z"
   },
   {
    "duration": 16,
    "start_time": "2023-11-11T11:54:21.949Z"
   },
   {
    "duration": 4,
    "start_time": "2023-11-11T11:54:21.967Z"
   },
   {
    "duration": 5,
    "start_time": "2023-11-11T11:54:21.998Z"
   },
   {
    "duration": 6,
    "start_time": "2023-11-11T11:54:22.005Z"
   },
   {
    "duration": 1577,
    "start_time": "2023-11-11T11:54:22.012Z"
   },
   {
    "duration": 9,
    "start_time": "2023-11-11T11:54:23.591Z"
   },
   {
    "duration": 12,
    "start_time": "2023-11-11T11:54:23.602Z"
   },
   {
    "duration": 8,
    "start_time": "2023-11-11T11:54:23.616Z"
   },
   {
    "duration": 17,
    "start_time": "2023-11-11T11:59:32.600Z"
   },
   {
    "duration": 1054,
    "start_time": "2023-11-11T12:10:28.371Z"
   },
   {
    "duration": 2,
    "start_time": "2023-11-11T12:10:29.427Z"
   },
   {
    "duration": 76,
    "start_time": "2023-11-11T12:10:29.431Z"
   },
   {
    "duration": 43,
    "start_time": "2023-11-11T12:10:29.509Z"
   },
   {
    "duration": 26,
    "start_time": "2023-11-11T12:10:29.554Z"
   },
   {
    "duration": 6,
    "start_time": "2023-11-11T12:10:29.582Z"
   },
   {
    "duration": 14,
    "start_time": "2023-11-11T12:10:29.590Z"
   },
   {
    "duration": 11,
    "start_time": "2023-11-11T12:10:29.606Z"
   },
   {
    "duration": 13,
    "start_time": "2023-11-11T12:10:29.618Z"
   },
   {
    "duration": 5,
    "start_time": "2023-11-11T12:10:29.633Z"
   },
   {
    "duration": 23,
    "start_time": "2023-11-11T12:10:29.639Z"
   },
   {
    "duration": 167,
    "start_time": "2023-11-11T12:10:29.664Z"
   },
   {
    "duration": 6,
    "start_time": "2023-11-11T12:10:29.833Z"
   },
   {
    "duration": 6,
    "start_time": "2023-11-11T12:10:29.841Z"
   },
   {
    "duration": 17,
    "start_time": "2023-11-11T12:10:29.849Z"
   },
   {
    "duration": 9,
    "start_time": "2023-11-11T12:10:29.867Z"
   },
   {
    "duration": 5,
    "start_time": "2023-11-11T12:10:29.900Z"
   },
   {
    "duration": 22,
    "start_time": "2023-11-11T12:10:29.906Z"
   },
   {
    "duration": 10,
    "start_time": "2023-11-11T12:10:29.929Z"
   },
   {
    "duration": 176,
    "start_time": "2023-11-11T12:10:29.941Z"
   },
   {
    "duration": 7,
    "start_time": "2023-11-11T12:10:30.119Z"
   },
   {
    "duration": 58,
    "start_time": "2023-11-11T12:10:30.128Z"
   },
   {
    "duration": 161,
    "start_time": "2023-11-11T12:10:30.188Z"
   },
   {
    "duration": 9,
    "start_time": "2023-11-11T12:10:30.351Z"
   },
   {
    "duration": 178,
    "start_time": "2023-11-11T12:10:30.361Z"
   },
   {
    "duration": 8,
    "start_time": "2023-11-11T12:10:30.541Z"
   },
   {
    "duration": 169,
    "start_time": "2023-11-11T12:10:30.551Z"
   },
   {
    "duration": 9,
    "start_time": "2023-11-11T12:10:30.724Z"
   },
   {
    "duration": 41,
    "start_time": "2023-11-11T12:10:30.735Z"
   },
   {
    "duration": 33,
    "start_time": "2023-11-11T12:10:30.778Z"
   },
   {
    "duration": 166,
    "start_time": "2023-11-11T12:10:30.813Z"
   },
   {
    "duration": 157,
    "start_time": "2023-11-11T12:10:30.981Z"
   },
   {
    "duration": 164,
    "start_time": "2023-11-11T12:10:31.140Z"
   },
   {
    "duration": 175,
    "start_time": "2023-11-11T12:10:31.306Z"
   },
   {
    "duration": 27,
    "start_time": "2023-11-11T12:10:31.482Z"
   },
   {
    "duration": 57,
    "start_time": "2023-11-11T12:10:31.511Z"
   },
   {
    "duration": 14,
    "start_time": "2023-11-11T12:10:31.570Z"
   },
   {
    "duration": 192,
    "start_time": "2023-11-11T12:10:31.586Z"
   },
   {
    "duration": 8,
    "start_time": "2023-11-11T12:10:31.780Z"
   },
   {
    "duration": 18,
    "start_time": "2023-11-11T12:10:31.790Z"
   },
   {
    "duration": 215,
    "start_time": "2023-11-11T12:10:31.809Z"
   },
   {
    "duration": 8,
    "start_time": "2023-11-11T12:10:32.026Z"
   },
   {
    "duration": 27,
    "start_time": "2023-11-11T12:10:32.036Z"
   },
   {
    "duration": 6,
    "start_time": "2023-11-11T12:10:32.064Z"
   },
   {
    "duration": 29,
    "start_time": "2023-11-11T12:10:32.071Z"
   },
   {
    "duration": 5,
    "start_time": "2023-11-11T12:10:32.102Z"
   },
   {
    "duration": 1657,
    "start_time": "2023-11-11T12:10:32.108Z"
   },
   {
    "duration": 5,
    "start_time": "2023-11-11T12:10:33.767Z"
   },
   {
    "duration": 18,
    "start_time": "2023-11-11T12:10:33.773Z"
   },
   {
    "duration": 22,
    "start_time": "2023-11-11T12:10:33.792Z"
   },
   {
    "duration": 1297,
    "start_time": "2023-11-11T20:12:53.512Z"
   },
   {
    "duration": 3,
    "start_time": "2023-11-11T20:12:54.811Z"
   },
   {
    "duration": 121,
    "start_time": "2023-11-11T20:12:54.815Z"
   },
   {
    "duration": 83,
    "start_time": "2023-11-11T20:12:54.937Z"
   },
   {
    "duration": 65,
    "start_time": "2023-11-11T20:12:55.022Z"
   },
   {
    "duration": 7,
    "start_time": "2023-11-11T20:12:55.088Z"
   },
   {
    "duration": 10,
    "start_time": "2023-11-11T20:12:55.097Z"
   },
   {
    "duration": 10,
    "start_time": "2023-11-11T20:12:55.108Z"
   },
   {
    "duration": 13,
    "start_time": "2023-11-11T20:12:55.119Z"
   },
   {
    "duration": 5,
    "start_time": "2023-11-11T20:12:55.133Z"
   },
   {
    "duration": 5,
    "start_time": "2023-11-11T20:12:55.140Z"
   },
   {
    "duration": 194,
    "start_time": "2023-11-11T20:12:55.147Z"
   },
   {
    "duration": 6,
    "start_time": "2023-11-11T20:12:55.342Z"
   },
   {
    "duration": 5,
    "start_time": "2023-11-11T20:12:55.350Z"
   },
   {
    "duration": 18,
    "start_time": "2023-11-11T20:12:55.356Z"
   },
   {
    "duration": 38,
    "start_time": "2023-11-11T20:12:55.375Z"
   },
   {
    "duration": 6,
    "start_time": "2023-11-11T20:12:55.414Z"
   },
   {
    "duration": 16,
    "start_time": "2023-11-11T20:12:55.422Z"
   },
   {
    "duration": 12,
    "start_time": "2023-11-11T20:12:55.439Z"
   },
   {
    "duration": 170,
    "start_time": "2023-11-11T20:12:55.452Z"
   },
   {
    "duration": 98,
    "start_time": "2023-11-11T20:15:15.005Z"
   },
   {
    "duration": 67,
    "start_time": "2023-11-11T20:15:23.289Z"
   },
   {
    "duration": 72,
    "start_time": "2023-11-11T20:16:20.959Z"
   },
   {
    "duration": 94,
    "start_time": "2023-11-11T20:18:00.891Z"
   },
   {
    "duration": 99,
    "start_time": "2023-11-11T20:21:30.582Z"
   },
   {
    "duration": 91,
    "start_time": "2023-11-11T20:21:43.171Z"
   },
   {
    "duration": 5,
    "start_time": "2023-11-11T20:23:21.389Z"
   },
   {
    "duration": 12,
    "start_time": "2023-11-11T20:28:21.757Z"
   },
   {
    "duration": 76,
    "start_time": "2023-11-11T20:28:32.003Z"
   },
   {
    "duration": 108,
    "start_time": "2023-11-11T20:29:37.085Z"
   },
   {
    "duration": 104,
    "start_time": "2023-11-11T20:29:59.980Z"
   },
   {
    "duration": 73,
    "start_time": "2023-11-11T20:30:16.344Z"
   },
   {
    "duration": 5,
    "start_time": "2023-11-11T20:31:07.420Z"
   },
   {
    "duration": 14,
    "start_time": "2023-11-11T20:31:34.313Z"
   },
   {
    "duration": 76,
    "start_time": "2023-11-11T20:31:42.436Z"
   },
   {
    "duration": 6,
    "start_time": "2023-11-11T20:31:49.663Z"
   },
   {
    "duration": 183,
    "start_time": "2023-11-11T20:32:30.541Z"
   },
   {
    "duration": 73,
    "start_time": "2023-11-11T20:32:49.119Z"
   },
   {
    "duration": 126,
    "start_time": "2023-11-11T20:33:09.547Z"
   },
   {
    "duration": 8,
    "start_time": "2023-11-11T20:35:00.549Z"
   },
   {
    "duration": 3,
    "start_time": "2023-11-11T20:35:05.510Z"
   },
   {
    "duration": 8,
    "start_time": "2023-11-11T20:35:05.514Z"
   },
   {
    "duration": 65,
    "start_time": "2023-11-11T20:35:05.523Z"
   },
   {
    "duration": 41,
    "start_time": "2023-11-11T20:35:05.590Z"
   },
   {
    "duration": 26,
    "start_time": "2023-11-11T20:35:05.633Z"
   },
   {
    "duration": 12,
    "start_time": "2023-11-11T20:35:05.660Z"
   },
   {
    "duration": 22,
    "start_time": "2023-11-11T20:35:05.673Z"
   },
   {
    "duration": 15,
    "start_time": "2023-11-11T20:35:05.696Z"
   },
   {
    "duration": 12,
    "start_time": "2023-11-11T20:35:05.713Z"
   },
   {
    "duration": 5,
    "start_time": "2023-11-11T20:35:05.727Z"
   },
   {
    "duration": 11,
    "start_time": "2023-11-11T20:35:05.733Z"
   },
   {
    "duration": 155,
    "start_time": "2023-11-11T20:35:05.745Z"
   },
   {
    "duration": 12,
    "start_time": "2023-11-11T20:35:05.902Z"
   },
   {
    "duration": 11,
    "start_time": "2023-11-11T20:35:05.916Z"
   },
   {
    "duration": 16,
    "start_time": "2023-11-11T20:35:05.928Z"
   },
   {
    "duration": 10,
    "start_time": "2023-11-11T20:35:05.946Z"
   },
   {
    "duration": 5,
    "start_time": "2023-11-11T20:35:05.958Z"
   },
   {
    "duration": 52,
    "start_time": "2023-11-11T20:35:05.964Z"
   },
   {
    "duration": 6,
    "start_time": "2023-11-11T20:35:06.018Z"
   },
   {
    "duration": 163,
    "start_time": "2023-11-11T20:35:06.026Z"
   },
   {
    "duration": 108,
    "start_time": "2023-11-11T20:35:06.191Z"
   },
   {
    "duration": 10,
    "start_time": "2023-11-11T20:35:06.301Z"
   },
   {
    "duration": 20,
    "start_time": "2023-11-11T20:35:06.312Z"
   },
   {
    "duration": 162,
    "start_time": "2023-11-11T20:35:06.335Z"
   },
   {
    "duration": 15,
    "start_time": "2023-11-11T20:35:06.499Z"
   },
   {
    "duration": 169,
    "start_time": "2023-11-11T20:35:06.515Z"
   },
   {
    "duration": 7,
    "start_time": "2023-11-11T20:35:06.686Z"
   },
   {
    "duration": 170,
    "start_time": "2023-11-11T20:35:06.695Z"
   },
   {
    "duration": 7,
    "start_time": "2023-11-11T20:35:06.866Z"
   },
   {
    "duration": 38,
    "start_time": "2023-11-11T20:35:06.875Z"
   },
   {
    "duration": 3,
    "start_time": "2023-11-11T20:35:06.914Z"
   },
   {
    "duration": 10,
    "start_time": "2023-11-11T20:50:11.210Z"
   },
   {
    "duration": 3,
    "start_time": "2023-11-11T20:50:17.090Z"
   },
   {
    "duration": 6,
    "start_time": "2023-11-11T20:50:17.095Z"
   },
   {
    "duration": 45,
    "start_time": "2023-11-11T20:50:17.102Z"
   },
   {
    "duration": 41,
    "start_time": "2023-11-11T20:50:17.149Z"
   },
   {
    "duration": 27,
    "start_time": "2023-11-11T20:50:17.191Z"
   },
   {
    "duration": 6,
    "start_time": "2023-11-11T20:50:17.220Z"
   },
   {
    "duration": 7,
    "start_time": "2023-11-11T20:50:17.228Z"
   },
   {
    "duration": 10,
    "start_time": "2023-11-11T20:50:17.237Z"
   },
   {
    "duration": 11,
    "start_time": "2023-11-11T20:50:17.249Z"
   },
   {
    "duration": 5,
    "start_time": "2023-11-11T20:50:17.262Z"
   },
   {
    "duration": 6,
    "start_time": "2023-11-11T20:50:17.310Z"
   },
   {
    "duration": 159,
    "start_time": "2023-11-11T20:50:17.317Z"
   },
   {
    "duration": 6,
    "start_time": "2023-11-11T20:50:17.477Z"
   },
   {
    "duration": 25,
    "start_time": "2023-11-11T20:50:17.486Z"
   },
   {
    "duration": 20,
    "start_time": "2023-11-11T20:50:17.513Z"
   },
   {
    "duration": 9,
    "start_time": "2023-11-11T20:50:17.535Z"
   },
   {
    "duration": 5,
    "start_time": "2023-11-11T20:50:17.546Z"
   },
   {
    "duration": 60,
    "start_time": "2023-11-11T20:50:17.553Z"
   },
   {
    "duration": 6,
    "start_time": "2023-11-11T20:50:17.622Z"
   },
   {
    "duration": 151,
    "start_time": "2023-11-11T20:50:17.629Z"
   },
   {
    "duration": 191,
    "start_time": "2023-11-11T20:50:17.782Z"
   },
   {
    "duration": 7,
    "start_time": "2023-11-11T20:50:17.974Z"
   },
   {
    "duration": 34,
    "start_time": "2023-11-11T20:50:17.982Z"
   },
   {
    "duration": 155,
    "start_time": "2023-11-11T20:50:18.020Z"
   },
   {
    "duration": 8,
    "start_time": "2023-11-11T20:50:18.176Z"
   },
   {
    "duration": 180,
    "start_time": "2023-11-11T20:50:18.186Z"
   },
   {
    "duration": 9,
    "start_time": "2023-11-11T20:50:18.367Z"
   },
   {
    "duration": 177,
    "start_time": "2023-11-11T20:50:18.377Z"
   },
   {
    "duration": 11,
    "start_time": "2023-11-11T20:50:18.555Z"
   },
   {
    "duration": 44,
    "start_time": "2023-11-11T20:50:18.568Z"
   },
   {
    "duration": 3,
    "start_time": "2023-11-11T20:50:18.613Z"
   },
   {
    "duration": 31,
    "start_time": "2023-11-11T20:50:18.618Z"
   },
   {
    "duration": 183,
    "start_time": "2023-11-11T20:50:18.651Z"
   },
   {
    "duration": 184,
    "start_time": "2023-11-11T20:50:18.835Z"
   },
   {
    "duration": 209,
    "start_time": "2023-11-11T20:50:43.379Z"
   },
   {
    "duration": 219,
    "start_time": "2023-11-11T20:52:07.665Z"
   },
   {
    "duration": 214,
    "start_time": "2023-11-11T20:53:05.973Z"
   },
   {
    "duration": 216,
    "start_time": "2023-11-11T20:54:07.885Z"
   },
   {
    "duration": 3,
    "start_time": "2023-11-11T20:57:52.804Z"
   },
   {
    "duration": 7,
    "start_time": "2023-11-11T20:57:52.809Z"
   },
   {
    "duration": 43,
    "start_time": "2023-11-11T20:57:52.817Z"
   },
   {
    "duration": 39,
    "start_time": "2023-11-11T20:57:52.861Z"
   },
   {
    "duration": 25,
    "start_time": "2023-11-11T20:57:52.903Z"
   },
   {
    "duration": 6,
    "start_time": "2023-11-11T20:57:52.929Z"
   },
   {
    "duration": 11,
    "start_time": "2023-11-11T20:57:52.937Z"
   },
   {
    "duration": 10,
    "start_time": "2023-11-11T20:57:52.949Z"
   },
   {
    "duration": 11,
    "start_time": "2023-11-11T20:57:52.961Z"
   },
   {
    "duration": 4,
    "start_time": "2023-11-11T20:57:52.973Z"
   },
   {
    "duration": 35,
    "start_time": "2023-11-11T20:57:52.978Z"
   },
   {
    "duration": 149,
    "start_time": "2023-11-11T20:57:53.015Z"
   },
   {
    "duration": 5,
    "start_time": "2023-11-11T20:57:53.167Z"
   },
   {
    "duration": 6,
    "start_time": "2023-11-11T20:57:53.174Z"
   },
   {
    "duration": 37,
    "start_time": "2023-11-11T20:57:53.181Z"
   },
   {
    "duration": 8,
    "start_time": "2023-11-11T20:57:53.220Z"
   },
   {
    "duration": 6,
    "start_time": "2023-11-11T20:57:53.229Z"
   },
   {
    "duration": 135,
    "start_time": "2023-11-11T20:57:53.236Z"
   },
   {
    "duration": 5,
    "start_time": "2023-11-11T20:57:53.372Z"
   },
   {
    "duration": 161,
    "start_time": "2023-11-11T20:57:53.379Z"
   },
   {
    "duration": 106,
    "start_time": "2023-11-11T20:57:53.541Z"
   },
   {
    "duration": 5,
    "start_time": "2023-11-11T20:57:53.649Z"
   },
   {
    "duration": 20,
    "start_time": "2023-11-11T20:57:53.656Z"
   },
   {
    "duration": 174,
    "start_time": "2023-11-11T20:57:53.678Z"
   },
   {
    "duration": 7,
    "start_time": "2023-11-11T20:57:53.854Z"
   },
   {
    "duration": 168,
    "start_time": "2023-11-11T20:57:53.863Z"
   },
   {
    "duration": 8,
    "start_time": "2023-11-11T20:57:54.033Z"
   },
   {
    "duration": 173,
    "start_time": "2023-11-11T20:57:54.042Z"
   },
   {
    "duration": 8,
    "start_time": "2023-11-11T20:57:54.216Z"
   },
   {
    "duration": 22,
    "start_time": "2023-11-11T20:57:54.225Z"
   },
   {
    "duration": 4,
    "start_time": "2023-11-11T20:57:54.248Z"
   },
   {
    "duration": 62,
    "start_time": "2023-11-11T20:57:54.253Z"
   },
   {
    "duration": 232,
    "start_time": "2023-11-11T20:57:54.317Z"
   },
   {
    "duration": 159,
    "start_time": "2023-11-11T20:57:54.550Z"
   },
   {
    "duration": 162,
    "start_time": "2023-11-11T20:57:54.710Z"
   },
   {
    "duration": 24,
    "start_time": "2023-11-11T20:57:54.874Z"
   },
   {
    "duration": 28,
    "start_time": "2023-11-11T20:58:30.935Z"
   },
   {
    "duration": 28,
    "start_time": "2023-11-11T20:59:17.302Z"
   },
   {
    "duration": 25,
    "start_time": "2023-11-11T21:01:00.095Z"
   },
   {
    "duration": 28,
    "start_time": "2023-11-11T21:01:12.084Z"
   },
   {
    "duration": 13,
    "start_time": "2023-11-11T21:01:48.169Z"
   },
   {
    "duration": 13,
    "start_time": "2023-11-11T21:02:30.939Z"
   },
   {
    "duration": 3,
    "start_time": "2023-11-11T21:02:44.540Z"
   },
   {
    "duration": 20,
    "start_time": "2023-11-11T21:02:44.545Z"
   },
   {
    "duration": 44,
    "start_time": "2023-11-11T21:02:44.566Z"
   },
   {
    "duration": 42,
    "start_time": "2023-11-11T21:02:44.612Z"
   },
   {
    "duration": 27,
    "start_time": "2023-11-11T21:02:44.657Z"
   },
   {
    "duration": 6,
    "start_time": "2023-11-11T21:02:44.686Z"
   },
   {
    "duration": 33,
    "start_time": "2023-11-11T21:02:44.693Z"
   },
   {
    "duration": 11,
    "start_time": "2023-11-11T21:02:44.727Z"
   },
   {
    "duration": 12,
    "start_time": "2023-11-11T21:02:44.740Z"
   },
   {
    "duration": 4,
    "start_time": "2023-11-11T21:02:44.754Z"
   },
   {
    "duration": 19,
    "start_time": "2023-11-11T21:02:44.759Z"
   },
   {
    "duration": 163,
    "start_time": "2023-11-11T21:02:44.780Z"
   },
   {
    "duration": 6,
    "start_time": "2023-11-11T21:02:44.947Z"
   },
   {
    "duration": 7,
    "start_time": "2023-11-11T21:02:44.955Z"
   },
   {
    "duration": 16,
    "start_time": "2023-11-11T21:02:44.964Z"
   },
   {
    "duration": 8,
    "start_time": "2023-11-11T21:02:45.011Z"
   },
   {
    "duration": 35,
    "start_time": "2023-11-11T21:02:45.021Z"
   },
   {
    "duration": 34,
    "start_time": "2023-11-11T21:02:45.057Z"
   },
   {
    "duration": 5,
    "start_time": "2023-11-11T21:02:45.092Z"
   },
   {
    "duration": 144,
    "start_time": "2023-11-11T21:02:45.098Z"
   },
   {
    "duration": 100,
    "start_time": "2023-11-11T21:02:45.243Z"
   },
   {
    "duration": 7,
    "start_time": "2023-11-11T21:02:45.345Z"
   },
   {
    "duration": 55,
    "start_time": "2023-11-11T21:02:45.354Z"
   },
   {
    "duration": 243,
    "start_time": "2023-11-11T21:02:45.410Z"
   },
   {
    "duration": 8,
    "start_time": "2023-11-11T21:02:45.655Z"
   },
   {
    "duration": 175,
    "start_time": "2023-11-11T21:02:45.665Z"
   },
   {
    "duration": 10,
    "start_time": "2023-11-11T21:02:45.842Z"
   },
   {
    "duration": 208,
    "start_time": "2023-11-11T21:02:45.853Z"
   },
   {
    "duration": 10,
    "start_time": "2023-11-11T21:02:46.063Z"
   },
   {
    "duration": 49,
    "start_time": "2023-11-11T21:02:46.075Z"
   },
   {
    "duration": 5,
    "start_time": "2023-11-11T21:02:46.125Z"
   },
   {
    "duration": 42,
    "start_time": "2023-11-11T21:02:46.132Z"
   },
   {
    "duration": 254,
    "start_time": "2023-11-11T21:02:46.175Z"
   },
   {
    "duration": 166,
    "start_time": "2023-11-11T21:02:46.431Z"
   },
   {
    "duration": 175,
    "start_time": "2023-11-11T21:02:46.599Z"
   },
   {
    "duration": 43,
    "start_time": "2023-11-11T21:02:46.776Z"
   },
   {
    "duration": 25,
    "start_time": "2023-11-11T21:02:46.822Z"
   },
   {
    "duration": 10,
    "start_time": "2023-11-11T21:02:46.849Z"
   },
   {
    "duration": 199,
    "start_time": "2023-11-11T21:02:46.861Z"
   },
   {
    "duration": 8,
    "start_time": "2023-11-11T21:02:47.062Z"
   },
   {
    "duration": 13,
    "start_time": "2023-11-11T21:02:47.071Z"
   },
   {
    "duration": 173,
    "start_time": "2023-11-11T21:02:47.086Z"
   },
   {
    "duration": 8,
    "start_time": "2023-11-11T21:02:47.261Z"
   },
   {
    "duration": 26,
    "start_time": "2023-11-11T21:11:22.687Z"
   },
   {
    "duration": 29,
    "start_time": "2023-11-11T21:12:07.306Z"
   },
   {
    "duration": 28,
    "start_time": "2023-11-11T21:13:14.836Z"
   },
   {
    "duration": 29,
    "start_time": "2023-11-11T21:13:36.575Z"
   },
   {
    "duration": 6,
    "start_time": "2023-11-11T21:15:50.611Z"
   },
   {
    "duration": 5,
    "start_time": "2023-11-11T21:19:08.445Z"
   },
   {
    "duration": 6,
    "start_time": "2023-11-11T21:22:57.786Z"
   },
   {
    "duration": 6,
    "start_time": "2023-11-11T21:23:20.758Z"
   },
   {
    "duration": 3,
    "start_time": "2023-11-11T21:28:37.111Z"
   },
   {
    "duration": 6,
    "start_time": "2023-11-11T21:28:37.116Z"
   },
   {
    "duration": 43,
    "start_time": "2023-11-11T21:28:37.124Z"
   },
   {
    "duration": 49,
    "start_time": "2023-11-11T21:28:37.169Z"
   },
   {
    "duration": 27,
    "start_time": "2023-11-11T21:28:37.220Z"
   },
   {
    "duration": 7,
    "start_time": "2023-11-11T21:28:37.249Z"
   },
   {
    "duration": 8,
    "start_time": "2023-11-11T21:28:37.257Z"
   },
   {
    "duration": 11,
    "start_time": "2023-11-11T21:28:37.267Z"
   },
   {
    "duration": 12,
    "start_time": "2023-11-11T21:28:37.312Z"
   },
   {
    "duration": 5,
    "start_time": "2023-11-11T21:28:37.326Z"
   },
   {
    "duration": 5,
    "start_time": "2023-11-11T21:28:37.332Z"
   },
   {
    "duration": 163,
    "start_time": "2023-11-11T21:28:37.338Z"
   },
   {
    "duration": 6,
    "start_time": "2023-11-11T21:28:37.510Z"
   },
   {
    "duration": 6,
    "start_time": "2023-11-11T21:28:37.518Z"
   },
   {
    "duration": 17,
    "start_time": "2023-11-11T21:28:37.525Z"
   },
   {
    "duration": 7,
    "start_time": "2023-11-11T21:28:37.544Z"
   },
   {
    "duration": 6,
    "start_time": "2023-11-11T21:28:37.553Z"
   },
   {
    "duration": 55,
    "start_time": "2023-11-11T21:28:37.560Z"
   },
   {
    "duration": 5,
    "start_time": "2023-11-11T21:28:37.616Z"
   },
   {
    "duration": 163,
    "start_time": "2023-11-11T21:28:37.622Z"
   },
   {
    "duration": 192,
    "start_time": "2023-11-11T21:28:37.787Z"
   },
   {
    "duration": 8,
    "start_time": "2023-11-11T21:28:37.981Z"
   },
   {
    "duration": 37,
    "start_time": "2023-11-11T21:28:37.991Z"
   },
   {
    "duration": 154,
    "start_time": "2023-11-11T21:28:38.031Z"
   },
   {
    "duration": 7,
    "start_time": "2023-11-11T21:28:38.187Z"
   },
   {
    "duration": 182,
    "start_time": "2023-11-11T21:28:38.196Z"
   },
   {
    "duration": 8,
    "start_time": "2023-11-11T21:28:38.379Z"
   },
   {
    "duration": 175,
    "start_time": "2023-11-11T21:28:38.389Z"
   },
   {
    "duration": 11,
    "start_time": "2023-11-11T21:28:38.566Z"
   },
   {
    "duration": 49,
    "start_time": "2023-11-11T21:28:38.578Z"
   },
   {
    "duration": 4,
    "start_time": "2023-11-11T21:28:38.628Z"
   },
   {
    "duration": 27,
    "start_time": "2023-11-11T21:28:38.634Z"
   },
   {
    "duration": 260,
    "start_time": "2023-11-11T21:28:38.663Z"
   },
   {
    "duration": 167,
    "start_time": "2023-11-11T21:28:38.925Z"
   },
   {
    "duration": 175,
    "start_time": "2023-11-11T21:28:39.093Z"
   },
   {
    "duration": 27,
    "start_time": "2023-11-11T21:28:39.269Z"
   },
   {
    "duration": 40,
    "start_time": "2023-11-11T21:28:39.298Z"
   },
   {
    "duration": 12,
    "start_time": "2023-11-11T21:28:39.339Z"
   },
   {
    "duration": 190,
    "start_time": "2023-11-11T21:28:39.353Z"
   },
   {
    "duration": 9,
    "start_time": "2023-11-11T21:28:39.545Z"
   },
   {
    "duration": 17,
    "start_time": "2023-11-11T21:28:39.556Z"
   },
   {
    "duration": 178,
    "start_time": "2023-11-11T21:28:39.574Z"
   },
   {
    "duration": 10,
    "start_time": "2023-11-11T21:28:39.754Z"
   },
   {
    "duration": 7,
    "start_time": "2023-11-11T21:28:39.766Z"
   },
   {
    "duration": 5,
    "start_time": "2023-11-11T21:28:39.774Z"
   },
   {
    "duration": 6,
    "start_time": "2023-11-11T21:28:39.811Z"
   },
   {
    "duration": 6,
    "start_time": "2023-11-11T21:28:39.819Z"
   },
   {
    "duration": 4,
    "start_time": "2023-11-11T21:36:10.452Z"
   },
   {
    "duration": 8,
    "start_time": "2023-11-11T21:36:10.458Z"
   },
   {
    "duration": 49,
    "start_time": "2023-11-11T21:36:10.467Z"
   },
   {
    "duration": 47,
    "start_time": "2023-11-11T21:36:10.519Z"
   },
   {
    "duration": 44,
    "start_time": "2023-11-11T21:36:10.568Z"
   },
   {
    "duration": 8,
    "start_time": "2023-11-11T21:36:10.614Z"
   },
   {
    "duration": 19,
    "start_time": "2023-11-11T21:36:10.623Z"
   },
   {
    "duration": 13,
    "start_time": "2023-11-11T21:36:10.644Z"
   },
   {
    "duration": 12,
    "start_time": "2023-11-11T21:36:10.660Z"
   },
   {
    "duration": 40,
    "start_time": "2023-11-11T21:36:10.674Z"
   },
   {
    "duration": 6,
    "start_time": "2023-11-11T21:36:10.715Z"
   },
   {
    "duration": 160,
    "start_time": "2023-11-11T21:36:10.722Z"
   },
   {
    "duration": 6,
    "start_time": "2023-11-11T21:36:10.883Z"
   },
   {
    "duration": 25,
    "start_time": "2023-11-11T21:36:10.890Z"
   },
   {
    "duration": 20,
    "start_time": "2023-11-11T21:36:10.916Z"
   },
   {
    "duration": 9,
    "start_time": "2023-11-11T21:36:10.938Z"
   },
   {
    "duration": 15,
    "start_time": "2023-11-11T21:36:10.948Z"
   },
   {
    "duration": 15,
    "start_time": "2023-11-11T21:36:10.964Z"
   },
   {
    "duration": 32,
    "start_time": "2023-11-11T21:36:10.980Z"
   },
   {
    "duration": 153,
    "start_time": "2023-11-11T21:36:11.013Z"
   },
   {
    "duration": 190,
    "start_time": "2023-11-11T21:36:11.167Z"
   },
   {
    "duration": 6,
    "start_time": "2023-11-11T21:36:11.358Z"
   },
   {
    "duration": 20,
    "start_time": "2023-11-11T21:36:11.365Z"
   },
   {
    "duration": 164,
    "start_time": "2023-11-11T21:36:11.388Z"
   },
   {
    "duration": 7,
    "start_time": "2023-11-11T21:36:11.554Z"
   },
   {
    "duration": 163,
    "start_time": "2023-11-11T21:36:11.563Z"
   },
   {
    "duration": 8,
    "start_time": "2023-11-11T21:36:11.728Z"
   },
   {
    "duration": 174,
    "start_time": "2023-11-11T21:36:11.737Z"
   },
   {
    "duration": 9,
    "start_time": "2023-11-11T21:36:11.912Z"
   },
   {
    "duration": 25,
    "start_time": "2023-11-11T21:36:11.922Z"
   },
   {
    "duration": 4,
    "start_time": "2023-11-11T21:36:11.948Z"
   },
   {
    "duration": 65,
    "start_time": "2023-11-11T21:36:11.954Z"
   },
   {
    "duration": 240,
    "start_time": "2023-11-11T21:36:12.021Z"
   },
   {
    "duration": 164,
    "start_time": "2023-11-11T21:36:12.263Z"
   },
   {
    "duration": 184,
    "start_time": "2023-11-11T21:36:12.429Z"
   },
   {
    "duration": 25,
    "start_time": "2023-11-11T21:36:12.615Z"
   },
   {
    "duration": 26,
    "start_time": "2023-11-11T21:36:12.642Z"
   },
   {
    "duration": 42,
    "start_time": "2023-11-11T21:36:12.669Z"
   },
   {
    "duration": 169,
    "start_time": "2023-11-11T21:36:12.713Z"
   },
   {
    "duration": 8,
    "start_time": "2023-11-11T21:36:12.883Z"
   },
   {
    "duration": 24,
    "start_time": "2023-11-11T21:36:12.893Z"
   },
   {
    "duration": 158,
    "start_time": "2023-11-11T21:36:12.918Z"
   },
   {
    "duration": 7,
    "start_time": "2023-11-11T21:36:13.078Z"
   },
   {
    "duration": 24,
    "start_time": "2023-11-11T21:36:13.087Z"
   },
   {
    "duration": 5,
    "start_time": "2023-11-11T21:36:13.113Z"
   },
   {
    "duration": 6,
    "start_time": "2023-11-11T21:36:13.119Z"
   },
   {
    "duration": 6,
    "start_time": "2023-11-11T21:36:13.126Z"
   },
   {
    "duration": 1790,
    "start_time": "2023-11-11T21:36:13.133Z"
   },
   {
    "duration": 6,
    "start_time": "2023-11-11T21:36:14.924Z"
   },
   {
    "duration": 5,
    "start_time": "2023-11-11T21:36:14.931Z"
   },
   {
    "duration": 13,
    "start_time": "2023-11-11T21:36:14.938Z"
   },
   {
    "duration": 9,
    "start_time": "2023-11-11T21:43:01.483Z"
   },
   {
    "duration": 10,
    "start_time": "2023-11-11T21:43:53.938Z"
   },
   {
    "duration": 1759,
    "start_time": "2023-11-11T21:52:53.178Z"
   },
   {
    "duration": 8,
    "start_time": "2023-11-11T21:53:14.353Z"
   },
   {
    "duration": 15,
    "start_time": "2023-11-11T21:53:20.594Z"
   },
   {
    "duration": 5,
    "start_time": "2023-11-11T21:55:31.699Z"
   },
   {
    "duration": 58,
    "start_time": "2023-11-12T09:08:25.073Z"
   },
   {
    "duration": 1278,
    "start_time": "2023-11-12T09:08:29.233Z"
   },
   {
    "duration": 3,
    "start_time": "2023-11-12T09:08:30.513Z"
   },
   {
    "duration": 204,
    "start_time": "2023-11-12T09:08:30.517Z"
   },
   {
    "duration": 92,
    "start_time": "2023-11-12T09:08:30.723Z"
   },
   {
    "duration": 65,
    "start_time": "2023-11-12T09:08:30.817Z"
   },
   {
    "duration": 7,
    "start_time": "2023-11-12T09:08:30.884Z"
   },
   {
    "duration": 57,
    "start_time": "2023-11-12T09:08:30.892Z"
   },
   {
    "duration": 54,
    "start_time": "2023-11-12T09:08:30.950Z"
   },
   {
    "duration": 25,
    "start_time": "2023-11-12T09:08:31.006Z"
   },
   {
    "duration": 32,
    "start_time": "2023-11-12T09:08:31.034Z"
   },
   {
    "duration": 31,
    "start_time": "2023-11-12T09:08:31.068Z"
   },
   {
    "duration": 236,
    "start_time": "2023-11-12T09:08:31.101Z"
   },
   {
    "duration": 9,
    "start_time": "2023-11-12T09:08:31.339Z"
   },
   {
    "duration": 51,
    "start_time": "2023-11-12T09:08:31.351Z"
   },
   {
    "duration": 72,
    "start_time": "2023-11-12T09:08:31.404Z"
   },
   {
    "duration": 30,
    "start_time": "2023-11-12T09:08:31.479Z"
   },
   {
    "duration": 27,
    "start_time": "2023-11-12T09:08:31.511Z"
   },
   {
    "duration": 51,
    "start_time": "2023-11-12T09:08:31.539Z"
   },
   {
    "duration": 31,
    "start_time": "2023-11-12T09:08:31.592Z"
   },
   {
    "duration": 183,
    "start_time": "2023-11-12T09:08:31.624Z"
   },
   {
    "duration": 100,
    "start_time": "2023-11-12T09:08:31.809Z"
   },
   {
    "duration": 7,
    "start_time": "2023-11-12T09:08:31.911Z"
   },
   {
    "duration": 46,
    "start_time": "2023-11-12T09:08:31.919Z"
   },
   {
    "duration": 158,
    "start_time": "2023-11-12T09:08:31.966Z"
   },
   {
    "duration": 18,
    "start_time": "2023-11-12T09:08:32.126Z"
   },
   {
    "duration": 184,
    "start_time": "2023-11-12T09:08:32.146Z"
   },
   {
    "duration": 21,
    "start_time": "2023-11-12T09:08:32.331Z"
   },
   {
    "duration": 179,
    "start_time": "2023-11-12T09:08:32.357Z"
   },
   {
    "duration": 10,
    "start_time": "2023-11-12T09:08:32.537Z"
   },
   {
    "duration": 44,
    "start_time": "2023-11-12T09:08:32.548Z"
   },
   {
    "duration": 14,
    "start_time": "2023-11-12T09:08:32.593Z"
   },
   {
    "duration": 81,
    "start_time": "2023-11-12T09:08:32.608Z"
   },
   {
    "duration": 260,
    "start_time": "2023-11-12T09:08:32.690Z"
   },
   {
    "duration": 188,
    "start_time": "2023-11-12T09:08:32.952Z"
   },
   {
    "duration": 193,
    "start_time": "2023-11-12T09:08:33.143Z"
   },
   {
    "duration": 29,
    "start_time": "2023-11-12T09:08:33.342Z"
   },
   {
    "duration": 38,
    "start_time": "2023-11-12T09:08:33.373Z"
   },
   {
    "duration": 33,
    "start_time": "2023-11-12T09:08:33.413Z"
   },
   {
    "duration": 164,
    "start_time": "2023-11-12T09:08:33.448Z"
   },
   {
    "duration": 10,
    "start_time": "2023-11-12T09:08:33.613Z"
   },
   {
    "duration": 32,
    "start_time": "2023-11-12T09:08:33.624Z"
   },
   {
    "duration": 273,
    "start_time": "2023-11-12T09:08:33.657Z"
   },
   {
    "duration": 15,
    "start_time": "2023-11-12T09:08:33.931Z"
   },
   {
    "duration": 16,
    "start_time": "2023-11-12T09:08:33.949Z"
   },
   {
    "duration": 28,
    "start_time": "2023-11-12T09:08:33.967Z"
   },
   {
    "duration": 41,
    "start_time": "2023-11-12T09:08:33.996Z"
   },
   {
    "duration": 21,
    "start_time": "2023-11-12T09:08:34.039Z"
   },
   {
    "duration": 1913,
    "start_time": "2023-11-12T09:08:34.062Z"
   },
   {
    "duration": 14,
    "start_time": "2023-11-12T09:08:35.976Z"
   },
   {
    "duration": 89,
    "start_time": "2023-11-12T09:08:35.992Z"
   },
   {
    "duration": 4,
    "start_time": "2023-11-12T09:10:08.012Z"
   },
   {
    "duration": 5,
    "start_time": "2023-11-12T09:10:55.869Z"
   },
   {
    "duration": 4,
    "start_time": "2023-11-12T09:11:04.325Z"
   },
   {
    "duration": 4,
    "start_time": "2023-11-12T09:11:15.478Z"
   },
   {
    "duration": 4,
    "start_time": "2023-11-12T09:11:22.412Z"
   },
   {
    "duration": 3,
    "start_time": "2023-11-12T09:11:29.927Z"
   },
   {
    "duration": 6,
    "start_time": "2023-11-12T09:11:38.164Z"
   },
   {
    "duration": 4,
    "start_time": "2023-11-12T09:11:45.022Z"
   },
   {
    "duration": 6,
    "start_time": "2023-11-12T09:11:52.756Z"
   },
   {
    "duration": 5,
    "start_time": "2023-11-12T09:14:27.204Z"
   },
   {
    "duration": 4,
    "start_time": "2023-11-12T09:14:37.114Z"
   },
   {
    "duration": 5,
    "start_time": "2023-11-12T09:19:42.252Z"
   },
   {
    "duration": 83,
    "start_time": "2023-11-12T09:27:13.752Z"
   },
   {
    "duration": 77,
    "start_time": "2023-11-12T09:27:21.154Z"
   },
   {
    "duration": 140,
    "start_time": "2023-11-12T09:28:00.039Z"
   },
   {
    "duration": 38,
    "start_time": "2023-11-12T09:28:07.575Z"
   },
   {
    "duration": 12,
    "start_time": "2023-11-12T09:30:34.895Z"
   },
   {
    "duration": 80,
    "start_time": "2023-11-12T09:30:46.125Z"
   },
   {
    "duration": 59,
    "start_time": "2023-11-12T09:32:13.243Z"
   },
   {
    "duration": 110,
    "start_time": "2023-11-12T09:34:40.703Z"
   },
   {
    "duration": 122,
    "start_time": "2023-11-12T09:35:40.147Z"
   },
   {
    "duration": 112,
    "start_time": "2023-11-12T09:35:47.607Z"
   },
   {
    "duration": 106,
    "start_time": "2023-11-12T09:36:14.648Z"
   },
   {
    "duration": 15,
    "start_time": "2023-11-12T09:36:46.956Z"
   },
   {
    "duration": 72,
    "start_time": "2023-11-12T09:40:07.736Z"
   },
   {
    "duration": 44,
    "start_time": "2023-11-12T09:40:19.311Z"
   },
   {
    "duration": 36,
    "start_time": "2023-11-12T09:40:35.384Z"
   },
   {
    "duration": 1024,
    "start_time": "2023-11-12T11:34:17.672Z"
   },
   {
    "duration": 3,
    "start_time": "2023-11-12T11:34:18.698Z"
   },
   {
    "duration": 78,
    "start_time": "2023-11-12T11:34:18.702Z"
   },
   {
    "duration": 40,
    "start_time": "2023-11-12T11:34:18.782Z"
   },
   {
    "duration": 26,
    "start_time": "2023-11-12T11:34:18.823Z"
   },
   {
    "duration": 7,
    "start_time": "2023-11-12T11:34:18.850Z"
   },
   {
    "duration": 9,
    "start_time": "2023-11-12T11:34:18.858Z"
   },
   {
    "duration": 11,
    "start_time": "2023-11-12T11:34:18.868Z"
   },
   {
    "duration": 13,
    "start_time": "2023-11-12T11:34:18.880Z"
   },
   {
    "duration": 5,
    "start_time": "2023-11-12T11:34:18.896Z"
   },
   {
    "duration": 5,
    "start_time": "2023-11-12T11:34:18.902Z"
   },
   {
    "duration": 187,
    "start_time": "2023-11-12T11:34:18.909Z"
   },
   {
    "duration": 5,
    "start_time": "2023-11-12T11:34:19.097Z"
   },
   {
    "duration": 6,
    "start_time": "2023-11-12T11:34:19.103Z"
   },
   {
    "duration": 16,
    "start_time": "2023-11-12T11:34:19.111Z"
   },
   {
    "duration": 30,
    "start_time": "2023-11-12T11:34:19.129Z"
   },
   {
    "duration": 5,
    "start_time": "2023-11-12T11:34:19.161Z"
   },
   {
    "duration": 15,
    "start_time": "2023-11-12T11:34:19.167Z"
   },
   {
    "duration": 5,
    "start_time": "2023-11-12T11:34:19.184Z"
   },
   {
    "duration": 164,
    "start_time": "2023-11-12T11:34:19.190Z"
   },
   {
    "duration": 96,
    "start_time": "2023-11-12T11:34:19.356Z"
   },
   {
    "duration": 6,
    "start_time": "2023-11-12T11:34:19.454Z"
   },
   {
    "duration": 20,
    "start_time": "2023-11-12T11:34:19.461Z"
   },
   {
    "duration": 156,
    "start_time": "2023-11-12T11:34:19.482Z"
   },
   {
    "duration": 14,
    "start_time": "2023-11-12T11:34:19.639Z"
   },
   {
    "duration": 158,
    "start_time": "2023-11-12T11:34:19.654Z"
   },
   {
    "duration": 9,
    "start_time": "2023-11-12T11:34:19.813Z"
   },
   {
    "duration": 159,
    "start_time": "2023-11-12T11:34:19.824Z"
   },
   {
    "duration": 7,
    "start_time": "2023-11-12T11:34:19.985Z"
   },
   {
    "duration": 48,
    "start_time": "2023-11-12T11:34:19.994Z"
   },
   {
    "duration": 3,
    "start_time": "2023-11-12T11:34:20.044Z"
   },
   {
    "duration": 24,
    "start_time": "2023-11-12T11:34:20.048Z"
   },
   {
    "duration": 225,
    "start_time": "2023-11-12T11:34:20.073Z"
   },
   {
    "duration": 162,
    "start_time": "2023-11-12T11:34:20.300Z"
   },
   {
    "duration": 158,
    "start_time": "2023-11-12T11:34:20.463Z"
   },
   {
    "duration": 31,
    "start_time": "2023-11-12T11:34:20.622Z"
   },
   {
    "duration": 26,
    "start_time": "2023-11-12T11:34:20.654Z"
   },
   {
    "duration": 9,
    "start_time": "2023-11-12T11:34:20.682Z"
   },
   {
    "duration": 173,
    "start_time": "2023-11-12T11:34:20.692Z"
   },
   {
    "duration": 7,
    "start_time": "2023-11-12T11:34:20.866Z"
   },
   {
    "duration": 10,
    "start_time": "2023-11-12T11:34:20.875Z"
   },
   {
    "duration": 220,
    "start_time": "2023-11-12T11:34:20.887Z"
   },
   {
    "duration": 7,
    "start_time": "2023-11-12T11:34:21.109Z"
   },
   {
    "duration": 6,
    "start_time": "2023-11-12T11:34:21.118Z"
   },
   {
    "duration": 27,
    "start_time": "2023-11-12T11:34:21.125Z"
   },
   {
    "duration": 4,
    "start_time": "2023-11-12T11:34:21.154Z"
   },
   {
    "duration": 10,
    "start_time": "2023-11-12T11:34:21.160Z"
   },
   {
    "duration": 1601,
    "start_time": "2023-11-12T11:34:21.171Z"
   },
   {
    "duration": 4,
    "start_time": "2023-11-12T11:34:22.773Z"
   },
   {
    "duration": 33,
    "start_time": "2023-11-12T11:34:22.778Z"
   },
   {
    "duration": 4,
    "start_time": "2023-11-12T11:34:22.813Z"
   },
   {
    "duration": 1251,
    "start_time": "2024-01-26T07:32:06.203Z"
   },
   {
    "duration": 3,
    "start_time": "2024-01-26T07:32:07.456Z"
   },
   {
    "duration": 147,
    "start_time": "2024-01-26T07:32:07.461Z"
   },
   {
    "duration": 179,
    "start_time": "2024-01-26T07:32:07.610Z"
   },
   {
    "duration": 71,
    "start_time": "2024-01-26T07:32:07.791Z"
   },
   {
    "duration": 7,
    "start_time": "2024-01-26T07:32:07.864Z"
   },
   {
    "duration": 29,
    "start_time": "2024-01-26T07:32:07.872Z"
   },
   {
    "duration": 21,
    "start_time": "2024-01-26T07:32:07.902Z"
   },
   {
    "duration": 13,
    "start_time": "2024-01-26T07:32:07.924Z"
   },
   {
    "duration": 16,
    "start_time": "2024-01-26T07:32:07.939Z"
   },
   {
    "duration": 19,
    "start_time": "2024-01-26T07:32:07.956Z"
   },
   {
    "duration": 189,
    "start_time": "2024-01-26T07:32:07.977Z"
   },
   {
    "duration": 7,
    "start_time": "2024-01-26T07:32:08.167Z"
   },
   {
    "duration": 30,
    "start_time": "2024-01-26T07:32:08.177Z"
   },
   {
    "duration": 25,
    "start_time": "2024-01-26T07:32:08.209Z"
   },
   {
    "duration": 10,
    "start_time": "2024-01-26T07:32:08.235Z"
   },
   {
    "duration": 9,
    "start_time": "2024-01-26T07:32:08.246Z"
   },
   {
    "duration": 20,
    "start_time": "2024-01-26T07:32:08.257Z"
   },
   {
    "duration": 14,
    "start_time": "2024-01-26T07:32:08.278Z"
   },
   {
    "duration": 156,
    "start_time": "2024-01-26T07:32:08.293Z"
   },
   {
    "duration": 102,
    "start_time": "2024-01-26T07:32:08.450Z"
   },
   {
    "duration": 9,
    "start_time": "2024-01-26T07:32:08.553Z"
   },
   {
    "duration": 22,
    "start_time": "2024-01-26T07:32:08.573Z"
   },
   {
    "duration": 168,
    "start_time": "2024-01-26T07:32:08.596Z"
   },
   {
    "duration": 11,
    "start_time": "2024-01-26T07:32:08.766Z"
   },
   {
    "duration": 187,
    "start_time": "2024-01-26T07:32:08.778Z"
   },
   {
    "duration": 13,
    "start_time": "2024-01-26T07:32:08.967Z"
   },
   {
    "duration": 177,
    "start_time": "2024-01-26T07:32:08.982Z"
   },
   {
    "duration": 18,
    "start_time": "2024-01-26T07:32:09.160Z"
   },
   {
    "duration": 35,
    "start_time": "2024-01-26T07:32:09.179Z"
   },
   {
    "duration": 3,
    "start_time": "2024-01-26T07:32:09.216Z"
   },
   {
    "duration": 39,
    "start_time": "2024-01-26T07:32:09.220Z"
   },
   {
    "duration": 233,
    "start_time": "2024-01-26T07:32:09.273Z"
   },
   {
    "duration": 171,
    "start_time": "2024-01-26T07:32:09.508Z"
   },
   {
    "duration": 182,
    "start_time": "2024-01-26T07:32:09.680Z"
   },
   {
    "duration": 33,
    "start_time": "2024-01-26T07:32:09.864Z"
   },
   {
    "duration": 29,
    "start_time": "2024-01-26T07:32:09.898Z"
   },
   {
    "duration": 12,
    "start_time": "2024-01-26T07:32:09.929Z"
   },
   {
    "duration": 186,
    "start_time": "2024-01-26T07:32:09.973Z"
   },
   {
    "duration": 16,
    "start_time": "2024-01-26T07:32:10.160Z"
   },
   {
    "duration": 17,
    "start_time": "2024-01-26T07:32:10.182Z"
   },
   {
    "duration": 240,
    "start_time": "2024-01-26T07:32:10.200Z"
   },
   {
    "duration": 9,
    "start_time": "2024-01-26T07:32:10.441Z"
   },
   {
    "duration": 12,
    "start_time": "2024-01-26T07:32:10.451Z"
   },
   {
    "duration": 7,
    "start_time": "2024-01-26T07:32:10.473Z"
   },
   {
    "duration": 8,
    "start_time": "2024-01-26T07:32:10.482Z"
   },
   {
    "duration": 23,
    "start_time": "2024-01-26T07:32:10.491Z"
   },
   {
    "duration": 1813,
    "start_time": "2024-01-26T07:32:10.515Z"
   },
   {
    "duration": 4,
    "start_time": "2024-01-26T07:32:12.330Z"
   },
   {
    "duration": 83,
    "start_time": "2024-01-26T07:32:12.335Z"
   },
   {
    "duration": 6,
    "start_time": "2024-01-26T07:32:12.421Z"
   }
  ],
  "kernelspec": {
   "display_name": "Python 3 (ipykernel)",
   "language": "python",
   "name": "python3"
  },
  "language_info": {
   "codemirror_mode": {
    "name": "ipython",
    "version": 3
   },
   "file_extension": ".py",
   "mimetype": "text/x-python",
   "name": "python",
   "nbconvert_exporter": "python",
   "pygments_lexer": "ipython3",
   "version": "3.9.5"
  },
  "toc": {
   "base_numbering": 1,
   "nav_menu": {},
   "number_sections": true,
   "sideBar": true,
   "skip_h1_title": true,
   "title_cell": "Table of Contents",
   "title_sidebar": "Contents",
   "toc_cell": false,
   "toc_position": {},
   "toc_section_display": true,
   "toc_window_display": false
  }
 },
 "nbformat": 4,
 "nbformat_minor": 5
}
